{
  "nbformat": 4,
  "nbformat_minor": 0,
  "metadata": {
    "colab": {
      "name": "Topic Modelling.ipynb",
      "provenance": [],
      "collapsed_sections": []
    },
    "kernelspec": {
      "name": "python3",
      "display_name": "Python 3"
    }
  },
  "cells": [
    {
      "cell_type": "code",
      "metadata": {
        "id": "uKI0Du2L-c8D",
        "colab_type": "code",
        "colab": {
          "base_uri": "https://localhost:8080/",
          "height": 34
        },
        "outputId": "d6958f4c-8dcb-4a07-a3bb-018ee240a49b"
      },
      "source": [
        "#connecting to google drive\n",
        "from google.colab import drive\n",
        "drive.mount('/gdrive')"
      ],
      "execution_count": null,
      "outputs": [
        {
          "output_type": "stream",
          "text": [
            "Drive already mounted at /gdrive; to attempt to forcibly remount, call drive.mount(\"/gdrive\", force_remount=True).\n"
          ],
          "name": "stdout"
        }
      ]
    },
    {
      "cell_type": "code",
      "metadata": {
        "id": "ZmgkIThV-ss7",
        "colab_type": "code",
        "colab": {}
      },
      "source": [
        "%cd path\n",
        "!ls"
      ],
      "execution_count": null,
      "outputs": []
    },
    {
      "cell_type": "markdown",
      "metadata": {
        "id": "fkCW5jhvicWa",
        "colab_type": "text"
      },
      "source": [
        "#### **Text Cleaning**"
      ]
    },
    {
      "cell_type": "code",
      "metadata": {
        "id": "YFBXVp64_Az_",
        "colab_type": "code",
        "colab": {}
      },
      "source": [
        "#cleaning the text and returning a list of tokens\n",
        "import spacy\n",
        "spacy.load('en')\n",
        "from spacy.lang.en import English\n",
        "parser = English()\n",
        "def tokenize(text):\n",
        "    lda_tokens = []\n",
        "    tokens = parser(text)\n",
        "    for token in tokens:\n",
        "        if token.orth_.isspace():\n",
        "            continue\n",
        "        elif token.like_url:\n",
        "            lda_tokens.append('URL') #removing any links in the text\n",
        "        elif token.orth_.startswith('@'):\n",
        "            lda_tokens.append('SCREEN_NAME')\n",
        "        else:\n",
        "            lda_tokens.append(token.lower_) #converting to lowercase\n",
        "    return lda_tokens"
      ],
      "execution_count": null,
      "outputs": []
    },
    {
      "cell_type": "code",
      "metadata": {
        "id": "Ht8Wm93-_2fi",
        "colab_type": "code",
        "colab": {
          "base_uri": "https://localhost:8080/",
          "height": 51
        },
        "outputId": "84117f5f-cc99-4459-bf79-f5ea0997be0b"
      },
      "source": [
        "#Lemmatization\n",
        "import nltk\n",
        "nltk.download('wordnet')\n",
        "from nltk.corpus import wordnet as wn\n",
        "def get_lemma(word):\n",
        "    lemma = wn.morphy(word)\n",
        "    if lemma is None:\n",
        "        return word\n",
        "    else:\n",
        "        return lemma\n",
        "    \n",
        "from nltk.stem.wordnet import WordNetLemmatizer\n",
        "def get_lemma2(word):\n",
        "    return WordNetLemmatizer().lemmatize(word)"
      ],
      "execution_count": null,
      "outputs": [
        {
          "output_type": "stream",
          "text": [
            "[nltk_data] Downloading package wordnet to /root/nltk_data...\n",
            "[nltk_data]   Package wordnet is already up-to-date!\n"
          ],
          "name": "stdout"
        }
      ]
    },
    {
      "cell_type": "code",
      "metadata": {
        "id": "XJ8yvxlhSGAH",
        "colab_type": "code",
        "colab": {
          "base_uri": "https://localhost:8080/",
          "height": 51
        },
        "outputId": "9b82a49c-0527-473d-e7b9-acf9933cbf24"
      },
      "source": [
        "nltk.download('stopwords')\n",
        "en_stop = set(nltk.corpus.stopwords.words('english'))"
      ],
      "execution_count": null,
      "outputs": [
        {
          "output_type": "stream",
          "text": [
            "[nltk_data] Downloading package stopwords to /root/nltk_data...\n",
            "[nltk_data]   Package stopwords is already up-to-date!\n"
          ],
          "name": "stdout"
        }
      ]
    },
    {
      "cell_type": "code",
      "metadata": {
        "id": "nuSWfn7oSJiw",
        "colab_type": "code",
        "colab": {}
      },
      "source": [
        "#removal of stopwords\n",
        "def prepare_text_for_lda(text):\n",
        "    tokens = tokenize(text)\n",
        "    tokens = [token for token in tokens if len(token) > 4]\n",
        "    tokens = [token for token in tokens if token not in en_stop]\n",
        "    tokens = [get_lemma(token) for token in tokens]\n",
        "    return tokens"
      ],
      "execution_count": null,
      "outputs": []
    },
    {
      "cell_type": "code",
      "metadata": {
        "id": "N99rVmu7TZFV",
        "colab_type": "code",
        "colab": {
          "base_uri": "https://localhost:8080/",
          "height": 1000
        },
        "outputId": "09d4a0f4-454d-4ca7-bb1e-96382b6e6f17"
      },
      "source": [
        "#Preparing data for LDA\n",
        "import random\n",
        "text_data = []\n",
        "with open('Daughter of Damascus _ Alexander Street, a ProQuest Company.txt') as f:\n",
        "    for line in f:\n",
        "        tokens = prepare_text_for_lda(line)\n",
        "        if random.random() > .99:\n",
        "            print(tokens)\n",
        "            text_data.append(tokens)"
      ],
      "execution_count": null,
      "outputs": [
        {
          "output_type": "stream",
          "text": [
            "['moment', 'honest', 'include', 'touch', 'reveal']\n",
            "['siham', 'purpose', 'writing', 'wholly']\n",
            "['schooling', 'receive', 'training', 'telecommunication', 'allow']\n",
            "['syrian', 'revolution']\n",
            "['staris', 'casting', 'aspersion', 'daughter', 'painstakingly']\n",
            "['responsible', 'entertain', 'others', 'indulge']\n",
            "['boldiness', 'important', 'characteristic']\n",
            "['siham', 'venture', 'try', 'authentic', 'picture', 'possible']\n",
            "[]\n",
            "['common', 'soldier', 'perspective', 'siham', 'father', 'relate', 'defeat']\n",
            "['build', 'house', 'conform', 'bodily', 'spiritual', 'need']\n",
            "['siory', 'change', 'repeat', 'middle']\n",
            "[]\n",
            "['damascus']\n",
            "['whore', 'vegetable']\n",
            "['lover', 'become', 'wonderful']\n",
            "['cling', 'genuine', 'order', 'change']\n",
            "['poking', 'boil', 'ihways']\n",
            "['cotton', 'lady', 'bizuriyya']\n",
            "['round', 'third', 'round', 'whole', 'course', 'complete']\n",
            "['semorat']\n",
            "['answer', 'leave', 'bark', 'usclessly']\n",
            "['along', 'outside', 'angry', 'sister', 'really']\n",
            "[]\n",
            "[]\n",
            "[]\n",
            "['provide', 'amusement', 'others', 'would', 'waich', 'group', 'chile']\n",
            "['white', 'white', 'child', 'ofthe', 'singing']\n",
            "['profits']\n",
            "['almost', 'every', 'friday', 'would', 'spend', 'different', 'place', 'invite', 'reaives']\n",
            "['sweet', 'sesame', 'paste']\n",
            "['smile', 'would', 'consider', 'hope', 'obvious', 'conceal', 'walking', 'sleep', 'realize']\n",
            "[]\n",
            "['mother', 'happy']\n",
            "[]\n",
            "['daughter', 'kibbi', 'yoghurt']\n",
            "[]\n",
            "[]\n",
            "[]\n",
            "['disappear', 'behind', 'white', 'curtain', 'veil']\n",
            "['sound', 'play', 'conductor', 'lovely', 'stoke']\n",
            "[]\n",
            "['feather', 'tickle']\n",
            "['would', 'green', 'productive', 'sprinkle']\n",
            "['threads', 'guest', 'enter', 'rooms', 'black', 'malaya']\n",
            "['would']\n",
            "['disturb', 'sleeping']\n",
            "['married', 'sister', 'eldest', 'paternal', 'mather']\n",
            "[]\n",
            "[]\n",
            "['eoough']\n",
            "['mating', 'could', 'approach']\n",
            "['chadija', 'answer', 'brief', 'plan']\n",
            "['young', 'woman', 'running', 'woman', 'party']\n",
            "[]\n",
            "[]\n",
            "['wedding', 'without', 'cream', 'without', 'colored', 'sweet', 'wedding']\n",
            "['jasmine', 'complain']\n",
            "['interrupt', 'thatthe', 'bride', 'young', 'fifteen', 'years']\n",
            "['dothes', 'young', 'open', 'everything', 'brand']\n",
            "['bridegroom', 'clothes', 'wedding', 'clothes']\n",
            "[]\n",
            "[]\n",
            "[]\n",
            "['bride', 'family', 'remain', 'ceremony']\n",
            "[]\n",
            "[]\n",
            "['trough', 'graves', 'ofthe', 'expression', 'isthe']\n",
            "['woman', 'call', 'forthe', 'congratulation']\n",
            "['clapping', 'sweet', 'laughter', 'fill', 'arouse', 'curiosity']\n",
            "['pass', 'mother', 'pour', 'sugar']\n",
            "['jamal', 'pasha', 'murderer', 'rebel', 'marje', 'square']\n",
            "[]\n",
            "['electrical', 'wire', 'donkey', 'going']\n",
            "['popular', 'symphony', 'perform', 'compose']\n",
            "['colloquial', 'accent']\n",
            "[]\n",
            "['seched', 'directly', 'beother', 'house']\n",
            "['mazza', 'pickle', 'olive']\n",
            "['garlic', 'lemon', 'cucumber', 'lettuce', 'start', 'person']\n",
            "['koran', 'shaikh', 'would', 'pillow', 'place', 'sheepskin']\n",
            "[]\n",
            "['lightening', 'damascus']\n",
            "[]\n",
            "[]\n",
            "[]\n",
            "['ibrahim', 'biess', 'hands', 'doctor']\n",
            "[]\n",
            "[]\n",
            "['fahmi', 'doctor']\n",
            "['health', 'sleep', 'cemetery']\n",
            "['doctor', 'laugh', 'court']\n",
            "[]\n",
            "[]\n",
            "['ofthe', 'relative', 'funeral', 'invite', 'present', 'SCREEN_NAME']\n",
            "[]\n",
            "[]\n",
            "['hands', 'sledgehammer', 'break']\n",
            "[]\n",
            "[]\n",
            "['story', 'revea']\n",
            "[]\n",
            "['antar', 'kasim', 'break']\n",
            "['cousin', 'offer', 'marry', 'mafry']\n",
            "[]\n",
            "['velcomed', 'walk', 'recite', 'bible']\n",
            "['storyteller', 'kassim', 'yawn']\n",
            "[]\n",
            "['stint', 'central', 'flank', 'right', 'small', 'rooms']\n",
            "[]\n",
            "[]\n",
            "['something', 'kind', 'bird']\n",
            "[]\n",
            "['saving', 'usually', 'large', 'workshop', 'fifty', 'loom']\n",
            "['older', 'turn', 'consider', 'provider']\n",
            "['military', 'committee', 'enter', 'large']\n",
            "[]\n",
            "[]\n",
            "[]\n",
            "['suddenly', 'general', 'passing', 'begging']\n",
            "['telegraph', 'company', 'reply']\n",
            "[]\n",
            "['pasha', 'office', 'chief', 'staff', 'mahmud', 'shukat']\n",
            "['whole', 'mountain']\n",
            "['continue', 'reach', 'edirne']\n",
            "[]\n",
            "[]\n",
            "['truth', 'catle', 'hindrance', 'camel']\n",
            "[]\n",
            "['collapse', 'abandon', 'desert']\n",
            "['exclaim']\n",
            "['officer', 'order', 'given', 'soldier']\n",
            "['mates', 'inside', 'barb', 'three', 'month']\n",
            "['form', 'battalion', 'hundred', 'office']\n",
            "['mosaiues', 'become', 'night', 'bread', 'front']\n",
            "['rape', 'country', 'grape', 'grow']\n"
          ],
          "name": "stdout"
        }
      ]
    },
    {
      "cell_type": "markdown",
      "metadata": {
        "id": "IC-VYrLZjFZw",
        "colab_type": "text"
      },
      "source": [
        "We create a dictionary from the data and then convert it to a Bag-of-word corpus and then save the dictionary and corpus for future use.\n",
        "\n",
        "**What is a Bag-of-Word model?**                                        \n",
        "In this model, a text (such as a sentence or a document) is represented as the bag (multiset) of its words, disregarding grammar and even word order but keeping multiplicity. \n",
        "\n",
        "ex :-                                                                   \n",
        "John likes to watch movies. Mary likes movies too.                       \n",
        "BoW1 = {\"John\":1,\"likes\":2,\"to\":1,\"watch\":1,\"movies\":2,\"Mary\":1,\"too\":1};"
      ]
    },
    {
      "cell_type": "code",
      "metadata": {
        "id": "D3B2UPYGThoy",
        "colab_type": "code",
        "colab": {
          "base_uri": "https://localhost:8080/",
          "height": 71
        },
        "outputId": "8335dc16-e1a2-4ce4-d338-8bb8097cde76"
      },
      "source": [
        "from gensim import corpora\n",
        "dictionary = corpora.Dictionary(text_data)\n",
        "corpus = [dictionary.doc2bow(text) for text in text_data]\n",
        "\n",
        "import pickle\n",
        "pickle.dump(corpus, open('corpus.pkl', 'wb'))\n",
        "dictionary.save('dictionary.gensim')"
      ],
      "execution_count": null,
      "outputs": [
        {
          "output_type": "stream",
          "text": [
            "/usr/local/lib/python3.6/dist-packages/smart_open/smart_open_lib.py:254: UserWarning: This function is deprecated, use smart_open.open instead. See the migration notes for details: https://github.com/RaRe-Technologies/smart_open/blob/master/README.rst#migrating-to-the-new-open-function\n",
            "  'See the migration notes for details: %s' % _MIGRATION_NOTES_URL\n"
          ],
          "name": "stderr"
        }
      ]
    },
    {
      "cell_type": "code",
      "metadata": {
        "id": "q99QT4B9USNH",
        "colab_type": "code",
        "colab": {
          "base_uri": "https://localhost:8080/",
          "height": 156
        },
        "outputId": "f0c7f12a-1a4b-4d51-b3c8-9c89a4250719"
      },
      "source": [
        "#LDA to find 5 topics in the data\n",
        "\n",
        "import gensim\n",
        "NUM_TOPICS = 5\n",
        "ldamodel = gensim.models.ldamodel.LdaModel(corpus, num_topics = NUM_TOPICS, id2word=dictionary, passes=15)\n",
        "ldamodel.save('model5.gensim')\n",
        "topics = ldamodel.print_topics(num_words=4)\n",
        "for topic in topics:\n",
        "    print(topic)"
      ],
      "execution_count": null,
      "outputs": [
        {
          "output_type": "stream",
          "text": [
            "(0, '0.025*\"would\" + 0.017*\"consider\" + 0.017*\"damascus\" + 0.009*\"sleep\"')\n",
            "(1, '0.015*\"young\" + 0.015*\"white\" + 0.015*\"siham\" + 0.015*\"others\"')\n",
            "(2, '0.018*\"clothes\" + 0.018*\"mother\" + 0.010*\"would\" + 0.010*\"become\"')\n",
            "(3, '0.017*\"large\" + 0.009*\"sweet\" + 0.009*\"hands\" + 0.009*\"ofthe\"')\n",
            "(4, '0.024*\"woman\" + 0.016*\"wedding\" + 0.016*\"doctor\" + 0.016*\"without\"')\n"
          ],
          "name": "stdout"
        },
        {
          "output_type": "stream",
          "text": [
            "/usr/local/lib/python3.6/dist-packages/smart_open/smart_open_lib.py:254: UserWarning: This function is deprecated, use smart_open.open instead. See the migration notes for details: https://github.com/RaRe-Technologies/smart_open/blob/master/README.rst#migrating-to-the-new-open-function\n",
            "  'See the migration notes for details: %s' % _MIGRATION_NOTES_URL\n"
          ],
          "name": "stderr"
        }
      ]
    },
    {
      "cell_type": "code",
      "metadata": {
        "id": "g44eKoWIWorc",
        "colab_type": "code",
        "colab": {
          "base_uri": "https://localhost:8080/",
          "height": 71
        },
        "outputId": "dfb89863-447d-4c84-c22e-f794411ac0f7"
      },
      "source": [
        "#LDA to a new document\n",
        "with open('Fantasia_ An Algerian Cavalcade _ Alexander Street, a ProQuest Company.txt','r') as f:\n",
        "  new_doc = f.read().replace('\\n', '')\n",
        "  new_doc = prepare_text_for_lda(new_doc)\n",
        "  new_doc_bow = dictionary.doc2bow(new_doc)\n",
        "  print(new_doc_bow)\n",
        "  print(ldamodel.get_document_topics(new_doc_bow))"
      ],
      "execution_count": null,
      "outputs": [
        {
          "output_type": "stream",
          "text": [
            "[(1, 14), (2, 25), (3, 6), (4, 17), (5, 1), (8, 35), (9, 11), (10, 21), (11, 1), (13, 1), (14, 7), (17, 1), (18, 55), (22, 5), (23, 26), (24, 1), (26, 1), (27, 6), (28, 1), (29, 7), (30, 13), (31, 18), (32, 8), (33, 3), (34, 6), (35, 93), (37, 8), (38, 52), (40, 6), (41, 1), (42, 70), (43, 7), (44, 1), (45, 12), (46, 21), (47, 13), (49, 1), (50, 2), (52, 35), (53, 8), (55, 6), (57, 25), (62, 1), (63, 11), (64, 5), (65, 12), (66, 24), (67, 12), (68, 22), (70, 5), (72, 38), (74, 23), (75, 1), (76, 16), (77, 8), (78, 54), (81, 15), (82, 4), (84, 88), (85, 72), (86, 84), (87, 1), (88, 27), (90, 13), (91, 6), (92, 72), (93, 4), (94, 2), (95, 64), (97, 31), (98, 1), (100, 6), (101, 4), (102, 6), (103, 6), (105, 17), (106, 23), (107, 12), (108, 14), (109, 7), (110, 103), (113, 38), (114, 3), (115, 17), (116, 22), (120, 43), (121, 2), (124, 14), (126, 2), (127, 10), (128, 17), (129, 11), (131, 5), (132, 1), (133, 3), (134, 5), (135, 10), (136, 19), (138, 6), (140, 16), (141, 110), (143, 7), (145, 2), (146, 4), (147, 14), (148, 250), (149, 75), (152, 24), (153, 52), (154, 3), (156, 21), (157, 11), (158, 5), (159, 10), (160, 69), (161, 1), (163, 25), (164, 12), (165, 1), (166, 8), (167, 8), (168, 42), (169, 33), (170, 15), (171, 1), (172, 3), (174, 21), (176, 11), (177, 5), (179, 6), (180, 16), (181, 7), (182, 17), (183, 2), (184, 1), (187, 1), (188, 2), (189, 6), (190, 1), (191, 1), (193, 34), (194, 1), (195, 4), (196, 6), (197, 1), (199, 5), (202, 1), (205, 6), (208, 2), (209, 1), (210, 1), (211, 7), (212, 28), (214, 1), (219, 6), (220, 36), (221, 1), (223, 1), (224, 2), (225, 3), (226, 15), (227, 4), (228, 3), (229, 16), (230, 17), (231, 15), (234, 31), (237, 27), (239, 6), (240, 15), (242, 3), (244, 13), (250, 27), (251, 8), (253, 3), (255, 11), (256, 5), (257, 4), (258, 1), (262, 3), (264, 14), (266, 6), (267, 1), (268, 25), (269, 3), (270, 41), (271, 7), (272, 30), (274, 18), (276, 6), (278, 9), (279, 35), (280, 26), (282, 21), (283, 1), (286, 6), (287, 10), (288, 4), (289, 7), (290, 5), (291, 20), (292, 44), (293, 3), (294, 5), (295, 1), (296, 37), (297, 51), (298, 4), (299, 15), (300, 27), (301, 6), (302, 33), (304, 92), (305, 19), (306, 1), (307, 10), (308, 1)]\n",
            "[(0, 0.13409), (1, 0.26889622), (2, 0.19966424), (3, 0.14111173), (4, 0.25623778)]\n"
          ],
          "name": "stdout"
        }
      ]
    },
    {
      "cell_type": "code",
      "metadata": {
        "id": "9LYLcjDdYYuw",
        "colab_type": "code",
        "colab": {
          "base_uri": "https://localhost:8080/",
          "height": 122
        },
        "outputId": "64023ecd-2de9-4810-e9a5-f0797ca59a88"
      },
      "source": [
        "#LDA to find 3 topics in the data\n",
        "ldamodel = gensim.models.ldamodel.LdaModel(corpus, num_topics = 3, id2word=dictionary, passes=15)\n",
        "ldamodel.save('model3.gensim')\n",
        "topics = ldamodel.print_topics(num_words=4)\n",
        "for topic in topics:\n",
        "    print(topic)"
      ],
      "execution_count": null,
      "outputs": [
        {
          "output_type": "stream",
          "text": [
            "(0, '0.014*\"sweet\" + 0.010*\"wedding\" + 0.010*\"doctor\" + 0.009*\"siham\"')\n",
            "(1, '0.020*\"would\" + 0.011*\"woman\" + 0.011*\"young\" + 0.010*\"white\"')\n",
            "(2, '0.012*\"round\" + 0.012*\"soldier\" + 0.012*\"break\" + 0.007*\"whole\"')\n"
          ],
          "name": "stdout"
        },
        {
          "output_type": "stream",
          "text": [
            "/usr/local/lib/python3.6/dist-packages/smart_open/smart_open_lib.py:254: UserWarning: This function is deprecated, use smart_open.open instead. See the migration notes for details: https://github.com/RaRe-Technologies/smart_open/blob/master/README.rst#migrating-to-the-new-open-function\n",
            "  'See the migration notes for details: %s' % _MIGRATION_NOTES_URL\n"
          ],
          "name": "stderr"
        }
      ]
    },
    {
      "cell_type": "code",
      "metadata": {
        "id": "55iB7tL4ZcrU",
        "colab_type": "code",
        "colab": {
          "base_uri": "https://localhost:8080/",
          "height": 241
        },
        "outputId": "75d30aa2-bd2a-480f-a62c-113673e85970"
      },
      "source": [
        "ldamodel = gensim.models.ldamodel.LdaModel(corpus, num_topics = 10, id2word=dictionary, passes=15)\n",
        "ldamodel.save('model10.gensim')\n",
        "topics = ldamodel.print_topics(num_words=4)\n",
        "for topic in topics:\n",
        "    print(topic)"
      ],
      "execution_count": null,
      "outputs": [
        {
          "output_type": "stream",
          "text": [
            "(0, '0.021*\"order\" + 0.021*\"change\" + 0.021*\"soldier\" + 0.021*\"officer\"')\n",
            "(1, '0.040*\"clothes\" + 0.021*\"daughter\" + 0.021*\"consider\" + 0.021*\"provider\"')\n",
            "(2, '0.038*\"woman\" + 0.026*\"ofthe\" + 0.026*\"young\" + 0.013*\"bride\"')\n",
            "(3, '0.021*\"break\" + 0.021*\"house\" + 0.021*\"answer\" + 0.021*\"antar\"')\n",
            "(4, '0.030*\"mother\" + 0.016*\"office\" + 0.016*\"pasha\" + 0.016*\"bodily\"')\n",
            "(5, '0.048*\"would\" + 0.020*\"place\" + 0.020*\"become\" + 0.020*\"others\"')\n",
            "(6, '0.038*\"wedding\" + 0.038*\"without\" + 0.020*\"sweet\" + 0.020*\"mafry\"')\n",
            "(7, '0.033*\"enter\" + 0.033*\"large\" + 0.017*\"hands\" + 0.017*\"doctor\"')\n",
            "(8, '0.041*\"white\" + 0.028*\"sister\" + 0.015*\"start\" + 0.015*\"lettuce\"')\n",
            "(9, '0.038*\"damascus\" + 0.020*\"doctor\" + 0.020*\"siham\" + 0.020*\"chadija\"')\n"
          ],
          "name": "stdout"
        },
        {
          "output_type": "stream",
          "text": [
            "/usr/local/lib/python3.6/dist-packages/smart_open/smart_open_lib.py:254: UserWarning: This function is deprecated, use smart_open.open instead. See the migration notes for details: https://github.com/RaRe-Technologies/smart_open/blob/master/README.rst#migrating-to-the-new-open-function\n",
            "  'See the migration notes for details: %s' % _MIGRATION_NOTES_URL\n"
          ],
          "name": "stderr"
        }
      ]
    },
    {
      "cell_type": "code",
      "metadata": {
        "id": "MQCF5mTzZvKR",
        "colab_type": "code",
        "colab": {
          "base_uri": "https://localhost:8080/",
          "height": 374
        },
        "outputId": "ab2f74f7-e4d7-4677-909f-98af4647e312"
      },
      "source": [
        "!pip install pyldavis"
      ],
      "execution_count": null,
      "outputs": [
        {
          "output_type": "stream",
          "text": [
            "Requirement already satisfied: pyldavis in /usr/local/lib/python3.6/dist-packages (2.1.2)\n",
            "Requirement already satisfied: future in /usr/local/lib/python3.6/dist-packages (from pyldavis) (0.16.0)\n",
            "Requirement already satisfied: numpy>=1.9.2 in /usr/local/lib/python3.6/dist-packages (from pyldavis) (1.18.5)\n",
            "Requirement already satisfied: numexpr in /usr/local/lib/python3.6/dist-packages (from pyldavis) (2.7.1)\n",
            "Requirement already satisfied: jinja2>=2.7.2 in /usr/local/lib/python3.6/dist-packages (from pyldavis) (2.11.2)\n",
            "Requirement already satisfied: joblib>=0.8.4 in /usr/local/lib/python3.6/dist-packages (from pyldavis) (0.16.0)\n",
            "Requirement already satisfied: pytest in /usr/local/lib/python3.6/dist-packages (from pyldavis) (3.6.4)\n",
            "Requirement already satisfied: scipy>=0.18.0 in /usr/local/lib/python3.6/dist-packages (from pyldavis) (1.4.1)\n",
            "Requirement already satisfied: funcy in /usr/local/lib/python3.6/dist-packages (from pyldavis) (1.14)\n",
            "Requirement already satisfied: wheel>=0.23.0 in /usr/local/lib/python3.6/dist-packages (from pyldavis) (0.35.1)\n",
            "Requirement already satisfied: pandas>=0.17.0 in /usr/local/lib/python3.6/dist-packages (from pyldavis) (1.0.5)\n",
            "Requirement already satisfied: MarkupSafe>=0.23 in /usr/local/lib/python3.6/dist-packages (from jinja2>=2.7.2->pyldavis) (1.1.1)\n",
            "Requirement already satisfied: py>=1.5.0 in /usr/local/lib/python3.6/dist-packages (from pytest->pyldavis) (1.9.0)\n",
            "Requirement already satisfied: pluggy<0.8,>=0.5 in /usr/local/lib/python3.6/dist-packages (from pytest->pyldavis) (0.7.1)\n",
            "Requirement already satisfied: more-itertools>=4.0.0 in /usr/local/lib/python3.6/dist-packages (from pytest->pyldavis) (8.4.0)\n",
            "Requirement already satisfied: six>=1.10.0 in /usr/local/lib/python3.6/dist-packages (from pytest->pyldavis) (1.15.0)\n",
            "Requirement already satisfied: attrs>=17.4.0 in /usr/local/lib/python3.6/dist-packages (from pytest->pyldavis) (20.1.0)\n",
            "Requirement already satisfied: setuptools in /usr/local/lib/python3.6/dist-packages (from pytest->pyldavis) (49.6.0)\n",
            "Requirement already satisfied: atomicwrites>=1.0 in /usr/local/lib/python3.6/dist-packages (from pytest->pyldavis) (1.4.0)\n",
            "Requirement already satisfied: python-dateutil>=2.6.1 in /usr/local/lib/python3.6/dist-packages (from pandas>=0.17.0->pyldavis) (2.8.1)\n",
            "Requirement already satisfied: pytz>=2017.2 in /usr/local/lib/python3.6/dist-packages (from pandas>=0.17.0->pyldavis) (2018.9)\n"
          ],
          "name": "stdout"
        }
      ]
    },
    {
      "cell_type": "code",
      "metadata": {
        "id": "qfuBnwLnZicq",
        "colab_type": "code",
        "colab": {
          "base_uri": "https://localhost:8080/",
          "height": 915
        },
        "outputId": "2f3c0211-335b-453b-b792-f7ab2cff32d2"
      },
      "source": [
        "dictionary = gensim.corpora.Dictionary.load('dictionary.gensim')\n",
        "corpus = pickle.load(open('corpus.pkl', 'rb'))\n",
        "lda = gensim.models.ldamodel.LdaModel.load('model5.gensim')\n",
        "\n",
        "import pyLDAvis.gensim\n",
        "lda_display = pyLDAvis.gensim.prepare(lda, corpus, dictionary, sort_topics=False)\n",
        "pyLDAvis.display(lda_display)"
      ],
      "execution_count": null,
      "outputs": [
        {
          "output_type": "stream",
          "text": [
            "/usr/local/lib/python3.6/dist-packages/smart_open/smart_open_lib.py:254: UserWarning: This function is deprecated, use smart_open.open instead. See the migration notes for details: https://github.com/RaRe-Technologies/smart_open/blob/master/README.rst#migrating-to-the-new-open-function\n",
            "  'See the migration notes for details: %s' % _MIGRATION_NOTES_URL\n"
          ],
          "name": "stderr"
        },
        {
          "output_type": "execute_result",
          "data": {
            "text/html": [
              "\n",
              "<link rel=\"stylesheet\" type=\"text/css\" href=\"https://cdn.rawgit.com/bmabey/pyLDAvis/files/ldavis.v1.0.0.css\">\n",
              "\n",
              "\n",
              "<div id=\"ldavis_el7611405361614495682871991842\"></div>\n",
              "<script type=\"text/javascript\">\n",
              "\n",
              "var ldavis_el7611405361614495682871991842_data = {\"mdsDat\": {\"x\": [-0.008459962413820982, -0.1240776954103905, 0.0017543900689955074, 0.04996891225310213, 0.0808143555021139], \"y\": [-0.0666519588249985, 0.05882782020559557, -0.07448796783695388, -0.006938736677348426, 0.08925084313370518], \"topics\": [1, 2, 3, 4, 5], \"cluster\": [1, 1, 1, 1, 1], \"Freq\": [18.65218162536621, 24.18208122253418, 17.425477981567383, 19.608469009399414, 20.13178825378418]}, \"tinfo\": {\"Term\": [\"woman\", \"clothes\", \"mother\", \"consider\", \"damascus\", \"large\", \"wedding\", \"would\", \"without\", \"round\", \"rooms\", \"doctor\", \"siham\", \"others\", \"house\", \"white\", \"young\", \"become\", \"place\", \"change\", \"order\", \"invite\", \"sister\", \"enter\", \"hands\", \"break\", \"whole\", \"sweet\", \"possible\", \"venture\", \"consider\", \"damascus\", \"hope\", \"obvious\", \"spend\", \"different\", \"almost\", \"friday\", \"conceal\", \"reaives\", \"every\", \"smile\", \"walking\", \"realize\", \"square\", \"rebel\", \"murderer\", \"jamal\", \"marje\", \"eldest\", \"married\", \"mather\", \"paternal\", \"plan\", \"chadija\", \"form\", \"genuine\", \"older\", \"offer\", \"cling\", \"would\", \"sleep\", \"place\", \"answer\", \"invite\", \"pasha\", \"sister\", \"change\", \"order\", \"others\", \"house\", \"perspective\", \"father\", \"defeat\", \"common\", \"group\", \"amusement\", \"provide\", \"waich\", \"relate\", \"chile\", \"years\", \"fifteen\", \"staff\", \"spiritual\", \"mahmud\", \"need\", \"conform\", \"bodily\", \"build\", \"shukat\", \"thatthe\", \"chief\", \"interrupt\", \"touch\", \"open\", \"three\", \"mates\", \"month\", \"siham\", \"white\", \"young\", \"daughter\", \"soldier\", \"bride\", \"office\", \"clothes\", \"mother\", \"possible\", \"venture\", \"authentic\", \"try\", \"picture\", \"night\", \"receive\", \"lovely\", \"bread\", \"training\", \"sound\", \"schooling\", \"conductor\", \"mosaiues\", \"allow\", \"stoke\", \"front\", \"play\", \"telecommunication\", \"symphony\", \"bridegroom\", \"pour\", \"pass\", \"passing\", \"compose\", \"popular\", \"productive\", \"begging\", \"general\", \"sprinkle\", \"would\", \"become\", \"large\", \"fifty\", \"saving\", \"person\", \"start\", \"garlic\", \"fill\", \"arouse\", \"laughter\", \"usually\", \"cucumber\", \"pillow\", \"workshop\", \"loom\", \"curiosity\", \"shaikh\", \"lettuce\", \"clapping\", \"lemon\", \"sheepskin\", \"koran\", \"graves\", \"trough\", \"disappear\", \"veil\", \"isthe\", \"expression\", \"behind\", \"curtain\", \"committee\", \"sweet\", \"hands\", \"ofthe\", \"break\", \"woman\", \"without\", \"round\", \"rooms\", \"colored\", \"cream\", \"flank\", \"third\", \"stint\", \"complete\", \"malaya\", \"SCREEN_NAME\", \"course\", \"central\", \"funeral\", \"right\", \"guest\", \"threads\", \"black\", \"present\", \"relative\", \"small\", \"outside\", \"angry\", \"really\", \"running\", \"along\", \"party\", \"congratulation\", \"ceremony\", \"going\", \"wedding\", \"doctor\", \"whole\", \"sweet\", \"ofthe\", \"enter\"], \"Freq\": [2.0, 1.0, 1.0, 1.0, 1.0, 1.0, 2.0, 3.0, 1.0, 1.0, 1.0, 2.0, 2.0, 1.0, 1.0, 2.0, 2.0, 1.0, 1.0, 1.0, 1.0, 1.0, 1.0, 1.0, 1.0, 1.0, 1.0, 2.0, 1.0, 1.0, 1.1464605331420898, 1.1454225778579712, 0.6253421902656555, 0.625342071056366, 0.625342071056366, 0.6253420114517212, 0.6253417134284973, 0.6253414750099182, 0.6253414750099182, 0.6253414154052734, 0.6253414154052734, 0.6253414750099182, 0.6253409385681152, 0.6253408193588257, 0.6253371238708496, 0.6253367066383362, 0.6253365278244019, 0.6253361105918884, 0.6253359913825989, 0.6253332495689392, 0.6253329515457153, 0.6253322958946228, 0.6253319382667542, 0.6253294944763184, 0.6253294944763184, 0.6253294944763184, 0.6253287196159363, 0.6253286004066467, 0.6253287196159363, 0.625328540802002, 1.6558799743652344, 0.6262997984886169, 0.62558513879776, 0.625579833984375, 0.6255485415458679, 0.6255136132240295, 0.6253942251205444, 0.6253538727760315, 0.6253533959388733, 1.2678511142730713, 1.2678496837615967, 0.6915525197982788, 0.691552460193634, 0.6915521025657654, 0.6915518641471863, 0.6915518045425415, 0.6915516257286072, 0.6915515065193176, 0.6915513277053833, 0.6915513873100281, 0.691551148891449, 0.6915497183799744, 0.6915493607521057, 0.6915494799613953, 0.6915493607521057, 0.6915491223335266, 0.6915488243103027, 0.6915488243103027, 0.691548764705658, 0.6915484070777893, 0.6915485262870789, 0.6915483474731445, 0.6915478706359863, 0.6915463209152222, 0.6915459036827087, 0.6915459036827087, 0.6915459036827087, 0.6915457844734192, 0.6915454268455505, 1.2682085037231445, 1.2685375213623047, 1.2686465978622437, 0.6918405890464783, 0.6917644739151001, 0.6916845440864563, 0.691611111164093, 1.1142529249191284, 1.1142359972000122, 0.6077726483345032, 0.6077723503112793, 0.607772171497345, 0.6077716946601868, 0.6077712178230286, 0.6077702641487122, 0.6077695488929749, 0.6077695488929749, 0.6077695488929749, 0.607769250869751, 0.607769250869751, 0.6077691316604614, 0.607768714427948, 0.6077685952186584, 0.6077685952186584, 0.6077685952186584, 0.607768177986145, 0.6077679991722107, 0.6077678799629211, 0.607765257358551, 0.6077647805213928, 0.6077647805213928, 0.6077647805213928, 0.6077646017074585, 0.607764482498169, 0.6077641248703003, 0.6077641248703003, 0.6077640056610107, 0.607763946056366, 0.6077638864517212, 0.6204540729522705, 0.6083250045776367, 1.1684951782226562, 0.6373580098152161, 0.6373579502105713, 0.6373577117919922, 0.6373574733734131, 0.6373574733734131, 0.6373574733734131, 0.6373573541641235, 0.6373572945594788, 0.6373571753501892, 0.6373570561408997, 0.6373568773269653, 0.6373569965362549, 0.6373568177223206, 0.6373567581176758, 0.6373567581176758, 0.6373564600944519, 0.6373560428619385, 0.6373558044433594, 0.6373557448387146, 0.6373550891876221, 0.6373544335365295, 0.6373540759086609, 0.6373538374900818, 0.6373538374900818, 0.6373538374900818, 0.6373533606529236, 0.6373530030250549, 0.6373529434204102, 0.6373492479324341, 0.6378180980682373, 0.6376656293869019, 0.6374490857124329, 0.6374476552009583, 1.7187870740890503, 1.1816691160202026, 1.1816641092300415, 1.1816624402999878, 0.644540548324585, 0.6445404887199402, 0.6445392966270447, 0.6445387601852417, 0.6445388197898865, 0.6445388197898865, 0.6445386409759521, 0.6445385813713074, 0.6445385217666626, 0.6445384621620178, 0.6445382833480835, 0.6445382237434387, 0.6445380449295044, 0.6445380449295044, 0.6445378661155701, 0.6445378065109253, 0.6445369720458984, 0.6445367932319641, 0.6445351243019104, 0.6445348262786865, 0.6445345282554626, 0.6445342898368835, 0.6445333361625671, 0.6445333957672119, 0.6445298790931702, 0.6445299386978149, 0.6445300579071045, 1.1829601526260376, 1.1823734045028687, 0.6457439064979553, 0.645179033279419, 0.6448705196380615, 0.6447951793670654], \"Total\": [2.0, 1.0, 1.0, 1.0, 1.0, 1.0, 2.0, 3.0, 1.0, 1.0, 1.0, 2.0, 2.0, 1.0, 1.0, 2.0, 2.0, 1.0, 1.0, 1.0, 1.0, 1.0, 1.0, 1.0, 1.0, 1.0, 1.0, 2.0, 1.0, 1.0, 1.5766929388046265, 1.5767139196395874, 1.0555661916732788, 1.0555661916732788, 1.0555660724639893, 1.0555661916732788, 1.0555661916732788, 1.0555661916732788, 1.0555661916732788, 1.0555661916732788, 1.0555661916732788, 1.0555663108825684, 1.0555661916732788, 1.0555663108825684, 1.0555663108825684, 1.0555663108825684, 1.0555663108825684, 1.0555663108825684, 1.0555663108825684, 1.0555663108825684, 1.0555665493011475, 1.055566430091858, 1.0555665493011475, 1.0555665493011475, 1.0555665493011475, 1.055566430091858, 1.055566668510437, 1.0555665493011475, 1.055566668510437, 1.055566668510437, 3.711303949356079, 1.6317694187164307, 1.5867060422897339, 1.631845474243164, 1.592688798904419, 1.6318538188934326, 1.592693567276001, 1.5867106914520264, 1.586710810661316, 1.6870522499084473, 1.6870518922805786, 1.1107454299926758, 1.1107454299926758, 1.1107453107833862, 1.1107451915740967, 1.1107453107833862, 1.1107451915740967, 1.1107451915740967, 1.1107453107833862, 1.1107454299926758, 1.1107453107833862, 1.1107450723648071, 1.1107449531555176, 1.1107451915740967, 1.1107451915740967, 1.1107450723648071, 1.1107450723648071, 1.1107451915740967, 1.1107451915740967, 1.1107449531555176, 1.1107450723648071, 1.1107450723648071, 1.1107449531555176, 1.110744833946228, 1.1107447147369385, 1.1107447147369385, 1.110744833946228, 1.110744833946228, 1.1107447147369385, 2.19358491897583, 2.218249797821045, 2.2242348194122314, 1.647892951965332, 1.6419060230255127, 1.6478829383850098, 1.6318777799606323, 1.5474183559417725, 1.5474196672439575, 1.0409290790557861, 1.0409291982650757, 1.0409291982650757, 1.0409290790557861, 1.0409291982650757, 1.0409291982650757, 1.0409293174743652, 1.0409293174743652, 1.0409293174743652, 1.0409291982650757, 1.0409293174743652, 1.0409293174743652, 1.0409293174743652, 1.0409293174743652, 1.0409293174743652, 1.0409293174743652, 1.0409293174743652, 1.0409293174743652, 1.0409293174743652, 1.0409295558929443, 1.0409295558929443, 1.0409296751022339, 1.0409297943115234, 1.0409296751022339, 1.0409296751022339, 1.0409296751022339, 1.0409296751022339, 1.0409296751022339, 1.0409296751022339, 1.0409296751022339, 3.711303949356079, 1.572047233581543, 1.5967283248901367, 1.0655838251113892, 1.0655838251113892, 1.0655838251113892, 1.0655837059020996, 1.0655837059020996, 1.0655837059020996, 1.0655837059020996, 1.0655837059020996, 1.0655838251113892, 1.0655838251113892, 1.0655838251113892, 1.0655839443206787, 1.0655838251113892, 1.0655837059020996, 1.0655838251113892, 1.0655838251113892, 1.0655839443206787, 1.0655838251113892, 1.0655838251113892, 1.0655838251113892, 1.0655839443206787, 1.0655838251113892, 1.0655838251113892, 1.0655838251113892, 1.0655839443206787, 1.0655838251113892, 1.0655838251113892, 1.0655839443206787, 1.0655838251113892, 2.1238672733306885, 1.6027090549468994, 2.1789870262145996, 1.60271155834198, 2.1458263397216797, 1.6086971759796143, 1.6086971759796143, 1.6086971759796143, 1.071568250656128, 1.071568250656128, 1.071568250656128, 1.071568250656128, 1.071568250656128, 1.071568250656128, 1.071568250656128, 1.071568250656128, 1.071568250656128, 1.0715681314468384, 1.071568250656128, 1.071568250656128, 1.071568250656128, 1.071568250656128, 1.071568250656128, 1.071568250656128, 1.071568250656128, 1.071568250656128, 1.071568250656128, 1.0715681314468384, 1.071568250656128, 1.0715681314468384, 1.0715681314468384, 1.071568250656128, 1.0715680122375488, 1.0715681314468384, 1.0715681314468384, 2.1152610778808594, 2.139849901199341, 1.6027262210845947, 2.1238672733306885, 2.1789870262145996, 1.6027156114578247], \"Category\": [\"Default\", \"Default\", \"Default\", \"Default\", \"Default\", \"Default\", \"Default\", \"Default\", \"Default\", \"Default\", \"Default\", \"Default\", \"Default\", \"Default\", \"Default\", \"Default\", \"Default\", \"Default\", \"Default\", \"Default\", \"Default\", \"Default\", \"Default\", \"Default\", \"Default\", \"Default\", \"Default\", \"Default\", \"Default\", \"Default\", \"Topic1\", \"Topic1\", \"Topic1\", \"Topic1\", \"Topic1\", \"Topic1\", \"Topic1\", \"Topic1\", \"Topic1\", \"Topic1\", \"Topic1\", \"Topic1\", \"Topic1\", \"Topic1\", \"Topic1\", \"Topic1\", \"Topic1\", \"Topic1\", \"Topic1\", \"Topic1\", \"Topic1\", \"Topic1\", \"Topic1\", \"Topic1\", \"Topic1\", \"Topic1\", \"Topic1\", \"Topic1\", \"Topic1\", \"Topic1\", \"Topic1\", \"Topic1\", \"Topic1\", \"Topic1\", \"Topic1\", \"Topic1\", \"Topic1\", \"Topic1\", \"Topic1\", \"Topic2\", \"Topic2\", \"Topic2\", \"Topic2\", \"Topic2\", \"Topic2\", \"Topic2\", \"Topic2\", \"Topic2\", \"Topic2\", \"Topic2\", \"Topic2\", \"Topic2\", \"Topic2\", \"Topic2\", \"Topic2\", \"Topic2\", \"Topic2\", \"Topic2\", \"Topic2\", \"Topic2\", \"Topic2\", \"Topic2\", \"Topic2\", \"Topic2\", \"Topic2\", \"Topic2\", \"Topic2\", \"Topic2\", \"Topic2\", \"Topic2\", \"Topic2\", \"Topic2\", \"Topic2\", \"Topic2\", \"Topic2\", \"Topic2\", \"Topic3\", \"Topic3\", \"Topic3\", \"Topic3\", \"Topic3\", \"Topic3\", \"Topic3\", \"Topic3\", \"Topic3\", \"Topic3\", \"Topic3\", \"Topic3\", \"Topic3\", \"Topic3\", \"Topic3\", \"Topic3\", \"Topic3\", \"Topic3\", \"Topic3\", \"Topic3\", \"Topic3\", \"Topic3\", \"Topic3\", \"Topic3\", \"Topic3\", \"Topic3\", \"Topic3\", \"Topic3\", \"Topic3\", \"Topic3\", \"Topic3\", \"Topic3\", \"Topic3\", \"Topic3\", \"Topic4\", \"Topic4\", \"Topic4\", \"Topic4\", \"Topic4\", \"Topic4\", \"Topic4\", \"Topic4\", \"Topic4\", \"Topic4\", \"Topic4\", \"Topic4\", \"Topic4\", \"Topic4\", \"Topic4\", \"Topic4\", \"Topic4\", \"Topic4\", \"Topic4\", \"Topic4\", \"Topic4\", \"Topic4\", \"Topic4\", \"Topic4\", \"Topic4\", \"Topic4\", \"Topic4\", \"Topic4\", \"Topic4\", \"Topic4\", \"Topic4\", \"Topic4\", \"Topic4\", \"Topic4\", \"Topic5\", \"Topic5\", \"Topic5\", \"Topic5\", \"Topic5\", \"Topic5\", \"Topic5\", \"Topic5\", \"Topic5\", \"Topic5\", \"Topic5\", \"Topic5\", \"Topic5\", \"Topic5\", \"Topic5\", \"Topic5\", \"Topic5\", \"Topic5\", \"Topic5\", \"Topic5\", \"Topic5\", \"Topic5\", \"Topic5\", \"Topic5\", \"Topic5\", \"Topic5\", \"Topic5\", \"Topic5\", \"Topic5\", \"Topic5\", \"Topic5\", \"Topic5\", \"Topic5\", \"Topic5\", \"Topic5\", \"Topic5\", \"Topic5\"], \"logprob\": [30.0, 29.0, 28.0, 27.0, 26.0, 25.0, 24.0, 23.0, 22.0, 21.0, 20.0, 19.0, 18.0, 17.0, 16.0, 15.0, 14.0, 13.0, 12.0, 11.0, 10.0, 9.0, 8.0, 7.0, 6.0, 5.0, 4.0, 3.0, 2.0, 1.0, -4.061800003051758, -4.06279993057251, -4.668000221252441, -4.668000221252441, -4.668000221252441, -4.668000221252441, -4.668000221252441, -4.668000221252441, -4.668000221252441, -4.668000221252441, -4.668000221252441, -4.668000221252441, -4.668000221252441, -4.668000221252441, -4.668000221252441, -4.668000221252441, -4.668000221252441, -4.668000221252441, -4.668000221252441, -4.668000221252441, -4.668000221252441, -4.668000221252441, -4.668000221252441, -4.668000221252441, -4.668000221252441, -4.668000221252441, -4.668000221252441, -4.668000221252441, -4.668000221252441, -4.668000221252441, -3.694200038909912, -4.666500091552734, -4.667600154876709, -4.667600154876709, -4.667699813842773, -4.667699813842773, -4.667900085449219, -4.668000221252441, -4.668000221252441, -4.220900058746338, -4.220900058746338, -4.827000141143799, -4.827000141143799, -4.827000141143799, -4.827000141143799, -4.827000141143799, -4.827000141143799, -4.827000141143799, -4.827000141143799, -4.827000141143799, -4.827000141143799, -4.827000141143799, -4.827000141143799, -4.827000141143799, -4.827000141143799, -4.827000141143799, -4.827000141143799, -4.827000141143799, -4.827000141143799, -4.827000141143799, -4.827000141143799, -4.827000141143799, -4.827000141143799, -4.827000141143799, -4.827000141143799, -4.827000141143799, -4.827000141143799, -4.827000141143799, -4.827000141143799, -4.220600128173828, -4.220300197601318, -4.220200061798096, -4.826600074768066, -4.826700210571289, -4.8267998695373535, -4.826900005340576, -4.022299766540527, -4.022299766540527, -4.628499984741211, -4.628499984741211, -4.628499984741211, -4.628499984741211, -4.628499984741211, -4.628499984741211, -4.628499984741211, -4.628499984741211, -4.628499984741211, -4.628499984741211, -4.628499984741211, -4.628499984741211, -4.628499984741211, -4.628499984741211, -4.628499984741211, -4.628499984741211, -4.628499984741211, -4.628499984741211, -4.628499984741211, -4.628499984741211, -4.628499984741211, -4.628499984741211, -4.628499984741211, -4.628499984741211, -4.628499984741211, -4.628499984741211, -4.628499984741211, -4.628499984741211, -4.628499984741211, -4.628499984741211, -4.607800006866455, -4.627500057220459, -4.092800140380859, -4.698999881744385, -4.698999881744385, -4.698999881744385, -4.698999881744385, -4.698999881744385, -4.698999881744385, -4.698999881744385, -4.698999881744385, -4.698999881744385, -4.698999881744385, -4.698999881744385, -4.698999881744385, -4.698999881744385, -4.698999881744385, -4.698999881744385, -4.698999881744385, -4.698999881744385, -4.698999881744385, -4.698999881744385, -4.698999881744385, -4.698999881744385, -4.698999881744385, -4.698999881744385, -4.698999881744385, -4.698999881744385, -4.698999881744385, -4.698999881744385, -4.698999881744385, -4.698999881744385, -4.698200225830078, -4.698500156402588, -4.698800086975098, -4.698800086975098, -3.7332000732421875, -4.107900142669678, -4.107900142669678, -4.107900142669678, -4.714099884033203, -4.714099884033203, -4.714099884033203, -4.714099884033203, -4.714099884033203, -4.714099884033203, -4.714099884033203, -4.714099884033203, -4.714099884033203, -4.714099884033203, -4.714099884033203, -4.714099884033203, -4.714099884033203, -4.714099884033203, -4.714099884033203, -4.714099884033203, -4.714099884033203, -4.714099884033203, -4.714099884033203, -4.714099884033203, -4.714099884033203, -4.714099884033203, -4.714099884033203, -4.714099884033203, -4.714099884033203, -4.714099884033203, -4.714099884033203, -4.106800079345703, -4.1072998046875, -4.712200164794922, -4.713099956512451, -4.713600158691406, -4.713699817657471], \"loglift\": [30.0, 29.0, 28.0, 27.0, 26.0, 25.0, 24.0, 23.0, 22.0, 21.0, 20.0, 19.0, 18.0, 17.0, 16.0, 15.0, 14.0, 13.0, 12.0, 11.0, 10.0, 9.0, 8.0, 7.0, 6.0, 5.0, 4.0, 3.0, 2.0, 1.0, 1.3605999946594238, 1.3595999479293823, 1.1556999683380127, 1.1556999683380127, 1.1556999683380127, 1.1556999683380127, 1.1556999683380127, 1.1556999683380127, 1.1556999683380127, 1.1556999683380127, 1.1556999683380127, 1.1556999683380127, 1.1556999683380127, 1.1556999683380127, 1.1556999683380127, 1.1556999683380127, 1.1556999683380127, 1.1556999683380127, 1.1556999683380127, 1.1556999683380127, 1.1556999683380127, 1.1556999683380127, 1.1556999683380127, 1.1556999683380127, 1.1556999683380127, 1.1556999683380127, 1.1556999683380127, 1.1556999683380127, 1.1556999683380127, 1.1556999683380127, 0.8722000122070312, 0.7215999960899353, 0.7484999895095825, 0.7203999757766724, 0.744700014591217, 0.720300018787384, 0.7444000244140625, 0.7480999827384949, 0.7480999827384949, 1.1339000463485718, 1.1339000463485718, 0.9456999897956848, 0.9456999897956848, 0.9456999897956848, 0.9456999897956848, 0.9456999897956848, 0.9456999897956848, 0.9456999897956848, 0.9456999897956848, 0.9456999897956848, 0.9456999897956848, 0.9456999897956848, 0.9456999897956848, 0.9456999897956848, 0.9456999897956848, 0.9456999897956848, 0.9456999897956848, 0.9456999897956848, 0.9456999897956848, 0.9456999897956848, 0.9456999897956848, 0.9456999897956848, 0.9456999897956848, 0.9456999897956848, 0.9456999897956848, 0.9456999897956848, 0.9456999897956848, 0.9456999897956848, 0.9456999897956848, 0.8715999722480774, 0.8607000112533569, 0.8580999970436096, 0.5516999959945679, 0.5551999807357788, 0.5514000058174133, 0.5611000061035156, 1.4187999963760376, 1.4187999963760376, 1.2092000246047974, 1.2092000246047974, 1.2092000246047974, 1.2092000246047974, 1.2092000246047974, 1.2092000246047974, 1.2092000246047974, 1.2092000246047974, 1.2092000246047974, 1.2092000246047974, 1.2092000246047974, 1.2092000246047974, 1.2092000246047974, 1.2092000246047974, 1.2092000246047974, 1.2092000246047974, 1.2092000246047974, 1.2092000246047974, 1.2092000246047974, 1.2092000246047974, 1.2092000246047974, 1.2092000246047974, 1.2092000246047974, 1.2092000246047974, 1.2092000246047974, 1.2092000246047974, 1.2092000246047974, 1.2092000246047974, 1.2092000246047974, 1.2092000246047974, -0.04149999842047691, 0.7978000044822693, 1.3170000314712524, 1.1153000593185425, 1.1153000593185425, 1.1153000593185425, 1.1153000593185425, 1.1153000593185425, 1.1153000593185425, 1.1153000593185425, 1.1153000593185425, 1.1153000593185425, 1.1153000593185425, 1.1153000593185425, 1.1153000593185425, 1.1153000593185425, 1.1153000593185425, 1.1153000593185425, 1.1153000593185425, 1.1153000593185425, 1.1153000593185425, 1.1153000593185425, 1.1153000593185425, 1.1153000593185425, 1.1153000593185425, 1.1153000593185425, 1.1153000593185425, 1.1153000593185425, 1.1153000593185425, 1.1153000593185425, 1.1153000593185425, 1.1152000427246094, 0.4262999892234802, 0.7075999975204468, 0.4000999927520752, 0.7071999907493591, 1.38100004196167, 1.2943999767303467, 1.2943999767303467, 1.2943999767303467, 1.094499945640564, 1.094499945640564, 1.094499945640564, 1.094499945640564, 1.094499945640564, 1.094499945640564, 1.094499945640564, 1.094499945640564, 1.094499945640564, 1.094499945640564, 1.094499945640564, 1.094499945640564, 1.094499945640564, 1.094499945640564, 1.094499945640564, 1.094499945640564, 1.094499945640564, 1.094499945640564, 1.094499945640564, 1.094499945640564, 1.094499945640564, 1.094499945640564, 1.094499945640564, 1.094499945640564, 1.094499945640564, 1.094499945640564, 1.094499945640564, 1.0217000246047974, 1.0096999406814575, 0.6937999725341797, 0.4113999903202057, 0.38530001044273376, 0.692300021648407]}, \"token.table\": {\"Topic\": [5, 3, 1, 5, 2, 5, 1, 2, 4, 3, 3, 4, 3, 4, 5, 2, 3, 4, 5, 2, 5, 3, 2, 5, 5, 1, 1, 4, 2, 2, 4, 1, 3, 5, 4, 2, 5, 3, 1, 3, 2, 5, 1, 5, 5, 4, 4, 4, 1, 2, 5, 2, 1, 4, 4, 5, 1, 4, 5, 1, 4, 2, 2, 4, 4, 5, 1, 1, 3, 5, 4, 3, 1, 5, 4, 2, 5, 4, 5, 1, 2, 2, 1, 5, 4, 1, 4, 4, 4, 4, 4, 4, 3, 2, 5, 1, 1, 2, 1, 2, 3, 3, 1, 2, 3, 1, 1, 1, 2, 2, 4, 5, 1, 2, 1, 4, 2, 5, 5, 1, 2, 3, 3, 1, 4, 2, 3, 4, 1, 4, 1, 3, 3, 3, 3, 5, 3, 2, 1, 1, 5, 1, 3, 2, 5, 5, 5, 5, 5, 4, 3, 4, 4, 2, 2, 3, 1, 5, 1, 2, 5, 1, 2, 4, 3, 1, 2, 3, 1, 2, 4, 5, 3, 1, 4, 5, 3, 3, 2, 5, 5, 2, 2, 3, 4, 3, 4, 4, 3, 2, 1, 3, 5, 2, 4, 4, 5, 5, 5, 4, 1, 2, 3, 4, 2, 2, 5], \"Freq\": [0.9332116842269897, 0.9606800079345703, 0.9473588466644287, 0.9332118034362793, 0.9002965092658997, 0.9332118034362793, 0.6128031015396118, 0.6128031015396118, 0.9384527802467346, 0.9606801271438599, 0.6361132264137268, 0.6361132264137268, 0.9606797099113464, 0.9384526610374451, 0.9332116842269897, 0.9002965092658997, 0.9606800079345703, 0.6239426136016846, 0.6239426136016846, 0.6068392395973206, 0.6068392395973206, 0.960679829120636, 0.900296688079834, 0.9332118034362793, 0.9332118034362793, 0.9473585486412048, 0.6302345991134644, 0.6302345991134644, 0.900296688079834, 0.9002963900566101, 0.9384526014328003, 0.9473584294319153, 0.6462376713752747, 0.9332116842269897, 0.9384526610374451, 0.9002965092658997, 0.9332116842269897, 0.9606797099113464, 0.9473588466644287, 0.9606800079345703, 0.9002965092658997, 0.9332118630409241, 0.6342388987541199, 0.9332116842269897, 0.9332116842269897, 0.9384526610374451, 0.9384527802467346, 0.9384526014328003, 0.6342304348945618, 0.6068355441093445, 0.6068355441093445, 0.9002963900566101, 0.9473588466644287, 0.9384526610374451, 0.4673224985599518, 0.4673224985599518, 0.9473587870597839, 0.6239410042762756, 0.6239410042762756, 0.9473588466644287, 0.9384526610374451, 0.9002962708473206, 0.900296688079834, 0.9384526610374451, 0.9384527802467346, 0.9332116842269897, 0.9473586678504944, 0.9473588466644287, 0.9606800079345703, 0.9332116842269897, 0.9384527802467346, 0.9606797099113464, 0.9473584294319153, 0.9332118034362793, 0.9384526014328003, 0.9002963900566101, 0.9332116842269897, 0.623943567276001, 0.623943567276001, 0.9473588466644287, 0.5927500128746033, 0.9002968072891235, 0.6278690695762634, 0.6278690695762634, 0.9384526014328003, 0.9473587870597839, 0.9384526610374451, 0.6262806057929993, 0.9384527802467346, 0.9384526610374451, 0.9384526610374451, 0.9384526610374451, 0.9606800079345703, 0.9002965688705444, 0.9332116842269897, 0.9473587870597839, 0.9473585486412048, 0.9002968072891235, 0.9473586678504944, 0.9002968668937683, 0.9606800079345703, 0.6462370753288269, 0.9473587870597839, 0.9002965688705444, 0.9606801271438599, 0.9473588466644287, 0.9473584294319153, 0.6127910017967224, 0.6127910017967224, 0.4589288532733917, 0.4589288532733917, 0.4589288532733917, 0.9473585486412048, 0.9002968668937683, 0.6302345395088196, 0.6302345395088196, 0.5927498936653137, 0.9332116842269897, 0.9332116842269897, 0.6128000020980835, 0.6128000020980835, 0.9606795907020569, 0.9606797099113464, 0.9473585486412048, 0.9384526610374451, 0.9002962708473206, 0.9606801271438599, 0.9384526610374451, 0.6302364468574524, 0.6302364468574524, 0.9473585486412048, 0.9606800079345703, 0.9606797099113464, 0.9606802463531494, 0.9606797099113464, 0.9332116842269897, 0.9606797099113464, 0.9002965092658997, 0.9473588466644287, 0.9473587870597839, 0.9332116842269897, 0.9473587870597839, 0.9606800079345703, 0.9002962708473206, 0.9332116842269897, 0.9332116842269897, 0.6216210126876831, 0.6216210126876831, 0.9332118034362793, 0.9384526610374451, 0.9606800079345703, 0.9384526610374451, 0.9384526610374451, 0.9002965688705444, 0.4558747708797455, 0.4558747708797455, 0.6278671622276306, 0.6278671622276306, 0.612831711769104, 0.612831711769104, 0.9332116842269897, 0.9473587870597839, 0.6090482473373413, 0.6090482473373413, 0.9606800079345703, 0.9473589658737183, 0.9002965092658997, 0.9606797099113464, 0.9473587870597839, 0.9002965092658997, 0.9384527802467346, 0.9332116842269897, 0.9606800079345703, 0.4708392024040222, 0.4708392024040222, 0.4708392024040222, 0.960679829120636, 0.9606800079345703, 0.9002965688705444, 0.9332116842269897, 0.9332116842269897, 0.9002968072891235, 0.9002968668937683, 0.9606801271438599, 0.9384526610374451, 0.9606802463531494, 0.9384526610374451, 0.9384526610374451, 0.9606801271438599, 0.9002963900566101, 0.9473588466644287, 0.47275489568710327, 0.47275489568710327, 0.4508058428764343, 0.4508058428764343, 0.6239368915557861, 0.6239368915557861, 0.6216210126876831, 0.9320418834686279, 0.9384526014328003, 0.5388941764831543, 0.26944708824157715, 0.26944708824157715, 0.26944708824157715, 0.9002965688705444, 0.44959282875061035, 0.44959282875061035], \"Term\": [\"SCREEN_NAME\", \"allow\", \"almost\", \"along\", \"amusement\", \"angry\", \"answer\", \"answer\", \"arouse\", \"authentic\", \"become\", \"become\", \"begging\", \"behind\", \"black\", \"bodily\", \"bread\", \"break\", \"break\", \"bride\", \"bride\", \"bridegroom\", \"build\", \"central\", \"ceremony\", \"chadija\", \"change\", \"change\", \"chief\", \"chile\", \"clapping\", \"cling\", \"clothes\", \"colored\", \"committee\", \"common\", \"complete\", \"compose\", \"conceal\", \"conductor\", \"conform\", \"congratulation\", \"consider\", \"course\", \"cream\", \"cucumber\", \"curiosity\", \"curtain\", \"damascus\", \"daughter\", \"daughter\", \"defeat\", \"different\", \"disappear\", \"doctor\", \"doctor\", \"eldest\", \"enter\", \"enter\", \"every\", \"expression\", \"father\", \"fifteen\", \"fifty\", \"fill\", \"flank\", \"form\", \"friday\", \"front\", \"funeral\", \"garlic\", \"general\", \"genuine\", \"going\", \"graves\", \"group\", \"guest\", \"hands\", \"hands\", \"hope\", \"house\", \"interrupt\", \"invite\", \"invite\", \"isthe\", \"jamal\", \"koran\", \"large\", \"laughter\", \"lemon\", \"lettuce\", \"loom\", \"lovely\", \"mahmud\", \"malaya\", \"marje\", \"married\", \"mates\", \"mather\", \"month\", \"mosaiues\", \"mother\", \"murderer\", \"need\", \"night\", \"obvious\", \"offer\", \"office\", \"office\", \"ofthe\", \"ofthe\", \"ofthe\", \"older\", \"open\", \"order\", \"order\", \"others\", \"outside\", \"party\", \"pasha\", \"pasha\", \"pass\", \"passing\", \"paternal\", \"person\", \"perspective\", \"picture\", \"pillow\", \"place\", \"place\", \"plan\", \"play\", \"popular\", \"possible\", \"pour\", \"present\", \"productive\", \"provide\", \"reaives\", \"realize\", \"really\", \"rebel\", \"receive\", \"relate\", \"relative\", \"right\", \"rooms\", \"round\", \"running\", \"saving\", \"schooling\", \"shaikh\", \"sheepskin\", \"shukat\", \"siham\", \"siham\", \"sister\", \"sister\", \"sleep\", \"sleep\", \"small\", \"smile\", \"soldier\", \"soldier\", \"sound\", \"spend\", \"spiritual\", \"sprinkle\", \"square\", \"staff\", \"start\", \"stint\", \"stoke\", \"sweet\", \"sweet\", \"sweet\", \"symphony\", \"telecommunication\", \"thatthe\", \"third\", \"threads\", \"three\", \"touch\", \"training\", \"trough\", \"try\", \"usually\", \"veil\", \"venture\", \"waich\", \"walking\", \"wedding\", \"wedding\", \"white\", \"white\", \"whole\", \"whole\", \"without\", \"woman\", \"workshop\", \"would\", \"would\", \"would\", \"would\", \"years\", \"young\", \"young\"]}, \"R\": 30, \"lambda.step\": 0.01, \"plot.opts\": {\"xlab\": \"PC1\", \"ylab\": \"PC2\"}, \"topic.order\": [1, 2, 3, 4, 5]};\n",
              "\n",
              "function LDAvis_load_lib(url, callback){\n",
              "  var s = document.createElement('script');\n",
              "  s.src = url;\n",
              "  s.async = true;\n",
              "  s.onreadystatechange = s.onload = callback;\n",
              "  s.onerror = function(){console.warn(\"failed to load library \" + url);};\n",
              "  document.getElementsByTagName(\"head\")[0].appendChild(s);\n",
              "}\n",
              "\n",
              "if(typeof(LDAvis) !== \"undefined\"){\n",
              "   // already loaded: just create the visualization\n",
              "   !function(LDAvis){\n",
              "       new LDAvis(\"#\" + \"ldavis_el7611405361614495682871991842\", ldavis_el7611405361614495682871991842_data);\n",
              "   }(LDAvis);\n",
              "}else if(typeof define === \"function\" && define.amd){\n",
              "   // require.js is available: use it to load d3/LDAvis\n",
              "   require.config({paths: {d3: \"https://cdnjs.cloudflare.com/ajax/libs/d3/3.5.5/d3.min\"}});\n",
              "   require([\"d3\"], function(d3){\n",
              "      window.d3 = d3;\n",
              "      LDAvis_load_lib(\"https://cdn.rawgit.com/bmabey/pyLDAvis/files/ldavis.v1.0.0.js\", function(){\n",
              "        new LDAvis(\"#\" + \"ldavis_el7611405361614495682871991842\", ldavis_el7611405361614495682871991842_data);\n",
              "      });\n",
              "    });\n",
              "}else{\n",
              "    // require.js not available: dynamically load d3 & LDAvis\n",
              "    LDAvis_load_lib(\"https://cdnjs.cloudflare.com/ajax/libs/d3/3.5.5/d3.min.js\", function(){\n",
              "         LDAvis_load_lib(\"https://cdn.rawgit.com/bmabey/pyLDAvis/files/ldavis.v1.0.0.js\", function(){\n",
              "                 new LDAvis(\"#\" + \"ldavis_el7611405361614495682871991842\", ldavis_el7611405361614495682871991842_data);\n",
              "            })\n",
              "         });\n",
              "}\n",
              "</script>"
            ],
            "text/plain": [
              "<IPython.core.display.HTML object>"
            ]
          },
          "metadata": {
            "tags": []
          },
          "execution_count": 14
        }
      ]
    },
    {
      "cell_type": "code",
      "metadata": {
        "id": "gUCR5LKhZoJ4",
        "colab_type": "code",
        "colab": {
          "base_uri": "https://localhost:8080/",
          "height": 915
        },
        "outputId": "f2737a80-3be2-4dff-9e5f-d88b8dc8dfbe"
      },
      "source": [
        "lda3 = gensim.models.ldamodel.LdaModel.load('model3.gensim')\n",
        "lda_display3 = pyLDAvis.gensim.prepare(lda3, corpus, dictionary, sort_topics=False)\n",
        "pyLDAvis.display(lda_display3)"
      ],
      "execution_count": null,
      "outputs": [
        {
          "output_type": "stream",
          "text": [
            "/usr/local/lib/python3.6/dist-packages/smart_open/smart_open_lib.py:254: UserWarning: This function is deprecated, use smart_open.open instead. See the migration notes for details: https://github.com/RaRe-Technologies/smart_open/blob/master/README.rst#migrating-to-the-new-open-function\n",
            "  'See the migration notes for details: %s' % _MIGRATION_NOTES_URL\n"
          ],
          "name": "stderr"
        },
        {
          "output_type": "execute_result",
          "data": {
            "text/html": [
              "\n",
              "<link rel=\"stylesheet\" type=\"text/css\" href=\"https://cdn.rawgit.com/bmabey/pyLDAvis/files/ldavis.v1.0.0.css\">\n",
              "\n",
              "\n",
              "<div id=\"ldavis_el7611405361414106162425536640\"></div>\n",
              "<script type=\"text/javascript\">\n",
              "\n",
              "var ldavis_el7611405361414106162425536640_data = {\"mdsDat\": {\"x\": [-0.09085679284738488, 0.06380883533839636, 0.02704795750898858], \"y\": [-0.02045190597011127, -0.065596280886115, 0.08604818685622624], \"topics\": [1, 2, 3], \"cluster\": [1, 1, 1], \"Freq\": [39.15913391113281, 33.41667175292969, 27.424192428588867]}, \"tinfo\": {\"Term\": [\"round\", \"soldier\", \"break\", \"sweet\", \"would\", \"sleep\", \"clothes\", \"daughter\", \"damascus\", \"white\", \"without\", \"invite\", \"rooms\", \"perspective\", \"relate\", \"defeat\", \"common\", \"father\", \"third\", \"complete\", \"course\", \"waich\", \"amusement\", \"chile\", \"provide\", \"group\", \"allow\", \"training\", \"schooling\", \"receive\", \"sweet\", \"without\", \"invite\", \"rooms\", \"every\", \"spend\", \"reaives\", \"different\", \"almost\", \"friday\", \"cream\", \"colored\", \"flank\", \"central\", \"fill\", \"lettuce\", \"cucumber\", \"right\", \"clapping\", \"stint\", \"laughter\", \"arouse\", \"start\", \"picture\", \"lemon\", \"possible\", \"curiosity\", \"venture\", \"person\", \"usually\", \"siham\", \"wedding\", \"doctor\", \"enter\", \"large\", \"become\", \"place\", \"sleep\", \"clothes\", \"daughter\", \"damascus\", \"realize\", \"conceal\", \"hope\", \"walking\", \"smile\", \"obvious\", \"spiritual\", \"conform\", \"bodily\", \"need\", \"build\", \"mahmud\", \"open\", \"shukat\", \"brand\", \"mather\", \"staff\", \"party\", \"everything\", \"chief\", \"dothes\", \"eldest\", \"running\", \"paternal\", \"conductor\", \"married\", \"would\", \"white\", \"woman\", \"young\", \"consider\", \"office\", \"change\", \"answer\", \"sister\", \"house\", \"pasha\", \"hands\", \"place\", \"round\", \"soldier\", \"break\", \"perspective\", \"relate\", \"defeat\", \"common\", \"father\", \"third\", \"course\", \"complete\", \"waich\", \"amusement\", \"chile\", \"provide\", \"group\", \"allow\", \"training\", \"schooling\", \"receive\", \"telecommunication\", \"isthe\", \"expression\", \"behind\", \"disappear\", \"graves\", \"curtain\", \"trough\", \"veil\", \"cousin\", \"marry\", \"whole\", \"mother\", \"order\", \"others\", \"ofthe\", \"bride\", \"siham\"], \"Freq\": [1.0, 1.0, 1.0, 2.0, 3.0, 1.0, 1.0, 1.0, 1.0, 2.0, 1.0, 1.0, 1.0, 1.0, 1.0, 1.0, 1.0, 1.0, 1.0, 1.0, 1.0, 1.0, 1.0, 1.0, 1.0, 1.0, 1.0, 1.0, 1.0, 1.0, 1.895282506942749, 1.3267351388931274, 1.326671838760376, 1.3266212940216064, 0.757949709892273, 0.7579489946365356, 0.7579485177993774, 0.757947564125061, 0.757946252822876, 0.7579447627067566, 0.7579203248023987, 0.7579202651977539, 0.7578601241111755, 0.7578568458557129, 0.7578560709953308, 0.7578538656234741, 0.7578530311584473, 0.757851779460907, 0.7578500509262085, 0.7578485012054443, 0.7578476667404175, 0.7578476667404175, 0.7578469514846802, 0.7578431963920593, 0.7578417658805847, 0.7578412890434265, 0.7578415274620056, 0.7578403353691101, 0.7578389048576355, 0.7578365802764893, 1.3269695043563843, 1.3397585153579712, 1.3289715051651, 0.7606741189956665, 0.7606554627418518, 0.7588497400283813, 0.7583716511726379, 1.2472866773605347, 1.2471250295639038, 1.2467845678329468, 1.2446955442428589, 0.7127796411514282, 0.7127791047096252, 0.7127791047096252, 0.712776780128479, 0.7127726078033447, 0.7127673029899597, 0.7126213312149048, 0.7126156091690063, 0.712611734867096, 0.7126113176345825, 0.7126107811927795, 0.7125394940376282, 0.7125306129455566, 0.7125338315963745, 0.7125252485275269, 0.7125255465507507, 0.7125271558761597, 0.712522566318512, 0.7125204801559448, 0.7125245928764343, 0.7125148773193359, 0.7125135064125061, 0.7125126123428345, 0.7125095129013062, 0.7124943137168884, 0.7124890089035034, 2.3347389698028564, 1.2521692514419556, 1.2644741535186768, 1.2549983263015747, 0.7187968492507935, 0.7164673805236816, 0.7144011855125427, 0.7143898010253906, 0.7140412926673889, 0.713970959186554, 0.7133680582046509, 0.7131250500679016, 0.7126621603965759, 1.1583482027053833, 1.1582447290420532, 1.1579065322875977, 0.661811351776123, 0.6618084907531738, 0.6618077754974365, 0.6618069410324097, 0.6618065237998962, 0.6617745757102966, 0.6617622375488281, 0.6617622375488281, 0.6617430448532104, 0.6617419123649597, 0.6617385745048523, 0.6617370843887329, 0.6617323756217957, 0.6617036461830139, 0.6617021560668945, 0.6616998314857483, 0.6616981029510498, 0.6616745591163635, 0.6616698503494263, 0.6616686582565308, 0.6616657376289368, 0.6616544723510742, 0.6616554260253906, 0.661651074886322, 0.6616511940956116, 0.6616455316543579, 0.6616052389144897, 0.661605179309845, 0.6844003796577454, 0.6823629140853882, 0.665477454662323, 0.6652923226356506, 0.665657639503479, 0.6620669960975647, 0.6618686318397522], \"Total\": [1.0, 1.0, 1.0, 2.0, 3.0, 1.0, 1.0, 1.0, 1.0, 2.0, 1.0, 1.0, 1.0, 1.0, 1.0, 1.0, 1.0, 1.0, 1.0, 1.0, 1.0, 1.0, 1.0, 1.0, 1.0, 1.0, 1.0, 1.0, 1.0, 1.0, 2.239713191986084, 1.6709425449371338, 1.670936942100525, 1.6709314584732056, 1.1021511554718018, 1.1021509170532227, 1.1021511554718018, 1.102150797843933, 1.1021509170532227, 1.1021506786346436, 1.1021462678909302, 1.1021465063095093, 1.102139949798584, 1.1021397113800049, 1.102139949798584, 1.1021395921707153, 1.1021395921707153, 1.1021394729614258, 1.1021392345428467, 1.1021387577056885, 1.1021389961242676, 1.1021389961242676, 1.102138876914978, 1.1021380424499512, 1.102138638496399, 1.1021381616592407, 1.1021385192871094, 1.102137804031372, 1.1021382808685303, 1.1021387577056885, 2.1675784587860107, 2.2065012454986572, 2.2058193683624268, 1.6370892524719238, 1.6370882987976074, 1.5988860130310059, 1.6369673013687134, 1.6030077934265137, 1.603011965751648, 1.6029798984527588, 1.603042483329773, 1.0682024955749512, 1.0682024955749512, 1.0682024955749512, 1.0682026147842407, 1.0682026147842407, 1.068202257156372, 1.068198561668396, 1.0681989192962646, 1.0681991577148438, 1.0681989192962646, 1.068198561668396, 1.068206548690796, 1.068199634552002, 1.068206548690796, 1.0681995153427124, 1.0682005882263184, 1.0682072639465332, 1.0682015419006348, 1.0681993961334229, 1.068207025527954, 1.068199634552002, 1.0682003498077393, 1.0682015419006348, 1.0682002305984497, 1.068202018737793, 1.0682001113891602, 3.7380144596099854, 2.0999855995178223, 2.1706604957580566, 2.1712775230407715, 1.6365547180175781, 1.6366945505142212, 1.63680100440979, 1.6368069648742676, 1.636854648590088, 1.5649206638336182, 1.6369128227233887, 1.5648990869522095, 1.6369673013687134, 1.5266101360321045, 1.5266218185424805, 1.5266578197479248, 1.0300178527832031, 1.0300180912017822, 1.0300183296203613, 1.0300182104110718, 1.0300185680389404, 1.0300215482711792, 1.0300230979919434, 1.030023217201233, 1.0300227403640747, 1.0300228595733643, 1.0300230979919434, 1.0300233364105225, 1.0300236940383911, 1.0300289392471313, 1.030029296875, 1.030029296875, 1.030029535293579, 1.0300319194793701, 1.0300328731536865, 1.030032753944397, 1.030031681060791, 1.030032992362976, 1.0300345420837402, 1.0300331115722656, 1.030035138130188, 1.030033826828003, 1.030039668083191, 1.0300397872924805, 1.5954750776290894, 1.5957664251327515, 1.598244309425354, 1.564577341079712, 2.133225917816162, 1.5987486839294434, 2.1675784587860107], \"Category\": [\"Default\", \"Default\", \"Default\", \"Default\", \"Default\", \"Default\", \"Default\", \"Default\", \"Default\", \"Default\", \"Default\", \"Default\", \"Default\", \"Default\", \"Default\", \"Default\", \"Default\", \"Default\", \"Default\", \"Default\", \"Default\", \"Default\", \"Default\", \"Default\", \"Default\", \"Default\", \"Default\", \"Default\", \"Default\", \"Default\", \"Topic1\", \"Topic1\", \"Topic1\", \"Topic1\", \"Topic1\", \"Topic1\", \"Topic1\", \"Topic1\", \"Topic1\", \"Topic1\", \"Topic1\", \"Topic1\", \"Topic1\", \"Topic1\", \"Topic1\", \"Topic1\", \"Topic1\", \"Topic1\", \"Topic1\", \"Topic1\", \"Topic1\", \"Topic1\", \"Topic1\", \"Topic1\", \"Topic1\", \"Topic1\", \"Topic1\", \"Topic1\", \"Topic1\", \"Topic1\", \"Topic1\", \"Topic1\", \"Topic1\", \"Topic1\", \"Topic1\", \"Topic1\", \"Topic1\", \"Topic2\", \"Topic2\", \"Topic2\", \"Topic2\", \"Topic2\", \"Topic2\", \"Topic2\", \"Topic2\", \"Topic2\", \"Topic2\", \"Topic2\", \"Topic2\", \"Topic2\", \"Topic2\", \"Topic2\", \"Topic2\", \"Topic2\", \"Topic2\", \"Topic2\", \"Topic2\", \"Topic2\", \"Topic2\", \"Topic2\", \"Topic2\", \"Topic2\", \"Topic2\", \"Topic2\", \"Topic2\", \"Topic2\", \"Topic2\", \"Topic2\", \"Topic2\", \"Topic2\", \"Topic2\", \"Topic2\", \"Topic2\", \"Topic2\", \"Topic2\", \"Topic2\", \"Topic2\", \"Topic2\", \"Topic2\", \"Topic2\", \"Topic3\", \"Topic3\", \"Topic3\", \"Topic3\", \"Topic3\", \"Topic3\", \"Topic3\", \"Topic3\", \"Topic3\", \"Topic3\", \"Topic3\", \"Topic3\", \"Topic3\", \"Topic3\", \"Topic3\", \"Topic3\", \"Topic3\", \"Topic3\", \"Topic3\", \"Topic3\", \"Topic3\", \"Topic3\", \"Topic3\", \"Topic3\", \"Topic3\", \"Topic3\", \"Topic3\", \"Topic3\", \"Topic3\", \"Topic3\", \"Topic3\", \"Topic3\", \"Topic3\", \"Topic3\", \"Topic3\", \"Topic3\", \"Topic3\", \"Topic3\"], \"logprob\": [30.0, 29.0, 28.0, 27.0, 26.0, 25.0, 24.0, 23.0, 22.0, 21.0, 20.0, 19.0, 18.0, 17.0, 16.0, 15.0, 14.0, 13.0, 12.0, 11.0, 10.0, 9.0, 8.0, 7.0, 6.0, 5.0, 4.0, 3.0, 2.0, 1.0, -4.30079984664917, -4.65749979019165, -4.65749979019165, -4.657599925994873, -5.217299938201904, -5.217299938201904, -5.217299938201904, -5.217299938201904, -5.217299938201904, -5.217299938201904, -5.217400074005127, -5.217400074005127, -5.21750020980835, -5.21750020980835, -5.21750020980835, -5.21750020980835, -5.21750020980835, -5.21750020980835, -5.21750020980835, -5.21750020980835, -5.21750020980835, -5.21750020980835, -5.21750020980835, -5.21750020980835, -5.21750020980835, -5.21750020980835, -5.21750020980835, -5.21750020980835, -5.21750020980835, -5.21750020980835, -4.657299995422363, -4.64769983291626, -4.655799865722656, -5.213699817657471, -5.213799953460693, -5.21619987487793, -5.216800212860107, -4.5605998039245605, -4.560800075531006, -4.561100006103516, -4.562699794769287, -5.120200157165527, -5.120200157165527, -5.120200157165527, -5.120200157165527, -5.120200157165527, -5.120200157165527, -5.1203999519348145, -5.1203999519348145, -5.1203999519348145, -5.1203999519348145, -5.1203999519348145, -5.120500087738037, -5.12060022354126, -5.120500087738037, -5.12060022354126, -5.12060022354126, -5.12060022354126, -5.12060022354126, -5.12060022354126, -5.12060022354126, -5.12060022354126, -5.12060022354126, -5.12060022354126, -5.12060022354126, -5.12060022354126, -5.12060022354126, -3.9337000846862793, -4.556700229644775, -4.546999931335449, -4.554500102996826, -5.111800193786621, -5.114999771118164, -5.1178998947143555, -5.1178998947143555, -5.1184000968933105, -5.118500232696533, -5.1194000244140625, -5.119699954986572, -5.1203999519348145, -4.436999797821045, -4.437099933624268, -4.437399864196777, -4.996799945831299, -4.996799945831299, -4.996799945831299, -4.996799945831299, -4.996799945831299, -4.996799945831299, -4.996799945831299, -4.996799945831299, -4.9969000816345215, -4.9969000816345215, -4.9969000816345215, -4.9969000816345215, -4.9969000816345215, -4.9969000816345215, -4.9969000816345215, -4.9969000816345215, -4.9969000816345215, -4.997000217437744, -4.997000217437744, -4.997000217437744, -4.997000217437744, -4.997000217437744, -4.997000217437744, -4.997000217437744, -4.997000217437744, -4.997000217437744, -4.997099876403809, -4.997099876403809, -4.963200092315674, -4.96619987487793, -4.991199970245361, -4.991499900817871, -4.991000175476074, -4.996399879455566, -4.996699810028076], \"loglift\": [30.0, 29.0, 28.0, 27.0, 26.0, 25.0, 24.0, 23.0, 22.0, 21.0, 20.0, 19.0, 18.0, 17.0, 16.0, 15.0, 14.0, 13.0, 12.0, 11.0, 10.0, 9.0, 8.0, 7.0, 6.0, 5.0, 4.0, 3.0, 2.0, 1.0, 0.7706000208854675, 0.7069000005722046, 0.7067999839782715, 0.7067999839782715, 0.5630999803543091, 0.5630999803543091, 0.5630999803543091, 0.5630999803543091, 0.5630999803543091, 0.5630999803543091, 0.5630999803543091, 0.5630999803543091, 0.5630000233650208, 0.5630000233650208, 0.5630000233650208, 0.5630000233650208, 0.5630000233650208, 0.5630000233650208, 0.5630000233650208, 0.5630000233650208, 0.5630000233650208, 0.5630000233650208, 0.5630000233650208, 0.5630000233650208, 0.5630000233650208, 0.5630000233650208, 0.5630000233650208, 0.5630000233650208, 0.5630000233650208, 0.5630000233650208, 0.44679999351501465, 0.43860000371932983, 0.4307999908924103, 0.17110000550746918, 0.17100000381469727, 0.1923000067472458, 0.1680999994277954, 0.8452000021934509, 0.8450999855995178, 0.8447999954223633, 0.8431000113487244, 0.6916000247001648, 0.6916000247001648, 0.6916000247001648, 0.6916000247001648, 0.6915000081062317, 0.6915000081062317, 0.6912999749183655, 0.6912999749183655, 0.6912999749183655, 0.6912999749183655, 0.6912999749183655, 0.6912000179290771, 0.6912000179290771, 0.6912000179290771, 0.6912000179290771, 0.6912000179290771, 0.6912000179290771, 0.6912000179290771, 0.6912000179290771, 0.6912000179290771, 0.6912000179290771, 0.6912000179290771, 0.6912000179290771, 0.6912000179290771, 0.6912000179290771, 0.691100001335144, 0.6255000233650208, 0.5791000127792358, 0.5557000041007996, 0.5479000210762024, 0.2732999920845032, 0.27000001072883606, 0.2671000063419342, 0.2669999897480011, 0.26649999618530273, 0.31139999628067017, 0.265500009059906, 0.3102000057697296, 0.2644999921321869, 1.017699956893921, 1.0176000595092773, 1.017300009727478, 0.8514000177383423, 0.8514000177383423, 0.8514000177383423, 0.8514000177383423, 0.8514000177383423, 0.8513000011444092, 0.8513000011444092, 0.8513000011444092, 0.8513000011444092, 0.8513000011444092, 0.8513000011444092, 0.8513000011444092, 0.8513000011444092, 0.8511999845504761, 0.8511999845504761, 0.8511999845504761, 0.8511999845504761, 0.8511999845504761, 0.8511999845504761, 0.8511999845504761, 0.8511999845504761, 0.8511000275611877, 0.8511000275611877, 0.8511000275611877, 0.8511000275611877, 0.8511000275611877, 0.8511000275611877, 0.8511000275611877, 0.4474000036716461, 0.4442000091075897, 0.41760000586509705, 0.43860000371932983, 0.1290999948978424, 0.4120999872684479, 0.10740000009536743]}, \"token.table\": {\"Topic\": [3, 1, 3, 1, 2, 1, 1, 3, 3, 2, 2, 3, 1, 3, 2, 1, 1, 2, 2, 3, 1, 2, 1, 3, 3, 2, 2, 2, 1, 2, 3, 3, 1, 1, 1, 3, 2, 2, 3, 1, 3, 1, 2, 2, 2, 1, 2, 1, 2, 3, 3, 1, 1, 1, 3, 3, 2, 3, 2, 2, 3, 1, 3, 1, 2, 1, 1, 1, 2, 2, 3, 2, 1, 3, 2, 2, 1, 2, 1, 2, 3, 2, 1, 3, 2, 3, 2, 1, 2, 2, 1, 3, 1, 1, 2, 1, 3, 1, 2, 3, 3, 1, 1, 3, 2, 3, 2, 1, 3, 1, 2, 2, 2, 3, 1, 2, 2, 1, 1, 1, 3, 3, 3, 3, 1, 3, 1, 3, 2, 1, 2, 2, 3, 1, 3, 1, 1, 2, 1, 2, 3, 1, 2], \"Freq\": [0.9708465337753296, 0.9073167443275452, 0.970852255821228, 0.6109455823898315, 0.6109455823898315, 0.9073265790939331, 0.625435471534729, 0.625435471534729, 0.9708439111709595, 0.9361550211906433, 0.9361547231674194, 0.6550256013870239, 0.6254891753196716, 0.6254891753196716, 0.9361555576324463, 0.9073259830474854, 0.6109477877616882, 0.6109477877616882, 0.9361481070518494, 0.9708520174026489, 0.9073264002799988, 0.6238256692886353, 0.9073203802108765, 0.9708566069602966, 0.9708518981933594, 0.9361521005630493, 0.9361525177955627, 0.9361552000045776, 0.6110397577285767, 0.6110397577285767, 0.9708520174026489, 0.9708364009857178, 0.9073205590248108, 0.9073261022567749, 0.9073269963264465, 0.9708425998687744, 0.623813807964325, 0.6238381266593933, 0.9708564877510071, 0.9073168635368347, 0.9708426594734192, 0.45334628224372864, 0.45334628224372864, 0.9361546039581299, 0.9361539483070374, 0.6108402609825134, 0.6108402609825134, 0.9073165655136108, 0.9361547827720642, 0.9708428978919983, 0.9708563089370728, 0.907325804233551, 0.907325804233551, 0.9073169827461243, 0.9708412289619446, 0.970851480960846, 0.6390188336372375, 0.6390188336372375, 0.9361521005630493, 0.6390100121498108, 0.6390100121498108, 0.5984666347503662, 0.9708427786827087, 0.6108406186103821, 0.6108406186103821, 0.9073265790939331, 0.907326877117157, 0.9073261022567749, 0.9361485242843628, 0.9361541867256165, 0.9708362817764282, 0.936153769493103, 0.6266581416130066, 0.6266581416130066, 0.9361552000045776, 0.9361522793769836, 0.6109875440597534, 0.6109875440597534, 0.46877360343933105, 0.46877360343933105, 0.46877360343933105, 0.9361546039581299, 0.6256865859031677, 0.6256865859031677, 0.6391502618789673, 0.6391502618789673, 0.9361529350280762, 0.6109060645103455, 0.6109060645103455, 0.9361540675163269, 0.9073271751403809, 0.9708569645881653, 0.9073273539543152, 0.610885739326477, 0.610885739326477, 0.9073272347450256, 0.9708517789840698, 0.9073165655136108, 0.9361521005630493, 0.9708459377288818, 0.9708567261695862, 0.9073261618614197, 0.5984686017036438, 0.6550461053848267, 0.9361529350280762, 0.9708461761474609, 0.9361485242843628, 0.46134430170059204, 0.46134430170059204, 0.6109278202056885, 0.6109278202056885, 0.6238272786140442, 0.9361519813537598, 0.6550410985946655, 0.9073167443275452, 0.9361555576324463, 0.936147928237915, 0.9073266983032227, 0.9073267579078674, 0.8929714560508728, 0.9708436727523804, 0.9708534479141235, 0.9708461761474609, 0.9708406925201416, 0.9073267579078674, 0.9708418846130371, 0.9073275327682495, 0.9708523750305176, 0.9361519813537598, 0.4532061815261841, 0.4532061815261841, 0.47619375586509705, 0.47619375586509705, 0.6267725825309753, 0.6267725825309753, 0.5984646081924438, 0.4606892764568329, 0.4606892764568329, 0.2675217092037201, 0.5350434184074402, 0.2675217092037201, 0.46055835485458374, 0.46055835485458374], \"Term\": [\"allow\", \"almost\", \"amusement\", \"answer\", \"answer\", \"arouse\", \"become\", \"become\", \"behind\", \"bodily\", \"brand\", \"break\", \"bride\", \"bride\", \"build\", \"central\", \"change\", \"change\", \"chief\", \"chile\", \"clapping\", \"clothes\", \"colored\", \"common\", \"complete\", \"conceal\", \"conductor\", \"conform\", \"consider\", \"consider\", \"course\", \"cousin\", \"cream\", \"cucumber\", \"curiosity\", \"curtain\", \"damascus\", \"daughter\", \"defeat\", \"different\", \"disappear\", \"doctor\", \"doctor\", \"dothes\", \"eldest\", \"enter\", \"enter\", \"every\", \"everything\", \"expression\", \"father\", \"fill\", \"flank\", \"friday\", \"graves\", \"group\", \"hands\", \"hands\", \"hope\", \"house\", \"house\", \"invite\", \"isthe\", \"large\", \"large\", \"laughter\", \"lemon\", \"lettuce\", \"mahmud\", \"married\", \"marry\", \"mather\", \"mother\", \"mother\", \"need\", \"obvious\", \"office\", \"office\", \"ofthe\", \"ofthe\", \"ofthe\", \"open\", \"order\", \"order\", \"others\", \"others\", \"party\", \"pasha\", \"pasha\", \"paternal\", \"person\", \"perspective\", \"picture\", \"place\", \"place\", \"possible\", \"provide\", \"reaives\", \"realize\", \"receive\", \"relate\", \"right\", \"rooms\", \"round\", \"running\", \"schooling\", \"shukat\", \"siham\", \"siham\", \"sister\", \"sister\", \"sleep\", \"smile\", \"soldier\", \"spend\", \"spiritual\", \"staff\", \"start\", \"stint\", \"sweet\", \"telecommunication\", \"third\", \"training\", \"trough\", \"usually\", \"veil\", \"venture\", \"waich\", \"walking\", \"wedding\", \"wedding\", \"white\", \"white\", \"whole\", \"whole\", \"without\", \"woman\", \"woman\", \"would\", \"would\", \"would\", \"young\", \"young\"]}, \"R\": 30, \"lambda.step\": 0.01, \"plot.opts\": {\"xlab\": \"PC1\", \"ylab\": \"PC2\"}, \"topic.order\": [1, 2, 3]};\n",
              "\n",
              "function LDAvis_load_lib(url, callback){\n",
              "  var s = document.createElement('script');\n",
              "  s.src = url;\n",
              "  s.async = true;\n",
              "  s.onreadystatechange = s.onload = callback;\n",
              "  s.onerror = function(){console.warn(\"failed to load library \" + url);};\n",
              "  document.getElementsByTagName(\"head\")[0].appendChild(s);\n",
              "}\n",
              "\n",
              "if(typeof(LDAvis) !== \"undefined\"){\n",
              "   // already loaded: just create the visualization\n",
              "   !function(LDAvis){\n",
              "       new LDAvis(\"#\" + \"ldavis_el7611405361414106162425536640\", ldavis_el7611405361414106162425536640_data);\n",
              "   }(LDAvis);\n",
              "}else if(typeof define === \"function\" && define.amd){\n",
              "   // require.js is available: use it to load d3/LDAvis\n",
              "   require.config({paths: {d3: \"https://cdnjs.cloudflare.com/ajax/libs/d3/3.5.5/d3.min\"}});\n",
              "   require([\"d3\"], function(d3){\n",
              "      window.d3 = d3;\n",
              "      LDAvis_load_lib(\"https://cdn.rawgit.com/bmabey/pyLDAvis/files/ldavis.v1.0.0.js\", function(){\n",
              "        new LDAvis(\"#\" + \"ldavis_el7611405361414106162425536640\", ldavis_el7611405361414106162425536640_data);\n",
              "      });\n",
              "    });\n",
              "}else{\n",
              "    // require.js not available: dynamically load d3 & LDAvis\n",
              "    LDAvis_load_lib(\"https://cdnjs.cloudflare.com/ajax/libs/d3/3.5.5/d3.min.js\", function(){\n",
              "         LDAvis_load_lib(\"https://cdn.rawgit.com/bmabey/pyLDAvis/files/ldavis.v1.0.0.js\", function(){\n",
              "                 new LDAvis(\"#\" + \"ldavis_el7611405361414106162425536640\", ldavis_el7611405361414106162425536640_data);\n",
              "            })\n",
              "         });\n",
              "}\n",
              "</script>"
            ],
            "text/plain": [
              "<IPython.core.display.HTML object>"
            ]
          },
          "metadata": {
            "tags": []
          },
          "execution_count": 15
        }
      ]
    },
    {
      "cell_type": "code",
      "metadata": {
        "id": "zXfWHSFbcdy5",
        "colab_type": "code",
        "colab": {
          "base_uri": "https://localhost:8080/",
          "height": 915
        },
        "outputId": "5bbab56d-53ec-48f4-8777-410dfb1e35fb"
      },
      "source": [
        "lda10 = gensim.models.ldamodel.LdaModel.load('model10.gensim')\n",
        "lda_display10 = pyLDAvis.gensim.prepare(lda10, corpus, dictionary, sort_topics=False)\n",
        "pyLDAvis.display(lda_display10)"
      ],
      "execution_count": null,
      "outputs": [
        {
          "output_type": "stream",
          "text": [
            "/usr/local/lib/python3.6/dist-packages/smart_open/smart_open_lib.py:254: UserWarning: This function is deprecated, use smart_open.open instead. See the migration notes for details: https://github.com/RaRe-Technologies/smart_open/blob/master/README.rst#migrating-to-the-new-open-function\n",
            "  'See the migration notes for details: %s' % _MIGRATION_NOTES_URL\n"
          ],
          "name": "stderr"
        },
        {
          "output_type": "execute_result",
          "data": {
            "text/html": [
              "\n",
              "<link rel=\"stylesheet\" type=\"text/css\" href=\"https://cdn.rawgit.com/bmabey/pyLDAvis/files/ldavis.v1.0.0.css\">\n",
              "\n",
              "\n",
              "<div id=\"ldavis_el7611405361417203367443164588\"></div>\n",
              "<script type=\"text/javascript\">\n",
              "\n",
              "var ldavis_el7611405361417203367443164588_data = {\"mdsDat\": {\"x\": [-0.006303687414280798, 0.006252354790971869, 0.09253771491918461, -0.0014545232507699349, 0.021249978397526702, -0.1958217682201492, 0.025608327730965278, -0.03824598323646417, 0.08434708034325775, 0.011830505939757431], \"y\": [-0.01679949461333995, -0.01622162617535094, 0.1422692063103494, -0.010788680906216753, 0.041818058411732105, 0.021273064595812387, 0.024264378304224055, -0.02399175733592045, -0.13145749940530707, -0.030365649185983175], \"topics\": [1, 2, 3, 4, 5, 6, 7, 8, 9, 10], \"cluster\": [1, 1, 1, 1, 1, 1, 1, 1, 1, 1], \"Freq\": [6.657836437225342, 6.947279930114746, 13.56392765045166, 6.783881664276123, 10.636086463928223, 19.273189544677734, 7.477161407470703, 9.286880493164062, 12.171699523925781, 7.202049255371094]}, \"tinfo\": {\"Term\": [\"would\", \"white\", \"wedding\", \"woman\", \"clothes\", \"damascus\", \"without\", \"enter\", \"large\", \"doctor\", \"young\", \"siham\", \"mother\", \"answer\", \"daughter\", \"sister\", \"ofthe\", \"house\", \"sweet\", \"soldier\", \"order\", \"change\", \"break\", \"consider\", \"officer\", \"given\", \"repeat\", \"siory\", \"edirne\", \"reply\", \"officer\", \"schooling\", \"training\", \"given\", \"repeat\", \"telecommunication\", \"disturb\", \"sleeping\", \"middle\", \"siory\", \"company\", \"reply\", \"telegraph\", \"continue\", \"reach\", \"edirne\", \"allow\", \"receive\", \"exclaim\", \"soldier\", \"order\", \"change\", \"fahmi\", \"kasim\", \"bark\", \"beother\", \"going\", \"donkey\", \"conductor\", \"seched\", \"directly\", \"wire\", \"usclessly\", \"antar\", \"stoke\", \"electrical\", \"leave\", \"play\", \"sound\", \"lovely\", \"hundred\", \"battalion\", \"form\", \"office\", \"eoough\", \"would\", \"damascus\", \"semorat\", \"clothes\", \"honest\", \"writing\", \"older\", \"painstakingly\", \"casting\", \"staris\", \"bridegroom\", \"aspersion\", \"wholly\", \"turn\", \"purpose\", \"touch\", \"reveal\", \"moment\", \"include\", \"provider\", \"daughter\", \"consider\", \"wedding\", \"siham\", \"exclaim\", \"telegraph\", \"reach\", \"receive\", \"schooling\", \"company\", \"reply\", \"repeat\", \"continue\", \"officer\", \"given\", \"middle\", \"disturb\", \"training\", \"sleeping\", \"siory\", \"telecommunication\", \"edirne\", \"allow\", \"would\", \"semorat\", \"profits\", \"eoough\", \"damascus\", \"break\", \"doctor\", \"hope\", \"woman\", \"rape\", \"curiosity\", \"thatthe\", \"lady\", \"syrian\", \"cotton\", \"bizuriyya\", \"years\", \"mountain\", \"clapping\", \"isthe\", \"arouse\", \"forthe\", \"congratulation\", \"expression\", \"graves\", \"grow\", \"call\", \"interrupt\", \"SCREEN_NAME\", \"funeral\", \"marje\", \"grape\", \"country\", \"running\", \"square\", \"rebel\", \"party\", \"murderer\", \"tickle\", \"relative\", \"present\", \"trough\", \"young\", \"fill\", \"fifteen\", \"jamal\", \"ofthe\", \"laughter\", \"bride\", \"invite\", \"going\", \"wire\", \"lovely\", \"directly\", \"stoke\", \"leave\", \"usclessly\", \"conductor\", \"fahmi\", \"seched\", \"kasim\", \"antar\", \"beother\", \"sound\", \"play\", \"electrical\", \"donkey\", \"bark\", \"answer\", \"house\", \"break\", \"doctor\", \"exclaim\", \"reach\", \"telegraph\", \"disturb\", \"sleeping\", \"given\", \"reply\", \"siory\", \"middle\", \"training\", \"telecommunication\", \"company\", \"repeat\", \"edirne\", \"continue\", \"schooling\", \"allow\", \"officer\", \"receive\", \"damascus\", \"would\", \"whore\", \"colloquial\", \"mother\", \"whole\", \"semorat\", \"revea\", \"mother\", \"happy\", \"accent\", \"bodily\", \"paste\", \"pour\", \"mahmud\", \"chief\", \"mating\", \"could\", \"approach\", \"need\", \"conform\", \"build\", \"pass\", \"yawn\", \"sugar\", \"staff\", \"storyteller\", \"kassim\", \"boldiness\", \"characteristic\", \"important\", \"health\", \"cemetery\", \"shukat\", \"spiritual\", \"hindrance\", \"sesame\", \"truth\", \"camel\", \"catle\", \"colloquial\", \"office\", \"pasha\", \"would\", \"round\", \"place\", \"others\", \"become\", \"stint\", \"flank\", \"central\", \"complete\", \"course\", \"third\", \"amusement\", \"chile\", \"group\", \"waich\", \"provide\", \"almost\", \"different\", \"every\", \"friday\", \"reaives\", \"spend\", \"koran\", \"cling\", \"whore\", \"walking\", \"smile\", \"small\", \"right\", \"realize\", \"genuine\", \"sledgehammer\", \"poking\", \"boil\", \"wonderful\", \"ihways\", \"vegetable\", \"obvious\", \"hope\", \"lover\", \"whole\", \"sleep\", \"indulge\", \"shaikh\", \"responsible\", \"sheepskin\", \"pillow\", \"entertain\", \"without\", \"cream\", \"everything\", \"colored\", \"brand\", \"cousin\", \"kind\", \"dothes\", \"kibbi\", \"open\", \"bird\", \"marry\", \"mafry\", \"yoghurt\", \"offer\", \"something\", \"story\", \"revea\", \"eoough\", \"wedding\", \"daughter\", \"sweet\", \"young\", \"exclaim\", \"telegraph\", \"reach\", \"repeat\", \"training\", \"middle\", \"sleeping\", \"siory\", \"telecommunication\", \"disturb\", \"reply\", \"company\", \"allow\", \"receive\", \"officer\", \"given\", \"damascus\", \"would\", \"profits\", \"semorat\", \"doctor\", \"white\", \"enter\", \"large\", \"black\", \"malaya\", \"bible\", \"passing\", \"guest\", \"threads\", \"suddenly\", \"green\", \"sprinkle\", \"productive\", \"committee\", \"ibrahim\", \"walk\", \"velcomed\", \"military\", \"recite\", \"begging\", \"general\", \"biess\", \"fifty\", \"loom\", \"usually\", \"workshop\", \"saving\", \"hands\", \"rooms\", \"doctor\", \"would\", \"white\", \"sister\", \"lemon\", \"cucumber\", \"garlic\", \"person\", \"start\", \"family\", \"mather\", \"paternal\", \"singing\", \"child\", \"really\", \"angry\", \"along\", \"ceremony\", \"perspective\", \"remain\", \"relate\", \"eldest\", \"father\", \"defeat\", \"compose\", \"perform\", \"popular\", \"symphony\", \"common\", \"lettuce\", \"married\", \"outside\", \"disappear\", \"veil\", \"abandon\", \"desert\", \"collapse\", \"damascus\", \"mazza\", \"three\", \"plan\", \"possible\", \"try\", \"venture\", \"chadija\", \"barb\", \"inside\", \"mates\", \"month\", \"brief\", \"picture\", \"olive\", \"court\", \"laugh\", \"authentic\", \"pickle\", \"lightening\", \"answer\", \"doctor\", \"siham\", \"exclaim\", \"reach\", \"telegraph\", \"disturb\", \"middle\", \"repeat\", \"company\", \"edirne\", \"sleeping\", \"telecommunication\", \"officer\", \"continue\", \"reply\", \"siory\", \"allow\", \"training\", \"schooling\", \"given\", \"would\", \"profits\", \"semorat\", \"eoough\", \"sound\", \"feather\"], \"Freq\": [4.0, 2.0, 1.0, 2.0, 1.0, 1.0, 1.0, 1.0, 1.0, 1.0, 2.0, 2.0, 1.0, 1.0, 1.0, 1.0, 2.0, 1.0, 2.0, 1.0, 1.0, 1.0, 1.0, 1.0, 0.0, 0.0, 0.0, 0.0, 0.0, 0.0, 0.49421462416648865, 0.49421459436416626, 0.49421459436416626, 0.49421462416648865, 0.49421459436416626, 0.49421459436416626, 0.49421459436416626, 0.49421459436416626, 0.49421459436416626, 0.49421459436416626, 0.49421459436416626, 0.49421459436416626, 0.4942145347595215, 0.49421459436416626, 0.4942145347595215, 0.49421459436416626, 0.49421459436416626, 0.49421459436416626, 0.49421438574790955, 0.49421486258506775, 0.49422022700309753, 0.49422016739845276, 0.04492862895131111, 0.044928621500730515, 0.044928617775440216, 0.044928617775440216, 0.044928617775440216, 0.044928617775440216, 0.044928617775440216, 0.04492861405014992, 0.044928617775440216, 0.044928617775440216, 0.044928617775440216, 0.044928617775440216, 0.04492861405014992, 0.04492861405014992, 0.04492861405014992, 0.044928617775440216, 0.04492861405014992, 0.04492861405014992, 0.04524659365415573, 0.04524126276373863, 0.0452272854745388, 0.045239225029945374, 0.0449286513030529, 0.0449286587536335, 0.0449286624789238, 0.0449286513030529, 0.9845702648162842, 0.5157272815704346, 0.5157272815704346, 0.5157273411750793, 0.5157272815704346, 0.5157272815704346, 0.5157272815704346, 0.5157272815704346, 0.5157272815704346, 0.5157272815704346, 0.5157273411750793, 0.5157272815704346, 0.5157272815704346, 0.5157272815704346, 0.5157272815704346, 0.5157272815704346, 0.5157273411750793, 0.515730082988739, 0.5157286524772644, 0.5157200694084167, 0.5157264471054077, 0.046884339302778244, 0.04688432812690735, 0.04688431695103645, 0.04688431695103645, 0.046884313225746155, 0.046884313225746155, 0.046884313225746155, 0.046884313225746155, 0.04688431695103645, 0.046884313225746155, 0.046884313225746155, 0.046884313225746155, 0.04688431695103645, 0.046884313225746155, 0.04688431695103645, 0.046884313225746155, 0.046884313225746155, 0.046884313225746155, 0.046884313225746155, 0.04688437655568123, 0.04688434675335884, 0.046884335577487946, 0.04688435047864914, 0.04688435420393944, 0.046884335577487946, 0.04688434302806854, 0.046884313225746155, 1.8326984643936157, 0.6503123641014099, 0.6503123641014099, 0.6503123641014099, 0.6503123641014099, 0.6503123641014099, 0.6503123641014099, 0.6503123641014099, 0.6503123641014099, 0.6503123641014099, 0.6503123641014099, 0.6503123641014099, 0.6503123641014099, 0.6503123641014099, 0.6503123641014099, 0.6503123641014099, 0.6503123641014099, 0.6503123641014099, 0.6503123641014099, 0.6503123641014099, 0.6503123641014099, 0.6503123641014099, 0.6503123641014099, 0.6503123641014099, 0.6503123641014099, 0.6503123641014099, 0.6503123641014099, 0.6503123641014099, 0.6503123641014099, 0.6503123641014099, 0.6503123641014099, 0.6503123641014099, 0.6503123641014099, 0.6503123641014099, 1.2415077686309814, 0.6503123641014099, 0.6503123641014099, 0.6503123641014099, 1.2415109872817993, 0.6503123641014099, 0.6503134965896606, 0.6503126621246338, 0.5035973787307739, 0.5035973787307739, 0.5035973787307739, 0.5035973787307739, 0.5035973787307739, 0.5035973787307739, 0.5035973787307739, 0.5035973787307739, 0.5035973191261292, 0.5035973787307739, 0.5035973191261292, 0.5035973787307739, 0.5035973787307739, 0.5035973787307739, 0.5035973787307739, 0.5035973787307739, 0.5035973787307739, 0.5035973191261292, 0.5035977959632874, 0.5035978555679321, 0.5036052465438843, 0.5035921335220337, 0.04578162729740143, 0.04578160494565964, 0.04578160494565964, 0.04578160494565964, 0.04578160494565964, 0.04578160122036934, 0.04578160122036934, 0.04578159749507904, 0.04578159749507904, 0.04578159376978874, 0.04578159749507904, 0.04578159749507904, 0.04578159749507904, 0.04578159749507904, 0.04578159749507904, 0.04578159376978874, 0.04578159376978874, 0.04578159749507904, 0.04578159749507904, 0.04578165337443352, 0.045781638473272324, 0.045781608670949936, 0.045781608670949936, 0.045781608670949936, 0.04578161612153053, 0.04578162729740143, 0.045781608670949936, 1.1246651411056519, 0.5891101956367493, 0.5891101956367493, 0.5891103744506836, 0.5891103148460388, 0.5891103148460388, 0.5891103148460388, 0.5891103148460388, 0.5891103148460388, 0.5891103148460388, 0.5891103148460388, 0.5891103148460388, 0.5891103148460388, 0.5891103148460388, 0.5891103148460388, 0.5891103148460388, 0.5891103148460388, 0.5891103148460388, 0.5891103148460388, 0.5891103148460388, 0.5891103148460388, 0.5891103148460388, 0.5891103148460388, 0.5891103148460388, 0.5891103148460388, 0.5891103148460388, 0.5891103148460388, 0.5891103148460388, 0.5891103148460388, 0.5891103148460388, 0.5891103148460388, 0.5891103148460388, 0.5891101956367493, 0.5891151428222656, 0.5891111493110657, 3.312523603439331, 1.3644713163375854, 1.3644713163375854, 1.3644713163375854, 1.3644713163375854, 0.7147231101989746, 0.7147231101989746, 0.7147231101989746, 0.7147231101989746, 0.7147231101989746, 0.7147231101989746, 0.7147231101989746, 0.7147231101989746, 0.7147231101989746, 0.7147231101989746, 0.7147231101989746, 0.7147231101989746, 0.7147231101989746, 0.7147231101989746, 0.7147231101989746, 0.7147231101989746, 0.7147231101989746, 0.7147230505943298, 0.7147230505943298, 0.7147229909896851, 0.7147230505943298, 0.7147230505943298, 0.7147231101989746, 0.7147231101989746, 0.7147230505943298, 0.7147230505943298, 0.7147230505943298, 0.7147230505943298, 0.7147230505943298, 0.7147230505943298, 0.7147230505943298, 0.7147229909896851, 0.7147230505943298, 0.7147230505943298, 0.7147230505943298, 0.7147278785705566, 0.7147247195243835, 0.7147230505943298, 0.7147230505943298, 0.7147230505943298, 0.7147230505943298, 0.7147230505943298, 0.7147230505943298, 1.0027955770492554, 0.525273859500885, 0.525273859500885, 0.525273859500885, 0.525273859500885, 0.525273859500885, 0.525273859500885, 0.525273859500885, 0.525273859500885, 0.525273859500885, 0.525273859500885, 0.525273859500885, 0.525273859500885, 0.525273859500885, 0.525273859500885, 0.525273859500885, 0.525273859500885, 0.5252737998962402, 0.5252735614776611, 1.002802848815918, 0.5252709984779358, 0.5252813696861267, 0.525272011756897, 0.04775220900774002, 0.04775219038128853, 0.04775219038128853, 0.04775218665599823, 0.04775218293070793, 0.04775219038128853, 0.04775219038128853, 0.04775218665599823, 0.04775218665599823, 0.04775219038128853, 0.04775218665599823, 0.04775218293070793, 0.04775218293070793, 0.04775219038128853, 0.04775218665599823, 0.04775218665599823, 0.04775223881006241, 0.04775222763419151, 0.04775220900774002, 0.04775221273303032, 0.04775221273303032, 0.04775219038128853, 1.1069976091384888, 1.106466293334961, 0.5798559188842773, 0.5798559188842773, 0.5798559188842773, 0.5798559188842773, 0.5798559188842773, 0.5798559188842773, 0.5798559188842773, 0.5798559188842773, 0.5798559188842773, 0.5798559188842773, 0.5798559188842773, 0.5798559188842773, 0.5798559188842773, 0.5798559188842773, 0.5798559188842773, 0.5798559188842773, 0.5798559188842773, 0.5798559188842773, 0.5798559188842773, 0.5794177651405334, 0.5793567299842834, 0.5793424248695374, 0.5793218612670898, 0.579318642616272, 0.5798635482788086, 0.5798590183258057, 0.57985919713974, 0.5798457860946655, 1.7984546422958374, 1.2183079719543457, 0.6381613612174988, 0.6381613612174988, 0.6381613612174988, 0.6381613612174988, 0.6381613612174988, 0.638161301612854, 0.638161301612854, 0.638161301612854, 0.638161301612854, 0.638161301612854, 0.638161301612854, 0.638161301612854, 0.638161301612854, 0.638161301612854, 0.638161301612854, 0.638161301612854, 0.638161301612854, 0.638161301612854, 0.638161301612854, 0.638161301612854, 0.638161301612854, 0.638161301612854, 0.638161301612854, 0.638161301612854, 0.638161301612854, 0.6381613612174988, 0.638161301612854, 0.638161301612854, 0.638161301612854, 0.638161301612854, 0.638161301612854, 0.638161301612854, 0.638161301612854, 0.9826242923736572, 0.5151629447937012, 0.5151629447937012, 0.5151629447937012, 0.5151629447937012, 0.5151629447937012, 0.5151629447937012, 0.5151629447937012, 0.5151629447937012, 0.5151629447937012, 0.5151629447937012, 0.5151629447937012, 0.5151629447937012, 0.5151629447937012, 0.5151629447937012, 0.5151629447937012, 0.5151629447937012, 0.5151629447937012, 0.5151628851890564, 0.5151628255844116, 0.5151625871658325, 0.515165388584137, 0.5151651501655579, 0.04683304205536842, 0.046833012253046036, 0.046833012253046036, 0.046833015978336334, 0.046833012253046036, 0.046833012253046036, 0.046833012253046036, 0.046833012253046036, 0.046833012253046036, 0.046833012253046036, 0.046833012253046036, 0.046833012253046036, 0.046833012253046036, 0.046833012253046036, 0.046833012253046036, 0.04683300852775574, 0.04683300852775574, 0.046833012253046036, 0.04770135506987572, 0.04683304205536842, 0.04683304205536842, 0.04683304205536842, 0.046833012253046036, 0.04683301970362663], \"Total\": [4.0, 2.0, 1.0, 2.0, 1.0, 1.0, 1.0, 1.0, 1.0, 1.0, 2.0, 2.0, 1.0, 1.0, 1.0, 1.0, 2.0, 1.0, 2.0, 1.0, 1.0, 1.0, 1.0, 1.0, 0.0, 0.0, 0.0, 0.0, 0.0, 0.0, 0.9698443412780762, 0.9698442220687866, 0.9698442220687866, 0.9698443412780762, 0.9698442816734314, 0.9698442816734314, 0.9698442816734314, 0.9698442816734314, 0.9698442816734314, 0.9698442816734314, 0.9698442816734314, 0.9698442816734314, 0.9698442220687866, 0.9698442816734314, 0.9698442220687866, 0.9698442816734314, 0.9698442816734314, 0.9698442816734314, 0.9698442220687866, 1.5499908924102783, 1.6195900440216064, 1.6195900440216064, 0.9783740639686584, 0.9783740043640137, 0.9783740043640137, 0.9783740639686584, 0.9783740639686584, 0.9783740639686584, 0.9783740639686584, 0.9783740043640137, 0.9783740639686584, 0.9783740639686584, 0.9783740639686584, 0.9783740639686584, 0.9783740043640137, 0.9783740639686584, 0.9783740639686584, 0.9783740639686584, 0.9783740639686584, 0.9783740639686584, 1.1701645851135254, 1.1701669692993164, 1.170173168182373, 1.7057218551635742, 0.9980799555778503, 4.296107292175293, 1.4574460983276367, 1.1703065633773804, 1.4582443237304688, 0.9894012808799744, 0.9894012808799744, 0.9894013404846191, 0.9894012212753296, 0.9894012212753296, 0.9894012212753296, 0.9894012808799744, 0.9894012212753296, 0.9894012808799744, 0.9894013404846191, 0.9894012808799744, 0.9894012808799744, 0.9894012212753296, 0.9894012808799744, 0.9894012212753296, 0.9894013404846191, 1.4669229984283447, 1.6391491889953613, 1.9444448947906494, 2.0378775596618652, 0.9698442220687866, 0.9698442220687866, 0.9698442220687866, 0.9698442816734314, 0.9698442220687866, 0.9698442816734314, 0.9698442816734314, 0.9698442816734314, 0.9698442816734314, 0.9698443412780762, 0.9698443412780762, 0.9698442816734314, 0.9698442816734314, 0.9698442220687866, 0.9698442816734314, 0.9698442816734314, 0.9698442816734314, 0.9698442816734314, 0.9698442816734314, 4.296107292175293, 1.1703065633773804, 1.0561131238937378, 0.9980799555778503, 1.4574460983276367, 1.6281192302703857, 1.973846435546875, 1.1703064441680908, 2.2941372394561768, 1.1117513179779053, 1.1117513179779053, 1.1117513179779053, 1.1117513179779053, 1.1117513179779053, 1.1117513179779053, 1.1117513179779053, 1.1117513179779053, 1.1117513179779053, 1.1117513179779053, 1.1117513179779053, 1.1117513179779053, 1.1117513179779053, 1.1117513179779053, 1.1117513179779053, 1.1117513179779053, 1.1117513179779053, 1.1117513179779053, 1.1117513179779053, 1.1117513179779053, 1.1117513179779053, 1.1117513179779053, 1.1117513179779053, 1.1117513179779053, 1.1117513179779053, 1.1117513179779053, 1.1117513179779053, 1.1117513179779053, 1.1117513179779053, 1.1117513179779053, 1.1117513179779053, 1.1117513179779053, 1.1117513179779053, 2.180466651916504, 1.1117513179779053, 1.1117513179779053, 1.1117513179779053, 2.2830913066864014, 1.1117513179779053, 1.691898226737976, 1.7614995241165161, 0.9783740639686584, 0.9783740639686584, 0.9783740639686584, 0.9783740639686584, 0.9783740043640137, 0.9783740639686584, 0.9783740639686584, 0.9783740639686584, 0.9783740639686584, 0.9783740043640137, 0.9783740043640137, 0.9783740639686584, 0.9783740639686584, 0.9783740639686584, 0.9783740639686584, 0.9783740639686584, 0.9783740639686584, 0.9783740043640137, 1.4467041492462158, 1.5139288902282715, 1.6281192302703857, 1.973846435546875, 0.9698442220687866, 0.9698442220687866, 0.9698442220687866, 0.9698442816734314, 0.9698442816734314, 0.9698443412780762, 0.9698442816734314, 0.9698442816734314, 0.9698442816734314, 0.9698442220687866, 0.9698442816734314, 0.9698442816734314, 0.9698442816734314, 0.9698442816734314, 0.9698442816734314, 0.9698442220687866, 0.9698442816734314, 0.9698443412780762, 0.9698442816734314, 1.4574460983276367, 4.296107292175293, 1.1703064441680908, 1.0561131238937378, 1.5916681289672852, 1.7615002393722534, 1.1703065633773804, 0.9980800747871399, 1.5916681289672852, 1.0561130046844482, 1.0561130046844482, 1.0561131238937378, 1.0561131238937378, 1.0561131238937378, 1.0561131238937378, 1.0561131238937378, 1.0561131238937378, 1.0561131238937378, 1.0561132431030273, 1.0561131238937378, 1.0561131238937378, 1.0561131238937378, 1.0561131238937378, 1.0561131238937378, 1.0561131238937378, 1.0561131238937378, 1.0561131238937378, 1.0561131238937378, 1.0561132431030273, 1.0561131238937378, 1.0561131238937378, 1.0561131238937378, 1.0561131238937378, 1.0561131238937378, 1.0561131238937378, 1.0561131238937378, 1.0561132431030273, 1.0561131238937378, 1.0561131238937378, 1.0561131238937378, 1.0561131238937378, 1.7057218551635742, 1.6473060846328735, 4.296107292175293, 1.8200546503067017, 1.8200546503067017, 1.8200547695159912, 1.8200547695159912, 1.1703064441680908, 1.1703064441680908, 1.1703064441680908, 1.1703064441680908, 1.1703064441680908, 1.1703064441680908, 1.1703064441680908, 1.1703064441680908, 1.1703064441680908, 1.1703064441680908, 1.1703064441680908, 1.1703064441680908, 1.1703064441680908, 1.1703064441680908, 1.1703064441680908, 1.1703064441680908, 1.1703064441680908, 1.1703064441680908, 1.1703064441680908, 1.1703064441680908, 1.1703064441680908, 1.1703064441680908, 1.1703065633773804, 1.1703065633773804, 1.1703064441680908, 1.1703064441680908, 1.1703064441680908, 1.1703064441680908, 1.1703064441680908, 1.1703064441680908, 1.1703064441680908, 1.1703064441680908, 1.1703064441680908, 1.1703064441680908, 1.17030668258667, 1.7615002393722534, 1.7058618068695068, 1.1703064441680908, 1.1703064441680908, 1.1703064441680908, 1.1703064441680908, 1.1703064441680908, 1.1703064441680908, 1.4756016731262207, 0.9980798959732056, 0.9980798959732056, 0.9980798959732056, 0.9980798959732056, 0.9980798959732056, 0.9980799555778503, 0.9980799555778503, 0.9980799555778503, 0.9980799555778503, 0.9980799555778503, 0.9980799555778503, 0.9980799555778503, 0.9980800151824951, 0.9980800151824951, 0.9980800151824951, 0.9980800151824951, 0.9980800747871399, 0.9980799555778503, 1.9444448947906494, 1.4669229984283447, 2.1248269081115723, 2.180466651916504, 0.9698442220687866, 0.9698442220687866, 0.9698442220687866, 0.9698442816734314, 0.9698442220687866, 0.9698442816734314, 0.9698442816734314, 0.9698442816734314, 0.9698442816734314, 0.9698442816734314, 0.9698442816734314, 0.9698442816734314, 0.9698442816734314, 0.9698442816734314, 0.9698443412780762, 0.9698443412780762, 1.4574460983276367, 4.296107292175293, 1.0561131238937378, 1.1703065633773804, 1.973846435546875, 2.260998249053955, 1.5748417377471924, 1.574906349182129, 1.0476999282836914, 1.0476999282836914, 1.0476999282836914, 1.0476999282836914, 1.0476999282836914, 1.0476999282836914, 1.047700047492981, 1.047700047492981, 1.047700047492981, 1.047700047492981, 1.047700047492981, 1.047700047492981, 1.047700047492981, 1.047700047492981, 1.047700047492981, 1.047700047492981, 1.047700047492981, 1.047700047492981, 1.047700047492981, 1.0477532148361206, 1.0477607250213623, 1.047762393951416, 1.0477648973464966, 1.0477653741836548, 1.697446584701538, 1.6974475383758545, 1.973846435546875, 4.296107292175293, 2.260998249053955, 1.680851697921753, 1.1007049083709717, 1.1007049083709717, 1.1007049083709717, 1.1007049083709717, 1.1007049083709717, 1.1007049083709717, 1.1007049083709717, 1.1007049083709717, 1.1007049083709717, 1.1007049083709717, 1.1007049083709717, 1.1007049083709717, 1.1007049083709717, 1.1007049083709717, 1.1007049083709717, 1.1007049083709717, 1.1007049083709717, 1.1007049083709717, 1.1007049083709717, 1.1007049083709717, 1.1007049083709717, 1.1007049083709717, 1.1007049083709717, 1.1007049083709717, 1.1007049083709717, 1.1007050275802612, 1.1007049083709717, 1.1007049083709717, 1.1007049083709717, 1.1007049083709717, 1.1007049083709717, 1.1007049083709717, 1.1007050275802612, 1.4574460983276367, 0.9888882637023926, 0.9888882637023926, 0.9888882637023926, 0.988888144493103, 0.9888882637023926, 0.988888144493103, 0.9888882637023926, 0.9888882637023926, 0.9888882637023926, 0.9888882637023926, 0.9888882637023926, 0.9888882637023926, 0.988888144493103, 0.9888882637023926, 0.9888882637023926, 0.9888882637023926, 0.9888882637023926, 0.9888882040977478, 0.988888144493103, 1.4467041492462158, 1.973846435546875, 2.0378775596618652, 0.9698442220687866, 0.9698442220687866, 0.9698442220687866, 0.9698442816734314, 0.9698442816734314, 0.9698442816734314, 0.9698442816734314, 0.9698442816734314, 0.9698442816734314, 0.9698442816734314, 0.9698443412780762, 0.9698442816734314, 0.9698442816734314, 0.9698442816734314, 0.9698442816734314, 0.9698442220687866, 0.9698442220687866, 0.9698443412780762, 4.296107292175293, 1.0561131238937378, 1.1703065633773804, 0.9980799555778503, 0.9783740639686584, 1.1117513179779053], \"Category\": [\"Default\", \"Default\", \"Default\", \"Default\", \"Default\", \"Default\", \"Default\", \"Default\", \"Default\", \"Default\", \"Default\", \"Default\", \"Default\", \"Default\", \"Default\", \"Default\", \"Default\", \"Default\", \"Default\", \"Default\", \"Default\", \"Default\", \"Default\", \"Default\", \"Default\", \"Default\", \"Default\", \"Default\", \"Default\", \"Default\", \"Topic1\", \"Topic1\", \"Topic1\", \"Topic1\", \"Topic1\", \"Topic1\", \"Topic1\", \"Topic1\", \"Topic1\", \"Topic1\", \"Topic1\", \"Topic1\", \"Topic1\", \"Topic1\", \"Topic1\", \"Topic1\", \"Topic1\", \"Topic1\", \"Topic1\", \"Topic1\", \"Topic1\", \"Topic1\", \"Topic1\", \"Topic1\", \"Topic1\", \"Topic1\", \"Topic1\", \"Topic1\", \"Topic1\", \"Topic1\", \"Topic1\", \"Topic1\", \"Topic1\", \"Topic1\", \"Topic1\", \"Topic1\", \"Topic1\", \"Topic1\", \"Topic1\", \"Topic1\", \"Topic1\", \"Topic1\", \"Topic1\", \"Topic1\", \"Topic1\", \"Topic1\", \"Topic1\", \"Topic1\", \"Topic2\", \"Topic2\", \"Topic2\", \"Topic2\", \"Topic2\", \"Topic2\", \"Topic2\", \"Topic2\", \"Topic2\", \"Topic2\", \"Topic2\", \"Topic2\", \"Topic2\", \"Topic2\", \"Topic2\", \"Topic2\", \"Topic2\", \"Topic2\", \"Topic2\", \"Topic2\", \"Topic2\", \"Topic2\", \"Topic2\", \"Topic2\", \"Topic2\", \"Topic2\", \"Topic2\", \"Topic2\", \"Topic2\", \"Topic2\", \"Topic2\", \"Topic2\", \"Topic2\", \"Topic2\", \"Topic2\", \"Topic2\", \"Topic2\", \"Topic2\", \"Topic2\", \"Topic2\", \"Topic2\", \"Topic2\", \"Topic2\", \"Topic2\", \"Topic2\", \"Topic2\", \"Topic2\", \"Topic2\", \"Topic3\", \"Topic3\", \"Topic3\", \"Topic3\", \"Topic3\", \"Topic3\", \"Topic3\", \"Topic3\", \"Topic3\", \"Topic3\", \"Topic3\", \"Topic3\", \"Topic3\", \"Topic3\", \"Topic3\", \"Topic3\", \"Topic3\", \"Topic3\", \"Topic3\", \"Topic3\", \"Topic3\", \"Topic3\", \"Topic3\", \"Topic3\", \"Topic3\", \"Topic3\", \"Topic3\", \"Topic3\", \"Topic3\", \"Topic3\", \"Topic3\", \"Topic3\", \"Topic3\", \"Topic3\", \"Topic3\", \"Topic3\", \"Topic3\", \"Topic3\", \"Topic3\", \"Topic3\", \"Topic3\", \"Topic3\", \"Topic4\", \"Topic4\", \"Topic4\", \"Topic4\", \"Topic4\", \"Topic4\", \"Topic4\", \"Topic4\", \"Topic4\", \"Topic4\", \"Topic4\", \"Topic4\", \"Topic4\", \"Topic4\", \"Topic4\", \"Topic4\", \"Topic4\", \"Topic4\", \"Topic4\", \"Topic4\", \"Topic4\", \"Topic4\", \"Topic4\", \"Topic4\", \"Topic4\", \"Topic4\", \"Topic4\", \"Topic4\", \"Topic4\", \"Topic4\", \"Topic4\", \"Topic4\", \"Topic4\", \"Topic4\", \"Topic4\", \"Topic4\", \"Topic4\", \"Topic4\", \"Topic4\", \"Topic4\", \"Topic4\", \"Topic4\", \"Topic4\", \"Topic4\", \"Topic4\", \"Topic4\", \"Topic4\", \"Topic4\", \"Topic4\", \"Topic5\", \"Topic5\", \"Topic5\", \"Topic5\", \"Topic5\", \"Topic5\", \"Topic5\", \"Topic5\", \"Topic5\", \"Topic5\", \"Topic5\", \"Topic5\", \"Topic5\", \"Topic5\", \"Topic5\", \"Topic5\", \"Topic5\", \"Topic5\", \"Topic5\", \"Topic5\", \"Topic5\", \"Topic5\", \"Topic5\", \"Topic5\", \"Topic5\", \"Topic5\", \"Topic5\", \"Topic5\", \"Topic5\", \"Topic5\", \"Topic5\", \"Topic5\", \"Topic5\", \"Topic5\", \"Topic5\", \"Topic6\", \"Topic6\", \"Topic6\", \"Topic6\", \"Topic6\", \"Topic6\", \"Topic6\", \"Topic6\", \"Topic6\", \"Topic6\", \"Topic6\", \"Topic6\", \"Topic6\", \"Topic6\", \"Topic6\", \"Topic6\", \"Topic6\", \"Topic6\", \"Topic6\", \"Topic6\", \"Topic6\", \"Topic6\", \"Topic6\", \"Topic6\", \"Topic6\", \"Topic6\", \"Topic6\", \"Topic6\", \"Topic6\", \"Topic6\", \"Topic6\", \"Topic6\", \"Topic6\", \"Topic6\", \"Topic6\", \"Topic6\", \"Topic6\", \"Topic6\", \"Topic6\", \"Topic6\", \"Topic6\", \"Topic6\", \"Topic6\", \"Topic6\", \"Topic6\", \"Topic6\", \"Topic6\", \"Topic6\", \"Topic7\", \"Topic7\", \"Topic7\", \"Topic7\", \"Topic7\", \"Topic7\", \"Topic7\", \"Topic7\", \"Topic7\", \"Topic7\", \"Topic7\", \"Topic7\", \"Topic7\", \"Topic7\", \"Topic7\", \"Topic7\", \"Topic7\", \"Topic7\", \"Topic7\", \"Topic7\", \"Topic7\", \"Topic7\", \"Topic7\", \"Topic7\", \"Topic7\", \"Topic7\", \"Topic7\", \"Topic7\", \"Topic7\", \"Topic7\", \"Topic7\", \"Topic7\", \"Topic7\", \"Topic7\", \"Topic7\", \"Topic7\", \"Topic7\", \"Topic7\", \"Topic7\", \"Topic7\", \"Topic7\", \"Topic7\", \"Topic7\", \"Topic7\", \"Topic7\", \"Topic8\", \"Topic8\", \"Topic8\", \"Topic8\", \"Topic8\", \"Topic8\", \"Topic8\", \"Topic8\", \"Topic8\", \"Topic8\", \"Topic8\", \"Topic8\", \"Topic8\", \"Topic8\", \"Topic8\", \"Topic8\", \"Topic8\", \"Topic8\", \"Topic8\", \"Topic8\", \"Topic8\", \"Topic8\", \"Topic8\", \"Topic8\", \"Topic8\", \"Topic8\", \"Topic8\", \"Topic8\", \"Topic8\", \"Topic8\", \"Topic9\", \"Topic9\", \"Topic9\", \"Topic9\", \"Topic9\", \"Topic9\", \"Topic9\", \"Topic9\", \"Topic9\", \"Topic9\", \"Topic9\", \"Topic9\", \"Topic9\", \"Topic9\", \"Topic9\", \"Topic9\", \"Topic9\", \"Topic9\", \"Topic9\", \"Topic9\", \"Topic9\", \"Topic9\", \"Topic9\", \"Topic9\", \"Topic9\", \"Topic9\", \"Topic9\", \"Topic9\", \"Topic9\", \"Topic9\", \"Topic9\", \"Topic9\", \"Topic9\", \"Topic9\", \"Topic9\", \"Topic10\", \"Topic10\", \"Topic10\", \"Topic10\", \"Topic10\", \"Topic10\", \"Topic10\", \"Topic10\", \"Topic10\", \"Topic10\", \"Topic10\", \"Topic10\", \"Topic10\", \"Topic10\", \"Topic10\", \"Topic10\", \"Topic10\", \"Topic10\", \"Topic10\", \"Topic10\", \"Topic10\", \"Topic10\", \"Topic10\", \"Topic10\", \"Topic10\", \"Topic10\", \"Topic10\", \"Topic10\", \"Topic10\", \"Topic10\", \"Topic10\", \"Topic10\", \"Topic10\", \"Topic10\", \"Topic10\", \"Topic10\", \"Topic10\", \"Topic10\", \"Topic10\", \"Topic10\", \"Topic10\", \"Topic10\", \"Topic10\", \"Topic10\", \"Topic10\", \"Topic10\", \"Topic10\"], \"logprob\": [30.0, 29.0, 28.0, 27.0, 26.0, 25.0, 24.0, 23.0, 22.0, 21.0, 20.0, 19.0, 18.0, 17.0, 16.0, 15.0, 14.0, 13.0, 12.0, 11.0, 10.0, 9.0, 8.0, 7.0, 6.0, 5.0, 4.0, 3.0, 2.0, 1.0, -3.8731000423431396, -3.8731000423431396, -3.8731000423431396, -3.8731000423431396, -3.8731000423431396, -3.8731000423431396, -3.8731000423431396, -3.8731000423431396, -3.8731000423431396, -3.8731000423431396, -3.8731000423431396, -3.8731000423431396, -3.8731000423431396, -3.8731000423431396, -3.8731000423431396, -3.8731000423431396, -3.8731000423431396, -3.8731000423431396, -3.8731000423431396, -3.8731000423431396, -3.8731000423431396, -3.8731000423431396, -6.270999908447266, -6.270999908447266, -6.270999908447266, -6.270999908447266, -6.270999908447266, -6.270999908447266, -6.270999908447266, -6.270999908447266, -6.270999908447266, -6.270999908447266, -6.270999908447266, -6.270999908447266, -6.270999908447266, -6.270999908447266, -6.270999908447266, -6.270999908447266, -6.270999908447266, -6.270999908447266, -6.263999938964844, -6.264100074768066, -6.264400005340576, -6.264200210571289, -6.270999908447266, -6.270999908447266, -6.270999908447266, -6.270999908447266, -3.2265000343322754, -3.8731000423431396, -3.8731000423431396, -3.8731000423431396, -3.8731000423431396, -3.8731000423431396, -3.8731000423431396, -3.8731000423431396, -3.8731000423431396, -3.8731000423431396, -3.8731000423431396, -3.8731000423431396, -3.8731000423431396, -3.8731000423431396, -3.8731000423431396, -3.8731000423431396, -3.8731000423431396, -3.8731000423431396, -3.8731000423431396, -3.8731000423431396, -3.8731000423431396, -6.270999908447266, -6.270999908447266, -6.270999908447266, -6.270999908447266, -6.270999908447266, -6.270999908447266, -6.270999908447266, -6.270999908447266, -6.270999908447266, -6.270999908447266, -6.270999908447266, -6.270999908447266, -6.270999908447266, -6.270999908447266, -6.270999908447266, -6.270999908447266, -6.270999908447266, -6.270999908447266, -6.270999908447266, -6.270999908447266, -6.270999908447266, -6.270999908447266, -6.270999908447266, -6.270999908447266, -6.270999908447266, -6.270999908447266, -6.270999908447266, -3.274199962615967, -4.310299873352051, -4.310299873352051, -4.310299873352051, -4.310299873352051, -4.310299873352051, -4.310299873352051, -4.310299873352051, -4.310299873352051, -4.310299873352051, -4.310299873352051, -4.310299873352051, -4.310299873352051, -4.310299873352051, -4.310299873352051, -4.310299873352051, -4.310299873352051, -4.310299873352051, -4.310299873352051, -4.310299873352051, -4.310299873352051, -4.310299873352051, -4.310299873352051, -4.310299873352051, -4.310299873352051, -4.310299873352051, -4.310299873352051, -4.310299873352051, -4.310299873352051, -4.310299873352051, -4.310299873352051, -4.310299873352051, -4.310299873352051, -4.310299873352051, -3.6637001037597656, -4.310299873352051, -4.310299873352051, -4.310299873352051, -3.6637001037597656, -4.310299873352051, -4.310299873352051, -4.310299873352051, -3.8731000423431396, -3.8731000423431396, -3.8731000423431396, -3.8731000423431396, -3.8731000423431396, -3.8731000423431396, -3.8731000423431396, -3.8731000423431396, -3.8731000423431396, -3.8731000423431396, -3.8731000423431396, -3.8731000423431396, -3.8731000423431396, -3.8731000423431396, -3.8731000423431396, -3.8731000423431396, -3.8731000423431396, -3.8731000423431396, -3.8731000423431396, -3.8731000423431396, -3.8731000423431396, -3.8731000423431396, -6.270999908447266, -6.270999908447266, -6.270999908447266, -6.270999908447266, -6.270999908447266, -6.270999908447266, -6.270999908447266, -6.270999908447266, -6.270999908447266, -6.270999908447266, -6.270999908447266, -6.270999908447266, -6.270999908447266, -6.270999908447266, -6.270999908447266, -6.270999908447266, -6.270999908447266, -6.270999908447266, -6.270999908447266, -6.270999908447266, -6.270999908447266, -6.270999908447266, -6.270999908447266, -6.270999908447266, -6.270999908447266, -6.270999908447266, -6.270999908447266, -3.5192999839782715, -4.165999889373779, -4.165999889373779, -4.165999889373779, -4.165999889373779, -4.165999889373779, -4.165999889373779, -4.165999889373779, -4.165999889373779, -4.165999889373779, -4.165999889373779, -4.165999889373779, -4.165999889373779, -4.165999889373779, -4.165999889373779, -4.165999889373779, -4.165999889373779, -4.165999889373779, -4.165999889373779, -4.165999889373779, -4.165999889373779, -4.165999889373779, -4.165999889373779, -4.165999889373779, -4.165999889373779, -4.165999889373779, -4.165999889373779, -4.165999889373779, -4.165999889373779, -4.165999889373779, -4.165999889373779, -4.165999889373779, -4.165999889373779, -4.165999889373779, -4.165999889373779, -3.033600091934204, -3.9205000400543213, -3.9205000400543213, -3.9205000400543213, -3.9205000400543213, -4.5671000480651855, -4.5671000480651855, -4.5671000480651855, -4.5671000480651855, -4.5671000480651855, -4.5671000480651855, -4.5671000480651855, -4.5671000480651855, -4.5671000480651855, -4.5671000480651855, -4.5671000480651855, -4.5671000480651855, -4.5671000480651855, -4.5671000480651855, -4.5671000480651855, -4.5671000480651855, -4.5671000480651855, -4.5671000480651855, -4.5671000480651855, -4.5671000480651855, -4.5671000480651855, -4.5671000480651855, -4.5671000480651855, -4.5671000480651855, -4.5671000480651855, -4.5671000480651855, -4.5671000480651855, -4.5671000480651855, -4.5671000480651855, -4.5671000480651855, -4.5671000480651855, -4.5671000480651855, -4.5671000480651855, -4.5671000480651855, -4.5671000480651855, -4.5671000480651855, -4.5671000480651855, -4.5671000480651855, -4.5671000480651855, -4.5671000480651855, -4.5671000480651855, -4.5671000480651855, -4.5671000480651855, -3.281599998474121, -3.928299903869629, -3.928299903869629, -3.928299903869629, -3.928299903869629, -3.928299903869629, -3.928299903869629, -3.928299903869629, -3.928299903869629, -3.928299903869629, -3.928299903869629, -3.928299903869629, -3.928299903869629, -3.928299903869629, -3.928299903869629, -3.928299903869629, -3.928299903869629, -3.928299903869629, -3.928299903869629, -3.281599998474121, -3.928299903869629, -3.9282000064849854, -3.928299903869629, -6.326099872589111, -6.326099872589111, -6.326099872589111, -6.326099872589111, -6.326099872589111, -6.326099872589111, -6.326099872589111, -6.326099872589111, -6.326099872589111, -6.326099872589111, -6.326099872589111, -6.326099872589111, -6.326099872589111, -6.326099872589111, -6.326099872589111, -6.326099872589111, -6.326099872589111, -6.326099872589111, -6.326099872589111, -6.326099872589111, -6.326099872589111, -6.326099872589111, -3.3994998931884766, -3.4000000953674316, -4.04610013961792, -4.04610013961792, -4.04610013961792, -4.04610013961792, -4.04610013961792, -4.04610013961792, -4.04610013961792, -4.04610013961792, -4.04610013961792, -4.04610013961792, -4.04610013961792, -4.04610013961792, -4.04610013961792, -4.04610013961792, -4.04610013961792, -4.04610013961792, -4.04610013961792, -4.04610013961792, -4.04610013961792, -4.046899795532227, -4.046999931335449, -4.046999931335449, -4.047100067138672, -4.047100067138672, -4.04610013961792, -4.04610013961792, -4.04610013961792, -4.046199798583984, -3.184799909591675, -3.574199914932251, -4.220799922943115, -4.220799922943115, -4.220799922943115, -4.220799922943115, -4.220799922943115, -4.220799922943115, -4.220799922943115, -4.220799922943115, -4.220799922943115, -4.220799922943115, -4.220799922943115, -4.220799922943115, -4.220799922943115, -4.220799922943115, -4.220799922943115, -4.220799922943115, -4.220799922943115, -4.220799922943115, -4.220799922943115, -4.220799922943115, -4.220799922943115, -4.220799922943115, -4.220799922943115, -4.220799922943115, -4.220799922943115, -4.220799922943115, -4.220799922943115, -4.220799922943115, -4.220799922943115, -4.220799922943115, -4.220799922943115, -4.220799922943115, -4.220799922943115, -3.2644999027252197, -3.9102001190185547, -3.9102001190185547, -3.9102001190185547, -3.9102001190185547, -3.9102001190185547, -3.9102001190185547, -3.9102001190185547, -3.9102001190185547, -3.9102001190185547, -3.9102001190185547, -3.9102001190185547, -3.9102001190185547, -3.9102001190185547, -3.9102001190185547, -3.9102001190185547, -3.9102001190185547, -3.9102001190185547, -3.9102001190185547, -3.9102001190185547, -3.9102001190185547, -3.9102001190185547, -3.9102001190185547, -6.30810022354126, -6.30810022354126, -6.30810022354126, -6.30810022354126, -6.30810022354126, -6.30810022354126, -6.30810022354126, -6.30810022354126, -6.30810022354126, -6.30810022354126, -6.30810022354126, -6.30810022354126, -6.30810022354126, -6.30810022354126, -6.30810022354126, -6.30810022354126, -6.30810022354126, -6.30810022354126, -6.289700031280518, -6.30810022354126, -6.30810022354126, -6.30810022354126, -6.30810022354126, -6.30810022354126], \"loglift\": [30.0, 29.0, 28.0, 27.0, 26.0, 25.0, 24.0, 23.0, 22.0, 21.0, 20.0, 19.0, 18.0, 17.0, 16.0, 15.0, 14.0, 13.0, 12.0, 11.0, 10.0, 9.0, 8.0, 7.0, 6.0, 5.0, 4.0, 3.0, 2.0, 1.0, 2.0352001190185547, 2.0352001190185547, 2.0352001190185547, 2.0352001190185547, 2.0352001190185547, 2.0352001190185547, 2.0352001190185547, 2.0352001190185547, 2.0352001190185547, 2.0352001190185547, 2.0352001190185547, 2.0352001190185547, 2.0352001190185547, 2.0352001190185547, 2.0352001190185547, 2.0352001190185547, 2.0352001190185547, 2.0352001190185547, 2.0352001190185547, 1.5663000345230103, 1.5224000215530396, 1.5224000215530396, -0.37139999866485596, -0.37139999866485596, -0.37139999866485596, -0.37139999866485596, -0.37139999866485596, -0.37139999866485596, -0.37139999866485596, -0.37139999866485596, -0.37139999866485596, -0.37139999866485596, -0.37139999866485596, -0.37139999866485596, -0.37139999866485596, -0.37139999866485596, -0.37139999866485596, -0.37139999866485596, -0.37139999866485596, -0.37139999866485596, -0.54339998960495, -0.5435000061988831, -0.5437999963760376, -0.9204000234603882, -0.391400009393692, -1.8509999513626099, -0.7699999809265137, -0.550599992275238, 2.2739999294281006, 2.0153000354766846, 2.0153000354766846, 2.0153000354766846, 2.0153000354766846, 2.0153000354766846, 2.0153000354766846, 2.0153000354766846, 2.0153000354766846, 2.0153000354766846, 2.0153000354766846, 2.0153000354766846, 2.0153000354766846, 2.0153000354766846, 2.0153000354766846, 2.0153000354766846, 2.0153000354766846, 1.621500015258789, 1.5104999542236328, 1.3396999835968018, 1.2927000522613525, -0.3625999987125397, -0.3625999987125397, -0.3625999987125397, -0.3625999987125397, -0.3625999987125397, -0.3625999987125397, -0.3625999987125397, -0.3625999987125397, -0.3625999987125397, -0.3625999987125397, -0.3625999987125397, -0.3625999987125397, -0.3625999987125397, -0.3625999987125397, -0.3625999987125397, -0.3625999987125397, -0.3625999987125397, -0.3625999987125397, -0.3625999987125397, -1.8509999513626099, -0.5504999756813049, -0.44780001044273376, -0.3912999927997589, -0.7699000239372253, -0.8806999921798706, -1.073199987411499, -0.5504999756813049, 1.7732000350952148, 1.4615000486373901, 1.4615000486373901, 1.4615000486373901, 1.4615000486373901, 1.4615000486373901, 1.4615000486373901, 1.4615000486373901, 1.4615000486373901, 1.4615000486373901, 1.4615000486373901, 1.4615000486373901, 1.4615000486373901, 1.4615000486373901, 1.4615000486373901, 1.4615000486373901, 1.4615000486373901, 1.4615000486373901, 1.4615000486373901, 1.4615000486373901, 1.4615000486373901, 1.4615000486373901, 1.4615000486373901, 1.4615000486373901, 1.4615000486373901, 1.4615000486373901, 1.4615000486373901, 1.4615000486373901, 1.4615000486373901, 1.4615000486373901, 1.4615000486373901, 1.4615000486373901, 1.4615000486373901, 1.4615000486373901, 1.434499979019165, 1.4615000486373901, 1.4615000486373901, 1.4615000486373901, 1.3885999917984009, 1.4615000486373901, 1.041599988937378, 1.0012999773025513, 2.0264999866485596, 2.0264999866485596, 2.0264999866485596, 2.0264999866485596, 2.0264999866485596, 2.0264999866485596, 2.0264999866485596, 2.0264999866485596, 2.0264999866485596, 2.0264999866485596, 2.0264999866485596, 2.0264999866485596, 2.0264999866485596, 2.0264999866485596, 2.0264999866485596, 2.0264999866485596, 2.0264999866485596, 2.0264999866485596, 1.6354000568389893, 1.589900016784668, 1.517199993133545, 1.3245999813079834, -0.3625999987125397, -0.3625999987125397, -0.3625999987125397, -0.3625999987125397, -0.3625999987125397, -0.3625999987125397, -0.3625999987125397, -0.3625999987125397, -0.3625999987125397, -0.3625999987125397, -0.3625999987125397, -0.3625999987125397, -0.3625999987125397, -0.3625999987125397, -0.3625999987125397, -0.3625999987125397, -0.3625999987125397, -0.3625999987125397, -0.3625999987125397, -0.7699000239372253, -1.8509999513626099, -0.5504999756813049, -0.44780001044273376, -0.8579999804496765, -0.9593999981880188, -0.5504999756813049, -0.3912999927997589, 1.8935999870300293, 1.6571999788284302, 1.6571999788284302, 1.6571999788284302, 1.6571999788284302, 1.6571999788284302, 1.6571999788284302, 1.6571999788284302, 1.6571999788284302, 1.6571999788284302, 1.6571999788284302, 1.6571999788284302, 1.6571999788284302, 1.6571999788284302, 1.6571999788284302, 1.6571999788284302, 1.6571999788284302, 1.6571999788284302, 1.6571999788284302, 1.6571999788284302, 1.6571999788284302, 1.6571999788284302, 1.6571999788284302, 1.6571999788284302, 1.6571999788284302, 1.6571999788284302, 1.6571999788284302, 1.6571999788284302, 1.6571999788284302, 1.6571999788284302, 1.6571999788284302, 1.6571999788284302, 1.6571999788284302, 1.1778000593185425, 1.2125999927520752, 1.3865000009536743, 1.3583999872207642, 1.3583999872207642, 1.3583999872207642, 1.3583999872207642, 1.1533000469207764, 1.1533000469207764, 1.1533000469207764, 1.1533000469207764, 1.1533000469207764, 1.1533000469207764, 1.1533000469207764, 1.1533000469207764, 1.1533000469207764, 1.1533000469207764, 1.1533000469207764, 1.1533000469207764, 1.1533000469207764, 1.1533000469207764, 1.1533000469207764, 1.1533000469207764, 1.1533000469207764, 1.1533000469207764, 1.1533000469207764, 1.1533000469207764, 1.1533000469207764, 1.1533000469207764, 1.1533000469207764, 1.1533000469207764, 1.1533000469207764, 1.1533000469207764, 1.1533000469207764, 1.1533000469207764, 1.1533000469207764, 1.1533000469207764, 1.1533000469207764, 1.1533000469207764, 1.1533000469207764, 1.1533000469207764, 1.1533000469207764, 0.7444000244140625, 0.7764999866485596, 1.1533000469207764, 1.1533000469207764, 1.1533000469207764, 1.1533000469207764, 1.1533000469207764, 1.1533000469207764, 2.2070000171661377, 1.9514000415802002, 1.9514000415802002, 1.9514000415802002, 1.9514000415802002, 1.9514000415802002, 1.9514000415802002, 1.9514000415802002, 1.9514000415802002, 1.9514000415802002, 1.9514000415802002, 1.9514000415802002, 1.9514000415802002, 1.9514000415802002, 1.9514000415802002, 1.9514000415802002, 1.9514000415802002, 1.9514000415802002, 1.9514000415802002, 1.9311000108718872, 1.5663000345230103, 1.1957999467849731, 1.1698999404907227, -0.41780000925064087, -0.41780000925064087, -0.41780000925064087, -0.41780000925064087, -0.41780000925064087, -0.41780000925064087, -0.41780000925064087, -0.41780000925064087, -0.41780000925064087, -0.41780000925064087, -0.41780000925064087, -0.41780000925064087, -0.41780000925064087, -0.41780000925064087, -0.41780000925064087, -0.41780000925064087, -0.8251000046730042, -1.9061000347137451, -0.503000020980835, -0.6057000160217285, -1.1283999681472778, -1.26419997215271, 2.0241000652313232, 2.0234999656677246, 1.784999966621399, 1.784999966621399, 1.784999966621399, 1.784999966621399, 1.784999966621399, 1.784999966621399, 1.784999966621399, 1.784999966621399, 1.784999966621399, 1.784999966621399, 1.784999966621399, 1.784999966621399, 1.784999966621399, 1.784999966621399, 1.784999966621399, 1.784999966621399, 1.784999966621399, 1.784999966621399, 1.784999966621399, 1.7841999530792236, 1.78410005569458, 1.784000039100647, 1.784000039100647, 1.784000039100647, 1.3025000095367432, 1.3025000095367432, 1.1516000032424927, 0.37389999628067017, 1.8772000074386597, 1.7841999530792236, 1.5608999729156494, 1.5608999729156494, 1.5608999729156494, 1.5608999729156494, 1.5608999729156494, 1.5608999729156494, 1.5608999729156494, 1.5608999729156494, 1.5608999729156494, 1.5608999729156494, 1.5608999729156494, 1.5608999729156494, 1.5608999729156494, 1.5608999729156494, 1.5608999729156494, 1.5608999729156494, 1.5608999729156494, 1.5608999729156494, 1.5608999729156494, 1.5608999729156494, 1.5608999729156494, 1.5608999729156494, 1.5608999729156494, 1.5608999729156494, 1.5608999729156494, 1.5608999729156494, 1.5608999729156494, 1.5608999729156494, 1.5608999729156494, 1.5608999729156494, 1.5608999729156494, 1.5608999729156494, 1.5608999729156494, 2.236599922180176, 1.978700041770935, 1.978700041770935, 1.978700041770935, 1.978700041770935, 1.978700041770935, 1.978700041770935, 1.978700041770935, 1.978700041770935, 1.978700041770935, 1.978700041770935, 1.978700041770935, 1.978700041770935, 1.978700041770935, 1.978700041770935, 1.978700041770935, 1.978700041770935, 1.978700041770935, 1.978700041770935, 1.978700041770935, 1.5981999635696411, 1.287600040435791, 1.2555999755859375, -0.39969998598098755, -0.39969998598098755, -0.39969998598098755, -0.39969998598098755, -0.39969998598098755, -0.39969998598098755, -0.39969998598098755, -0.39969998598098755, -0.39969998598098755, -0.39969998598098755, -0.39969998598098755, -0.39969998598098755, -0.39969998598098755, -0.39969998598098755, -0.39969998598098755, -0.39969998598098755, -0.39969998598098755, -0.39969998598098755, -1.8696999549865723, -0.48500001430511475, -0.5875999927520752, -0.4284000098705292, -0.40849998593330383, -0.536300003528595]}, \"token.table\": {\"Topic\": [3, 9, 5, 6, 9, 6, 9, 4, 10, 4, 5, 3, 2, 10, 10, 4, 6, 6, 8, 4, 8, 8, 7, 3, 8, 5, 6, 5, 7, 4, 6, 3, 9, 2, 10, 5, 3, 5, 2, 5, 5, 6, 9, 10, 6, 5, 5, 9, 6, 3, 6, 2, 9, 5, 7, 8, 9, 6, 9, 4, 5, 3, 2, 6, 3, 5, 3, 6, 10, 7, 7, 9, 3, 10, 2, 7, 9, 9, 6, 4, 9, 4, 8, 10, 4, 7, 9, 4, 8, 6, 7, 6, 7, 3, 4, 9, 9, 3, 3, 8, 3, 6, 6, 3, 6, 3, 9, 8, 6, 4, 3, 3, 8, 6, 3, 8, 6, 8, 5, 5, 5, 2, 6, 4, 5, 6, 8, 6, 5, 2, 6, 10, 3, 3, 6, 3, 3, 4, 5, 7, 7, 6, 3, 8, 10, 3, 4, 9, 9, 10, 8, 4, 6, 7, 5, 8, 3, 9, 7, 10, 9, 5, 10, 8, 2, 10, 5, 3, 3, 5, 6, 7, 5, 6, 3, 9, 2, 10, 7, 6, 6, 9, 2, 3, 3, 5, 5, 8, 5, 9, 9, 9, 9, 10, 10, 6, 6, 10, 4, 6, 9, 10, 5, 3, 8, 5, 6, 2, 2, 3, 6, 6, 9, 3, 8, 9, 3, 9, 6, 7, 2, 6, 6, 8, 6, 3, 8, 4, 6, 5, 6, 6, 5, 2, 9, 10, 9, 9, 6, 5, 6, 6, 6, 9, 7, 4, 6, 5, 8, 3, 5, 2, 9, 6, 4, 7, 5, 8, 5, 3, 5, 7, 9, 3, 3, 6, 8, 10, 3, 2, 3, 5, 10, 2, 4, 8, 6, 9, 8, 10, 6, 8, 6, 2, 7, 9, 3, 6, 2, 6, 4, 7, 3, 6, 8, 6, 8, 2, 5, 3, 7, 3, 7], \"Freq\": [0.8994817137718201, 0.9085087180137634, 0.946868360042572, 0.854477047920227, 0.9085087180137634, 0.854477047920227, 0.9085087180137634, 0.6912263035774231, 0.6912263035774231, 1.0221039056777954, 0.9468681812286377, 0.8994817137718201, 1.0107122659683228, 1.011236548423767, 1.011236548423767, 1.022104024887085, 0.8545789122581482, 0.5494340062141418, 0.9544716477394104, 1.0221039056777954, 0.9544717669487, 0.9544716477394104, 1.001923680305481, 0.8994817137718201, 0.9544717669487, 0.9468682408332825, 0.854477047920227, 0.9468681812286377, 1.0019237995147705, 0.6142056584358215, 0.6142056584358215, 0.5910521149635315, 0.5910521149635315, 1.0107122659683228, 1.011236548423767, 0.9468682408332825, 0.8994817137718201, 0.9468682408332825, 1.0107122659683228, 0.9468682408332825, 0.9468682408332825, 0.854477047920227, 0.9085087180137634, 1.011236548423767, 0.6174402236938477, 0.9468682408332825, 0.9468682408332825, 0.9085087180137634, 0.854477047920227, 0.8994817137718201, 0.854477047920227, 0.6857561469078064, 0.9085085988044739, 0.9468682408332825, 1.0019237995147705, 0.9544716477394104, 0.9085087180137634, 0.854477047920227, 0.9085087180137634, 1.0221039056777954, 0.9468682408332825, 0.8994817137718201, 0.6100726127624512, 0.6100726127624512, 0.8994817137718201, 0.9468682408332825, 0.8994817137718201, 0.854477047920227, 1.011236548423767, 1.0019237995147705, 1.0019237995147705, 0.9085087180137634, 0.8994817137718201, 0.6861317157745361, 0.6816990375518799, 0.6816990375518799, 0.9085087180137634, 0.9085087180137634, 0.854477047920227, 1.0221039056777954, 0.9085087180137634, 0.5066249966621399, 0.5066249966621399, 0.5066249966621399, 1.0221039056777954, 1.001923680305481, 0.9085087180137634, 1.0221039056777954, 0.6349844336509705, 0.854477047920227, 1.001923680305481, 0.854477047920227, 1.0019237995147705, 0.8994817137718201, 1.0221039056777954, 0.9085087180137634, 0.9085087180137634, 0.8994817137718201, 0.8994817137718201, 0.9544232487678528, 0.8994817137718201, 0.854477047920227, 0.8545743823051453, 0.8994817137718201, 0.854477047920227, 0.8994817137718201, 0.9085087180137634, 0.9544716477394104, 0.854477047920227, 1.0221039056777954, 0.8994817137718201, 0.8994817137718201, 0.9544716477394104, 0.854477047920227, 0.8994817137718201, 0.9544717669487, 0.5891201496124268, 0.5891201496124268, 0.946868360042572, 0.9468682408332825, 0.9468682408332825, 1.0107122659683228, 0.854477047920227, 0.6605330109596252, 0.6605330109596252, 0.8545806407928467, 0.9544716477394104, 0.854477047920227, 0.9468682408332825, 1.0107122659683228, 0.854477047920227, 1.011236548423767, 0.8994817137718201, 0.5676981210708618, 0.5676981210708618, 0.8994817137718201, 0.8994817137718201, 1.022104024887085, 0.9468682408332825, 1.001923680305481, 1.001923680305481, 0.854477047920227, 0.8994817137718201, 0.6349583864212036, 1.011236548423767, 0.8994817137718201, 1.0221039056777954, 0.9085087180137634, 0.9085085988044739, 1.0112366676330566, 0.9544163942337036, 1.0221039056777954, 0.8544768691062927, 1.001923680305481, 0.9468682408332825, 0.9544717669487, 0.8994817137718201, 0.9085087180137634, 1.001923680305481, 1.011236548423767, 0.9085087180137634, 0.9468682408332825, 1.011236548423767, 0.9544716477394104, 1.0107122659683228, 1.011236548423767, 0.6282716989517212, 0.8994817137718201, 0.8994817137718201, 0.9468682408332825, 0.854477047920227, 1.001923680305481, 0.586262047290802, 0.586262047290802, 0.43800264596939087, 0.43800264596939087, 1.0107121467590332, 1.011236548423767, 1.001923680305481, 0.6174402236938477, 0.5494340062141418, 0.9085087180137634, 1.0107122659683228, 0.8994817137718201, 0.6070517301559448, 0.6070517301559448, 0.9468682408332825, 0.9544717669487, 0.9468682408332825, 0.9085087180137634, 0.9085087180137634, 0.9085087180137634, 0.9085087180137634, 1.0112366676330566, 1.0112366676330566, 0.854477047920227, 0.5494340658187866, 1.011236548423767, 1.0221039056777954, 0.854477047920227, 0.9085087180137634, 1.0112366676330566, 0.9468682408332825, 0.8994817137718201, 0.9544716477394104, 0.9468682408332825, 0.854477047920227, 1.0107121467590332, 1.0107122659683228, 0.8994817137718201, 0.854477047920227, 0.854477047920227, 0.9085087180137634, 0.8994817137718201, 0.9544716477394104, 0.9085087180137634, 0.8994817137718201, 0.9085087180137634, 0.854477047920227, 1.0019235610961914, 1.0107122659683228, 0.8544769883155823, 0.5891198515892029, 0.5891198515892029, 0.5494340658187866, 0.8994817137718201, 0.9544121623039246, 1.022104024887085, 0.8544769883155823, 0.9468681812286377, 0.854477047920227, 0.854477047920227, 0.9468682408332825, 0.4907066226005554, 0.4907066226005554, 0.4907066226005554, 0.9085087180137634, 0.5949364900588989, 0.854477047920227, 0.5862139463424683, 0.5862139463424683, 0.8544769883155823, 0.854477047920227, 0.6451650857925415, 1.001923680305481, 1.0221039056777954, 0.854477047920227, 0.9468682408332825, 0.9544716477394104, 0.8994817137718201, 0.9468682408332825, 1.0107122659683228, 0.9085087180137634, 0.854477047920227, 1.022104024887085, 1.001923680305481, 0.9468682408332825, 0.9544716477394104, 0.9468682408332825, 0.470626562833786, 0.470626562833786, 0.470626562833786, 0.9085087180137634, 0.8994817137718201, 0.8994817137718201, 0.854477047920227, 0.9544717669487, 1.011236548423767, 0.8994817137718201, 1.0107122659683228, 0.8994817137718201, 0.9468682408332825, 1.011236548423767, 1.0107121467590332, 1.0221039056777954, 0.9544148445129395, 0.854477047920227, 0.9085087180137634, 0.9544716477394104, 1.0112366676330566, 0.854477047920227, 0.9544716477394104, 0.854477047920227, 0.5142856240272522, 0.5142856240272522, 0.8845650553703308, 0.5676978826522827, 0.5676978826522827, 1.0107122659683228, 0.854477047920227, 1.0221039056777954, 0.6776896715164185, 0.871787428855896, 0.854477047920227, 0.954412579536438, 0.6983065605163574, 0.23276886343955994, 1.0107122659683228, 0.9468682408332825, 0.8994817137718201, 1.001923680305481, 0.4586174190044403, 0.4586174190044403], \"Term\": [\"SCREEN_NAME\", \"abandon\", \"accent\", \"almost\", \"along\", \"amusement\", \"angry\", \"answer\", \"answer\", \"antar\", \"approach\", \"arouse\", \"aspersion\", \"authentic\", \"barb\", \"bark\", \"battalion\", \"become\", \"begging\", \"beother\", \"bible\", \"biess\", \"bird\", \"bizuriyya\", \"black\", \"bodily\", \"boil\", \"boldiness\", \"brand\", \"break\", \"break\", \"bride\", \"bride\", \"bridegroom\", \"brief\", \"build\", \"call\", \"camel\", \"casting\", \"catle\", \"cemetery\", \"central\", \"ceremony\", \"chadija\", \"change\", \"characteristic\", \"chief\", \"child\", \"chile\", \"clapping\", \"cling\", \"clothes\", \"collapse\", \"colloquial\", \"colored\", \"committee\", \"common\", \"complete\", \"compose\", \"conductor\", \"conform\", \"congratulation\", \"consider\", \"consider\", \"cotton\", \"could\", \"country\", \"course\", \"court\", \"cousin\", \"cream\", \"cucumber\", \"curiosity\", \"damascus\", \"daughter\", \"daughter\", \"defeat\", \"desert\", \"different\", \"directly\", \"disappear\", \"doctor\", \"doctor\", \"doctor\", \"donkey\", \"dothes\", \"eldest\", \"electrical\", \"enter\", \"entertain\", \"eoough\", \"every\", \"everything\", \"expression\", \"fahmi\", \"family\", \"father\", \"feather\", \"fifteen\", \"fifty\", \"fill\", \"flank\", \"form\", \"forthe\", \"friday\", \"funeral\", \"garlic\", \"general\", \"genuine\", \"going\", \"grape\", \"graves\", \"green\", \"group\", \"grow\", \"guest\", \"hands\", \"hands\", \"happy\", \"health\", \"hindrance\", \"honest\", \"hope\", \"house\", \"house\", \"hundred\", \"ibrahim\", \"ihways\", \"important\", \"include\", \"indulge\", \"inside\", \"interrupt\", \"invite\", \"invite\", \"isthe\", \"jamal\", \"kasim\", \"kassim\", \"kibbi\", \"kind\", \"koran\", \"lady\", \"large\", \"laugh\", \"laughter\", \"leave\", \"lemon\", \"lettuce\", \"lightening\", \"loom\", \"lovely\", \"lover\", \"mafry\", \"mahmud\", \"malaya\", \"marje\", \"married\", \"marry\", \"mates\", \"mather\", \"mating\", \"mazza\", \"military\", \"moment\", \"month\", \"mother\", \"mountain\", \"murderer\", \"need\", \"obvious\", \"offer\", \"office\", \"office\", \"ofthe\", \"ofthe\", \"older\", \"olive\", \"open\", \"order\", \"others\", \"outside\", \"painstakingly\", \"party\", \"pasha\", \"pasha\", \"pass\", \"passing\", \"paste\", \"paternal\", \"perform\", \"person\", \"perspective\", \"pickle\", \"picture\", \"pillow\", \"place\", \"plan\", \"play\", \"poking\", \"popular\", \"possible\", \"pour\", \"present\", \"productive\", \"profits\", \"provide\", \"provider\", \"purpose\", \"rape\", \"reaives\", \"realize\", \"really\", \"rebel\", \"recite\", \"relate\", \"relative\", \"remain\", \"responsible\", \"revea\", \"reveal\", \"right\", \"rooms\", \"rooms\", \"round\", \"running\", \"saving\", \"seched\", \"semorat\", \"sesame\", \"shaikh\", \"sheepskin\", \"shukat\", \"siham\", \"siham\", \"siham\", \"singing\", \"sister\", \"sledgehammer\", \"sleep\", \"sleep\", \"small\", \"smile\", \"soldier\", \"something\", \"sound\", \"spend\", \"spiritual\", \"sprinkle\", \"square\", \"staff\", \"staris\", \"start\", \"stint\", \"stoke\", \"story\", \"storyteller\", \"suddenly\", \"sugar\", \"sweet\", \"sweet\", \"sweet\", \"symphony\", \"syrian\", \"thatthe\", \"third\", \"threads\", \"three\", \"tickle\", \"touch\", \"trough\", \"truth\", \"try\", \"turn\", \"usclessly\", \"usually\", \"vegetable\", \"veil\", \"velcomed\", \"venture\", \"waich\", \"walk\", \"walking\", \"wedding\", \"wedding\", \"white\", \"whole\", \"whole\", \"wholly\", \"whore\", \"wire\", \"without\", \"woman\", \"wonderful\", \"workshop\", \"would\", \"would\", \"writing\", \"yawn\", \"years\", \"yoghurt\", \"young\", \"young\"]}, \"R\": 30, \"lambda.step\": 0.01, \"plot.opts\": {\"xlab\": \"PC1\", \"ylab\": \"PC2\"}, \"topic.order\": [1, 2, 3, 4, 5, 6, 7, 8, 9, 10]};\n",
              "\n",
              "function LDAvis_load_lib(url, callback){\n",
              "  var s = document.createElement('script');\n",
              "  s.src = url;\n",
              "  s.async = true;\n",
              "  s.onreadystatechange = s.onload = callback;\n",
              "  s.onerror = function(){console.warn(\"failed to load library \" + url);};\n",
              "  document.getElementsByTagName(\"head\")[0].appendChild(s);\n",
              "}\n",
              "\n",
              "if(typeof(LDAvis) !== \"undefined\"){\n",
              "   // already loaded: just create the visualization\n",
              "   !function(LDAvis){\n",
              "       new LDAvis(\"#\" + \"ldavis_el7611405361417203367443164588\", ldavis_el7611405361417203367443164588_data);\n",
              "   }(LDAvis);\n",
              "}else if(typeof define === \"function\" && define.amd){\n",
              "   // require.js is available: use it to load d3/LDAvis\n",
              "   require.config({paths: {d3: \"https://cdnjs.cloudflare.com/ajax/libs/d3/3.5.5/d3.min\"}});\n",
              "   require([\"d3\"], function(d3){\n",
              "      window.d3 = d3;\n",
              "      LDAvis_load_lib(\"https://cdn.rawgit.com/bmabey/pyLDAvis/files/ldavis.v1.0.0.js\", function(){\n",
              "        new LDAvis(\"#\" + \"ldavis_el7611405361417203367443164588\", ldavis_el7611405361417203367443164588_data);\n",
              "      });\n",
              "    });\n",
              "}else{\n",
              "    // require.js not available: dynamically load d3 & LDAvis\n",
              "    LDAvis_load_lib(\"https://cdnjs.cloudflare.com/ajax/libs/d3/3.5.5/d3.min.js\", function(){\n",
              "         LDAvis_load_lib(\"https://cdn.rawgit.com/bmabey/pyLDAvis/files/ldavis.v1.0.0.js\", function(){\n",
              "                 new LDAvis(\"#\" + \"ldavis_el7611405361417203367443164588\", ldavis_el7611405361417203367443164588_data);\n",
              "            })\n",
              "         });\n",
              "}\n",
              "</script>"
            ],
            "text/plain": [
              "<IPython.core.display.HTML object>"
            ]
          },
          "metadata": {
            "tags": []
          },
          "execution_count": 16
        }
      ]
    },
    {
      "cell_type": "code",
      "metadata": {
        "id": "O5EeHO7ZRCeN",
        "colab_type": "code",
        "colab": {}
      },
      "source": [
        ""
      ],
      "execution_count": null,
      "outputs": []
    }
  ]
}