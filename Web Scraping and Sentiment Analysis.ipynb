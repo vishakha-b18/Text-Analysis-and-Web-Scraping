{
  "nbformat": 4,
  "nbformat_minor": 0,
  "metadata": {
    "colab": {
      "name": "Scraping the reviews of books.ipynb",
      "provenance": [],
      "collapsed_sections": [],
      "authorship_tag": "ABX9TyMdp3eMj0yTHqEcPr/ICw61"
    },
    "kernelspec": {
      "name": "python3",
      "display_name": "Python 3"
    }
  },
  "cells": [
    {
      "cell_type": "code",
      "metadata": {
        "id": "PGP6o9Ykens-",
        "colab_type": "code",
        "colab": {
          "base_uri": "https://localhost:8080/",
          "height": 496
        },
        "outputId": "ca8b233b-878b-43d9-c6d9-96734d2725dd"
      },
      "source": [
        "#installation of the required libraries\n",
        "\n",
        "!pip install googletrans\n",
        "!pip install openpyxl\n",
        "!pip install TextBlob\n",
        "!pip install gspread\n",
        "!pip install --upgrade plotly"
      ],
      "execution_count": null,
      "outputs": [
        {
          "output_type": "stream",
          "text": [
            "Requirement already satisfied: googletrans in /usr/local/lib/python3.6/dist-packages (3.0.0)\n",
            "Requirement already satisfied: httpx==0.13.3 in /usr/local/lib/python3.6/dist-packages (from googletrans) (0.13.3)\n",
            "Requirement already satisfied: idna==2.* in /usr/local/lib/python3.6/dist-packages (from httpx==0.13.3->googletrans) (2.10)\n",
            "Requirement already satisfied: chardet==3.* in /usr/local/lib/python3.6/dist-packages (from httpx==0.13.3->googletrans) (3.0.4)\n",
            "Requirement already satisfied: sniffio in /usr/local/lib/python3.6/dist-packages (from httpx==0.13.3->googletrans) (1.1.0)\n",
            "Requirement already satisfied: hstspreload in /usr/local/lib/python3.6/dist-packages (from httpx==0.13.3->googletrans) (2020.9.9)\n",
            "Requirement already satisfied: certifi in /usr/local/lib/python3.6/dist-packages (from httpx==0.13.3->googletrans) (2020.6.20)\n",
            "Requirement already satisfied: rfc3986<2,>=1.3 in /usr/local/lib/python3.6/dist-packages (from httpx==0.13.3->googletrans) (1.4.0)\n",
            "Requirement already satisfied: httpcore==0.9.* in /usr/local/lib/python3.6/dist-packages (from httpx==0.13.3->googletrans) (0.9.1)\n",
            "Requirement already satisfied: contextvars>=2.1; python_version < \"3.7\" in /usr/local/lib/python3.6/dist-packages (from sniffio->httpx==0.13.3->googletrans) (2.4)\n",
            "Requirement already satisfied: h11<0.10,>=0.8 in /usr/local/lib/python3.6/dist-packages (from httpcore==0.9.*->httpx==0.13.3->googletrans) (0.9.0)\n",
            "Requirement already satisfied: h2==3.* in /usr/local/lib/python3.6/dist-packages (from httpcore==0.9.*->httpx==0.13.3->googletrans) (3.2.0)\n",
            "Requirement already satisfied: immutables>=0.9 in /usr/local/lib/python3.6/dist-packages (from contextvars>=2.1; python_version < \"3.7\"->sniffio->httpx==0.13.3->googletrans) (0.14)\n",
            "Requirement already satisfied: hyperframe<6,>=5.2.0 in /usr/local/lib/python3.6/dist-packages (from h2==3.*->httpcore==0.9.*->httpx==0.13.3->googletrans) (5.2.0)\n",
            "Requirement already satisfied: hpack<4,>=3.0 in /usr/local/lib/python3.6/dist-packages (from h2==3.*->httpcore==0.9.*->httpx==0.13.3->googletrans) (3.0.0)\n",
            "Requirement already satisfied: openpyxl in /usr/local/lib/python3.6/dist-packages (2.5.9)\n",
            "Requirement already satisfied: jdcal in /usr/local/lib/python3.6/dist-packages (from openpyxl) (1.4.1)\n",
            "Requirement already satisfied: et-xmlfile in /usr/local/lib/python3.6/dist-packages (from openpyxl) (1.0.1)\n",
            "Requirement already satisfied: TextBlob in /usr/local/lib/python3.6/dist-packages (0.15.3)\n",
            "Requirement already satisfied: nltk>=3.1 in /usr/local/lib/python3.6/dist-packages (from TextBlob) (3.2.5)\n",
            "Requirement already satisfied: six in /usr/local/lib/python3.6/dist-packages (from nltk>=3.1->TextBlob) (1.15.0)\n",
            "Requirement already satisfied: gspread in /usr/local/lib/python3.6/dist-packages (3.0.1)\n",
            "Requirement already satisfied: requests>=2.2.1 in /usr/local/lib/python3.6/dist-packages (from gspread) (2.23.0)\n",
            "Requirement already satisfied: chardet<4,>=3.0.2 in /usr/local/lib/python3.6/dist-packages (from requests>=2.2.1->gspread) (3.0.4)\n",
            "Requirement already satisfied: urllib3!=1.25.0,!=1.25.1,<1.26,>=1.21.1 in /usr/local/lib/python3.6/dist-packages (from requests>=2.2.1->gspread) (1.24.3)\n",
            "Requirement already satisfied: certifi>=2017.4.17 in /usr/local/lib/python3.6/dist-packages (from requests>=2.2.1->gspread) (2020.6.20)\n",
            "Requirement already satisfied: idna<3,>=2.5 in /usr/local/lib/python3.6/dist-packages (from requests>=2.2.1->gspread) (2.10)\n"
          ],
          "name": "stdout"
        }
      ]
    },
    {
      "cell_type": "code",
      "metadata": {
        "id": "NGsKoJO88WgI",
        "colab_type": "code",
        "colab": {
          "base_uri": "https://localhost:8080/",
          "height": 51
        },
        "outputId": "3fd58891-c1d4-48b8-a9b5-89a88d36255a"
      },
      "source": [
        "#import all libraries\n",
        "\n",
        "import warnings\n",
        "warnings.filterwarnings('ignore')\n",
        "\n",
        "import requests\n",
        "import urllib.request\n",
        "import time\n",
        "from bs4 import BeautifulSoup\n",
        "\n",
        "import re\n",
        "import numpy as np\n",
        "import pandas as pd\n",
        "import seaborn as sns\n",
        "import matplotlib.pyplot as plt\n",
        "from matplotlib import pyplot\n",
        "%matplotlib inline\n",
        "import plotly.express as px\n",
        "\n",
        "import googletrans\n",
        "from googletrans import Translator\n",
        "\n",
        "import nltk\n",
        "nltk.download('vader_lexicon')\n",
        "from nltk.sentiment.vader import SentimentIntensityAnalyzer\n",
        "import textblob\n",
        "from textblob import TextBlob\n",
        "\n",
        "from google.colab import auth\n",
        "import gspread\n",
        "from oauth2client.client import GoogleCredentials\n",
        "\n",
        "from collections import OrderedDict, defaultdict, Counter\n",
        "import csv\n",
        "from sklearn.feature_extraction.text import CountVectorizer"
      ],
      "execution_count": null,
      "outputs": [
        {
          "output_type": "stream",
          "text": [
            "[nltk_data] Downloading package vader_lexicon to /root/nltk_data...\n",
            "[nltk_data]   Package vader_lexicon is already up-to-date!\n"
          ],
          "name": "stdout"
        }
      ]
    },
    {
      "cell_type": "code",
      "metadata": {
        "id": "yTQFbEou6obO",
        "colab_type": "code",
        "colab": {}
      },
      "source": [
        "#urls to be scraped\n",
        "URL = [('Year of the Elephant 1','https://www.goodreads.com/book/show/245256.Year_of_the_Elephant','reviewText stacked'),\n",
        "       ('Year of the Elephant 2','https://www.goodreads.com/book/show/6809360-year-of-the-elephant?rating=4&utm_medium=api&utm_source=book_widget','reviewText stacked'),\n",
        "       ('Celestial Bodies 1','https://www.goodreads.com/book/show/39653535-celestial-bodies','reviewText stacked'),\n",
        "       ('Celestial Bodies 1','https://www.goodreads.com/book/show/39653535-celestial-bodies','reviewText mediumText description readable'),\n",
        "       ('Celestial Bodies 2','https://www.goodreads.com/review/show/2909065240','reviewText mediumText description readable'),\n",
        "       ('Celestial Bodies 3','https://www.goodreads.com/review/show/2909065240','reviewText stacked'),\n",
        "       ('Celestial Bodies 4','https://www.goodreads.com/review/show/2748676786','reviewText mediumText description readable'),\n",
        "       ('Celestial Bodies 5','https://www.goodreads.com/review/show/2748676786','reviewText stacked'),\n",
        "       ('Celestial Bodies 6','https://www.goodreads.com/review/show/2748655998','reviewText mediumText description readable'),\n",
        "       ('Celestial Bodies 7','https://www.goodreads.com/review/show/2748655998','reviewText stacked'),\n",
        "       ('The Woman from Tantoura 1','https://www.goodreads.com/review/show/1160668061','reviewText stacked'),\n",
        "       ('The Woman from Tantoura 2','https://www.goodreads.com/review/show/1160668061','reviewText mediumText description readable'),\n",
        "       ('The Woman from Tantoura 3','https://www.goodreads.com/book/show/8239301','reviewText stacked'),\n",
        "       ('The Woman from Tantoura 4','https://www.goodreads.com/book/show/17678418-the-woman-from-tantoura','reviewText stacked'),\n",
        "       ('The Woman from Tantoura 5','https://www.goodreads.com/review/show/112611057','reviewText mediumText description readable'),\n",
        "       ('Granada 1','https://www.goodreads.com/book/show/218562.Granada','reviewText stacked'),\n",
        "       ('Granada 2','https://www.goodreads.com/book/show/218562.Granada','reviewText mediumText description readable'),\n",
        "       ('Granada 3','https://www.goodreads.com/en/book/show/3438000','reviewText stacked'),\n",
        "       ('Granada 4','https://www.goodreads.com/fr/book/show/27269009-the-woman-from-tantoura','reviewText mediumText description readable'),\n",
        "       ('Granada 5','https://www.goodreads.com/book/show/17678418-the-woman-from-tantoura','reviewText stacked'),\n",
        "       ('Granada 6','https://www.goodreads.com/review/show/1221720588','reviewText stacked'),\n",
        "       ('Granada 7','https://www.goodreads.com/review/show/1221720588','reviewText mediumText description readable'),\n",
        "       ('Granada 8','https://www.goodreads.com/review/show/81642717','reviewText stacked'),\n",
        "       ('Granada 9','https://www.goodreads.com/review/show/81642717','reviewText mediumText description readable'),\n",
        "       ('Blue Lorries','https://www.goodreads.com/book/show/18049202-blue-lorries','reviewText mediumText description readable'),\n",
        "       ('The House on Arnus Square','https://www.goodreads.com/book/show/3544759-the-house-on-arnus-square','reviewText stacked'),\n",
        "       ('A compass for the sunflower','https://www.goodreads.com/book/show/2328001.A_Compass_for_the_Sunflower','reviewText mediumText description readable'),\n",
        "       ('A Balcony Over The Fakihani 1','https://www.goodreads.com/book/show/4534538-a-balcony-over-the-fakihani','reviewText stacked'),\n",
        "       ('A Balcony Over The Fakihani 2','https://www.goodreads.com/book/show/4534538-a-balcony-over-the-fakihani','reviewText mediumText description readable'),\n",
        "       ('A Balcony Over The Fakihani 3','https://www.goodreads.com/book/show/286782.A_Balcony_Over_the_Fakihani','reviewText stacked'),\n",
        "       ('A Balcony Over The Fakihani 4','https://www.goodreads.com/book/show/286782.A_Balcony_Over_the_Fakihani','reviewText mediumText description readable'),\n",
        "       ('A Balcony Over The Fakihani 5','https://www.goodreads.com/review/show/3174682387','reviewText mediumText description readable'),\n",
        "       ('The Eye of the Mirror 1','https://www.goodreads.com/book/show/5792114-the-eye-of-the-mirror','reviewText stacked'),\n",
        "       ('The Eye of the Mirror 2','https://www.goodreads.com/book/show/5792114-the-eye-of-the-mirror','reviewText mediumText description readable'),\n",
        "       ('The Man from Bashmour','https://www.goodreads.com/book/show/1177207.The_Man_from_Bashmour','reviewText mediumText description readable'),       \n",
        "       ('The Wiles of Men and Other Stories 1','https://www.goodreads.com/book/show/1177205.The_Wiles_of_Men_and_Other_Stories','reviewText stacked'),      \n",
        "       ('The Wiles of Men and Other Stories 2','https://www.goodreads.com/review/show/398872587','reviewText mediumText description readable'),\n",
        "       ('The Wiles of Men and Other Stories 3','https://www.goodreads.com/book/show/4947328-the-wiles-of-men-and-other-stories','reviewText mediumText description readable'),\n",
        "       ('The Wiles of Men and Other Stories 4','https://www.goodreads.com/book/show/4947328-the-wiles-of-men-and-other-stories','rreviewText stacked'),\n",
        "       ('The Wiles of Men and Other Stories 5','https://www.goodreads.com/review/show/2247595169','reviewText mediumText description readable'),\n",
        "       ('The Stone of Laughter','http://www.librarything.com/work/1110230/reviews/160664538','commentText'),\n",
        "       ('The Tiller of the Waters 1','https://www.goodreads.com/book/show/4510433-the-tiller-of-the-waters','reviewText stacked'),   \n",
        "       ('The Tiller of the Waters 2','https://www.goodreads.com/book/show/4510433-the-tiller-of-the-waters','reviewText mediumText description readable'), \n",
        "       ('The Tiller of the Waters 3','https://arablit.org/2010/07/03/one-minute-review-hoda-barakats-tiller-of-waters/','entry-content'), \n",
        "       ('The Tiller of the Waters 4','https://mdbrady.wordpress.com/2017/04/17/the-tiller-of-waters-by-hoda-barakat/','entry clear'), \n",
        "       ('The Tiller of the Waters 5','https://thegoodbookcorner.com/2015/09/27/the-tiller-of-waters-by-hoda-barakat/','single'), \n",
        "       ('The Tiller of the Waters 6','https://readkutub.wordpress.com/2009/11/02/tiller-of-the-waters-harith-al-miyah-by-hoda-barakat/','entry-content'), \n",
        "       ('Disciples of passion 1','https://www.goodreads.com/book/show/1139212.Disciples_of_Passion','reviewText stacked'),\n",
        "       ('Disciples of passion 2','https://www.goodreads.com/book/show/1139212.Disciples_of_Passion','reviewText mediumText description readable'),\n",
        "       ('Algerian White: A Narrative 1','https://www.goodreads.com/review/show/2042990459','reviewText mediumText description readable'),\n",
        "       ('Algerian White: A Narrative 2','http://www.librarything.com/work/2021065/reviews/100655933','commentText'),\n",
        "       ('Children of the New World','http://www.librarything.com/work/1536931/reviews/132259156','commentText'),       \n",
        "       ('Fantasia: An Algerian Cavalcade 1','http://www.librarything.com/work/296224/reviews/156071930','commentText'),\n",
        "       ('Fantasia: An Algerian Cavalcade 2','https://www.goodreads.com/book/show/457864.Fantasia','reviewText stacked'),\n",
        "       ('Fantasia: An Algerian Cavalcade 3','https://www.goodreads.com/review/show/4598459','reviewText mediumText description readable'),\n",
        "       ('Fantasia: An Algerian Cavalcade 4','https://www.goodreads.com/review/show/2298343504','reviewText mediumText description readable'),\n",
        "       ('Fantasia: An Algerian Cavalcade 5','https://www.goodreads.com/review/show/2298343504','reviewText stacked'),\n",
        "       ('Fantasia: An Algerian Cavalcade 6','https://www.goodreads.com/review/show/1006690824','reviewText mediumText description readable'),\n",
        "       ('Fantasia: An Algerian Cavalcade 7','https://www.goodreads.com/book/show/457864.Fantasia','reviewText mediumText description readable'),\n",
        "       ('Fantasia: An Algerian Cavalcade 8','https://www.goodreads.com/book/show/74700.Fantasia','reviewText mediumText description readable'),\n",
        "       ('Fantasia: An Algerian Cavalcade 9','https://www.goodreads.com/book/show/74700.Fantasia','reviewText stacked'),\n",
        "       ('A Sister to Scheherazade 1','https://www.goodreads.com/book/show/388218.A_Sister_to_Scheherazade_Emerging_Voices','reviewText stacked'),\n",
        "       ('A Sister to Scheherazade 2','https://www.goodreads.com/book/show/388218.A_Sister_to_Scheherazade_Emerging_Voices','reviewText mediumText description readable'),\n",
        "       ('A Sister to Scheherazade 3','https://www.goodreads.com/review/show/1071490491','reviewText mediumText description readable'),\n",
        "       ('A Sister to Scheherazade 4','https://www.goodreads.com/review/show/681424353','reviewText mediumText description readable'),\n",
        "       ('A Sister to Scheherazade 5','https://www.goodreads.com/book/show/937191.A_Sister_to_Scheherazade','reviewText stacked'),\n",
        "       ('A Sister to Scheherazade 6','https://www.goodreads.com/book/show/937191.A_Sister_to_Scheherazade','reviewText mediumText description readable'),\n",
        "       ('A Sister to Scheherazade 7','https://caughtbetweenthepages.wordpress.com/tag/a-sister-to-scheherazade/','entry-content'),\n",
        "       ('A Sister to Scheherazade 8','http://howlingfrog.blogspot.com/2018/08/a-sister-to-scheherazade-wit-month-and.html','post-body entry-content'),\n",
        "       ('Women of Algiers in Their Apartment 1','https://www.goodreads.com/book/show/4688851-women-of-algiers-in-their-apartment','reviewText stacked'),\n",
        "       ('Women of Algiers in Their Apartment 2','https://www.goodreads.com/book/show/4688851-women-of-algiers-in-their-apartment','reviewText mediumText description readable'),\n",
        "       ('Women of Algiers in Their Apartment 3','http://www.librarything.com/work/378749/reviews/82106703','commentText'),\n",
        "       ('Women of Algiers in Their Apartment 4','https://www.goodreads.com/review/show/913987416','reviewText mediumText description readable'),\n",
        "       ('Velvet 1','https://www.goodreads.com/book/show/48571883-velvet','reviewText mediumText description readable'),\n",
        "       ('Velvet 2','https://www.goodreads.com/book/show/48571883-velvet','reviewText stacked'),\n",
        "       ('Sabriya: Damascus Bitter Sweet 1','https://www.goodreads.com/book/show/1092712.Sabriya','reviewText stacked'),\n",
        "       ('Sabriya: Damascus Bitter Sweet 2','https://www.goodreads.com/book/show/1092712.Sabriya','reviewText mediumText description readable'),\n",
        "       ('Sabriya: Damascus Bitter Sweet 4','https://www.goodreads.com/en/book/show/10224031','reviewText stacked'),\n",
        "       ('''Grandfather's Tale 1''','https://www.goodreads.com/review/show/2649106838','reviewText mediumText description readable'),\n",
        "       ('''Grandfather's Tale 2''','https://www.goodreads.com/book/show/290136.Grandfather_s_Tale','reviewText stacked'),\n",
        "       ('''Grandfather's Tale 3''','https://www.goodreads.com/book/show/290136.Grandfather_s_Tale','reviewText mediumText description readable'),\n",
        "       ('American Granddaughter','https://www.goodreads.com/book/show/15793844-the-american-granddaughter','reviewText mediumText description readable'),\n",
        "       ('The End of Spring 1','https://www.goodreads.com/book/show/1175926.The_End_of_Spring','reviewText stacked'),\n",
        "       ('The End of Spring 2','https://www.goodreads.com/book/show/1175926.The_End_of_Spring','reviewText mediumText description readable'),\n",
        "       ('The Inheritance 1','https://www.goodreads.com/book/show/218443.The_Inheritance','reviewText stacked'),\n",
        "       ('The Inheritance 2','https://www.goodreads.com/book/show/218443.The_Inheritance','reviewText mediumText description readable'),\n",
        "       ('The Inheritance 3','https://www.goodreads.com/book/show/218443.The_Inheritance?rating=2&utm_medium=api&utm_source=blog_book','reviewText mediumText description readable'),\n",
        "       ('The Inheritance 4','https://arabicbookworm.wordpress.com/2016/12/06/the-inheritance/','entry-content'),\n",
        "       ('Of Noble Origins: A Modern Palestinian Novel 1','https://www.goodreads.com/book/show/12697984-of-noble-origins','reviewText stacked'),\n",
        "       ('Of Noble Origins: A Modern Palestinian Novel 2','https://www.goodreads.com/book/show/12697984-of-noble-origins','reviewText mediumText description readable'),\n",
        "       ('The Image, the Icon, and the Covenant','https://www.goodreads.com/book/show/1175927.The_Image_the_Icon_and_the_Covenant','reviewText stacked'),\n",
        "       ('The Image, the Icon, and the Covenant','https://www.goodreads.com/book/show/1175927.The_Image_the_Icon_and_the_Covenant','reviewText mediumText description readable'),\n",
        "       ('Wild Thorns (Saqi) 1','http://www.librarything.com/work/28895/reviews/24886133','commentText'),\n",
        "       ('Wild Thorns (Saqi) 2','https://www.goodreads.com/review/show/1676144','reviewText mediumText description readable'),\n",
        "       ('Wild Thorns (Saqi) 3','https://www.goodreads.com/review/show/1623104161','reviewText mediumText description readable'),\n",
        "       ('Wild Thorns (Saqi) 4','https://www.goodreads.com/book/show/780880.Wild_Thorns','reviewText mediumText description readable'),\n",
        "       ('Wild Thorns (Saqi) 5','https://www.goodreads.com/book/show/780880.Wild_Thorns','reviewText stacked'),\n",
        "       ('Wild Thorns (Saqi) 6','https://www.goodreads.com/book/show/3839957-wild-thorns','reviewText mediumText description readable'),\n",
        "       ('Wild Thorns (Saqi) 7','https://www.goodreads.com/book/show/3839957-wild-thorns','reviewText stacked'),\n",
        "       ('A Sky So Close 1','http://www.librarything.com/work/373648/reviews/32163656','commentText'),\n",
        "       ('A Sky So Close 2','https://www.goodreads.com/book/show/1452240.A_Sky_So_Close','reviewText stacked'), \n",
        "       ('A Sky So Close 2','https://www.goodreads.com/book/show/1452240.A_Sky_So_Close','reviewText mediumText description readable'),  \n",
        "       ('Absent 1','https://www.goodreads.com/book/show/2600673','reviewText stacked'),\n",
        "       ('Absent 2','https://www.goodreads.com/review/show/146503031','reviewText mediumText description readable'),\n",
        "       ('Absent 3','https://www.fantasticfiction.com/k/betool-khedairi/absent.htm#:~:text=Tightly%20crafted%20and%20skillfully%20told,resilience%20of%20the%20human%20spirit.','blurb'),\n",
        "       ('Absent 4','https://www.goodreads.com/book/show/1446454.Absent','reviewText stacked'),\n",
        "       ('Absent 5','https://www.goodreads.com/book/show/1446454.Absent','reviewText mediumText description readable'),\n",
        "       ('Absent 6','http://www.farmlanebooks.co.uk/2011/absent-betool-khedairi/','entry-content'),\n",
        "       ('Absent 7','http://www.farmlanebooks.co.uk/2011/absent-betool-khedairi/','comments-inner section-inner thin max-percentage'),\n",
        "       ('Mothballs 1','https://www.goodreads.com/book/show/935032.Mothballs','reviewText stacked'),   \n",
        "       ('Mothballs 2','https://www.goodreads.com/book/show/935032.Mothballs','reviewText mediumText description readable'),  \n",
        "       ('Naphtalene: A Novel of Baghdad 1','https://www.goodreads.com/book/show/642182.Naphtalene','reviewText stacked'),   \n",
        "       ('Naphtalene: A Novel of Baghdad 2','https://www.goodreads.com/book/show/642182.Naphtalene','reviewText mediumText description readable'),  \n",
        "       ('The Loved Ones 1','https://www.goodreads.com/book/show/1968589.The_Loved_Ones','reviewText stacked'),\n",
        "       ('The Loved Ones 2','https://www.goodreads.com/book/show/1968589.The_Loved_Ones','reviewText mediumText description readable'),\n",
        "       ('The Loved Ones 3','https://www.goodreads.com/en/book/show/27473549-the-loved-ones','reviewText stacked'),\n",
        "       ('The Loved Ones 4','https://www.goodreads.com/en/book/show/27473549-the-loved-ones','reviewText mediumText description readable'),\n",
        "       ('Memory in the Flesh 1','https://www.goodreads.com/book/show/426499.Memory_in_the_Flesh','reviewText stacked'),\n",
        "       ('Memory in the Flesh 2','https://www.goodreads.com/book/show/426499.Memory_in_the_Flesh','reviewText mediumText description readable'),\n",
        "       ('Memory in the Flesh 3','https://www.goodreads.com/review/show/1302627506','reviewText mediumText description readable'),\n",
        "       ('Memory in the Flesh 4','https://www.goodreads.com/review/show/174425915','reviewText mediumText description readable'),\n",
        "       ('Memory in the Flesh 5','https://www.goodreads.com/book/show/2738211-memory-in-the-flesh','reviewText stacked'),\n",
        "       ('Memory in the Flesh 6','https://www.goodreads.com/book/show/2738211-memory-in-the-flesh','reviewText mediumText description readable'),\n",
        "       ('Memory in the Flesh 7','https://bookertalk.com/memory-in-the-flesh-book-review/','entry clear-block'),\n",
        "       ('Memory in the Flesh 8','https://www.goodreads.com/review/show/2413473823','reviewText mediumText description readable'),\n",
        "       ('The Art of Forgetting 1','https://www.goodreads.com/book/show/21254858-the-art-of-forgetting','reviewText stacked'),\n",
        "       ('The Art of Forgetting 2','https://www.goodreads.com/book/show/21254858-the-art-of-forgetting','reviewText mediumText description readable'),\n",
        "       ('The Art of Forgetting 3','https://web.archive.org/web/20140423213335/http://www.banipal.co.uk/book_reviews/88/the-art-of-forgetting-by-ahlem-mosteghanemi/','page_content selections_page_content'),\n",
        "       ('Chaos of the Senses 1','https://www.goodreads.com/en/book/show/2501455._','reviewText stacked'),   \n",
        "       ('Chaos of the Senses 2','https://www.goodreads.com/review/show/1520499883','reviewText mediumText description readable'), \n",
        "       ('Chaos of the Senses 3','https://www.goodreads.com/book/show/23921864-chaos-of-the-senses','reviewText stacked'),   \n",
        "       ('Chaos of the Senses 4','https://www.goodreads.com/book/show/23921864-chaos-of-the-senses','reviewText mediumText description readable'), \n",
        "       ('Chaos of the Senses 5','https://www.goodreads.com/book/show/2389865.Chaos_of_the_Senses','reviewText stacked'), \n",
        "       ('Chaos of the Senses 6','https://www.goodreads.com/book/show/2389865.Chaos_of_the_Senses','reviewText mediumText description readable'), \n",
        "       ('Flight Against Time 1','https://www.goodreads.com/book/show/2145978.Flight_Against_Time','reviewText stacked'),\n",
        "       ('Flight Against Time 2','https://www.goodreads.com/book/show/2350641.Flight_Against_Time?from_search=true&rating=1&search_version=service','reviewText mediumText description readable'),\n",
        "       ('''Zubaida's Window 1''','https://www.goodreads.com/review/show/30841242','reviewText mediumText description readable'),\n",
        "       ('''Zubaida's Window 2''','https://www.goodreads.com/book/show/3065015-zubaida-s-window','reviewText stacked'),\n",
        "       ('''Zubaida's Window 3''','https://www.goodreads.com/book/show/3065015-zubaida-s-window','reviewText mediumText description readable'),\n",
        "       ('Leaves of Narcissus','https://www.goodreads.com/book/show/532386.Leaves_of_Narcissus?rating=4','reviewText mediumText description readable'),     \n",
        "       ('Distant View of a Minaret and Other Stories 1','https://www.goodreads.com/review/show/1264646788','reviewText stacked'),\n",
        "       ('Distant View of a Minaret and Other Stories 2','https://www.goodreads.com/review/show/1264646788','reviewText mediumText description readable'),\n",
        "       ('Distant View of a Minaret and Other Stories 3','https://www.goodreads.com/review/show/811136695','reviewText stacked'),\n",
        "       ('Distant View of a Minaret and Other Stories 4','https://www.goodreads.com/review/show/811136695','reviewText mediumText description readable'),\n",
        "       ('Distant View of a Minaret and Other Stories 5','https://www.goodreads.com/review/show/885032747','reviewText stacked'),\n",
        "       ('Distant View of a Minaret and Other Stories 6','https://www.goodreads.com/review/show/885032747','reviewText mediumText description readable'),\n",
        "       ('Distant View of a Minaret and Other Stories 7','https://www.goodreads.com/book/show/23530034-distant-view-of-a-minaret-and-other-stories','reviewText stacked'),\n",
        "       ('Distant View of a Minaret and Other Stories 8','https://www.goodreads.com/book/show/23530034-distant-view-of-a-minaret-and-other-stories','reviewText mediumText description readable'), \n",
        "       ('Distant View of a Minaret and Other Stories 2','http://www.librarything.com/work/155334/reviews/150026368','commentText'),\n",
        "       ('Memoirs of a Woman Doctor 1','http://www.librarything.com/work/408928/reviews/150026351','commentText'),\n",
        "       ('Memoirs of a Woman Doctor 2','https://www.goodreads.com/review/show/2770186308','reviewText stacked'),\n",
        "       ('Memoirs of a Woman Doctor 3','https://www.goodreads.com/book/show/27282252-memoirs-of-a-woman-doctor','reviewText mediumText description readable'),\n",
        "       ('Memoirs of a Woman Doctor 4','https://www.goodreads.com/book/show/27282252-memoirs-of-a-woman-doctor','reviewText stacked'),\n",
        "       ('Memoirs of a Woman Doctor 5','https://www.goodreads.com/review/show/1844769553','reviewText mediumText description readable'),\n",
        "       ('Memoirs of a Woman Doctor 6','https://www.goodreads.com/book/show/14290073','reviewText stacked'),\n",
        "       ('Memoirs of a Woman Doctor 7','https://www.goodreads.com/book/show/14290073','reviewText mediumText description readable'),\n",
        "       ('Memoirs of a Woman Doctor 6','https://www.goodreads.com/book/show/817660.Memoirs_of_a_Woman_Doctor','reviewText stacked'),\n",
        "       ('Memoirs of a Woman Doctor 7','https://www.goodreads.com/book/show/817660.Memoirs_of_a_Woman_Doctor','reviewText mediumText description readable'),\n",
        "       ('Memoirs of a Woman Doctor 8','https://blogs.bmj.com/medical-humanities/2015/11/11/the-reading-room-a-review-of-memoirs-of-a-woman-doctor/','entry-content'),\n",
        "       ('Memoirs of a Woman Doctor 9','http://thebluebookcase.blogspot.com/2011/09/review-memoirs-of-woman-doctor-by-nawal.html','post-body entry-content'),\n",
        "       ('Memoirs of a Woman Doctor 10','http://biblibio.blogspot.com/2016/08/witmonth-day-13-memoirs-of-woman-doctor.html','post-body entry-content'),\n",
        "       ('Woman at Point Zero 1','http://www.librarything.com/work/124574/reviews/158221380','commentText'),\n",
        "       ('Woman at Point Zero 2','https://www.goodreads.com/review/show/655634592','reviewText stacked'),\n",
        "       ('Woman at Point Zero 3','https://www.goodreads.com/review/show/655634592','reviewText mediumText description readable'),\n",
        "       ('Woman at Point Zero 4','https://www.goodreads.com/review/show/863236797','reviewText stacked'),\n",
        "       ('Woman at Point Zero 5','https://www.goodreads.com/review/show/863236797','reviewText mediumText description readable'),\n",
        "       ('Woman at Point Zero 6','https://www.goodreads.com/review/show/3392164848','reviewText stacked'),\n",
        "       ('Woman at Point Zero 7','https://www.goodreads.com/review/show/3392164848','reviewText mediumText description readable'),\n",
        "       ('Woman at Point Zero 8','https://www.goodreads.com/book/show/159604.Woman_at_Point_Zero','reviewText stacked'),\n",
        "       ('Woman at Point Zero 9','https://www.goodreads.com/review/show/655634592','reviewText mediumText description readable'),\n",
        "       ('Woman at Point Zero 10','https://www.goodreads.com/book/show/1022540.Woman_at_Point_Zero','reviewText stacked'),\n",
        "       ('Woman at Point Zero 11','https://www.goodreads.com/book/show/1022540.Woman_at_Point_Zero','reviewText mediumText description readable'),\n",
        "       ('Love in the Kingdom of Oil 1','https://www.goodreads.com/book/show/7848478','reviewText stacked'),\n",
        "       ('Love in the Kingdom of Oil 2','https://www.goodreads.com/book/show/7848478','reviewText mediumText description readable'),\n",
        "       ('Love in the Kingdom of Oil 3','https://www.goodreads.com/book/show/426345.Love_in_the_Kingdom_of_Oil','reviewText stacked'),\n",
        "       ('Love in the Kingdom of Oil 4','https://www.goodreads.com/book/show/426345.Love_in_the_Kingdom_of_Oil','reviewText mediumText description readable'),\n",
        "       ('Love in the Kingdom of Oil 5','https://www.goodreads.com/review/show/1336469865','reviewText mediumText description readable'),\n",
        "       ('Love in the Kingdom of Oil 6','https://kinnareads.com/2011/11/03/love-in-the-kingdom-of-oil-nawal-el-saadawi/','entry-content'),      \n",
        "       ('Beirut 75- A Novel','https://books.google.com/books?id=j3pyniooGX8C&sitesec=reviews','reviewText mediumText description readable'),\n",
        "       ('Girls of Riyadh 1','https://www.bookreporter.com/reviews/girls-of-riyadh','article'),\n",
        "       ('Girls of Riyadh 2','https://www.goodreads.com/review/show/10893811','reviewText stacked'),\n",
        "       ('Girls of Riyadh 3','https://www.goodreads.com/review/show/10893811','reviewText mediumText description readable'),\n",
        "       ('Girls of Riyadh 4','https://www.goodreads.com/review/show/19743296','reviewText stacked'),\n",
        "       ('Girls of Riyadh 5','https://www.goodreads.com/review/show/19743296','reviewText mediumText description readable'),\n",
        "       ('Girls of Riyadh 6','https://www.goodreads.com/review/show/25889970','reviewText stacked'),\n",
        "       ('Girls of Riyadh 7','https://www.goodreads.com/review/show/25889970','reviewText mediumText description readable'),\n",
        "       ('Girls of Riyadh 8','https://www.goodreads.com/book/show/7889012-girls-of-riyadh','reviewText stacked'),\n",
        "       ('Girls of Riyadh 9','https://www.goodreads.com/book/show/7889012-girls-of-riyadh','reviewText mediumText description readable'),\n",
        "       ('Girls of Riyadh 10','https://www.goodreads.com/book/show/398812.Girls_of_Riyadh','reviewText stacked'),\n",
        "       ('Girls of Riyadh 11','https://www.goodreads.com/book/show/398812.Girls_of_Riyadh','reviewText mediumText description readable'),\n",
        "       ('Beirut Blues 1','http://www.librarything.com/work/419343/reviews/83693221','commentText'),\n",
        "       ('Beirut Blues 2','https://www.goodreads.com/review/show/287863051','reviewText stacked'),\n",
        "       ('Beirut Blues 3','https://www.goodreads.com/review/show/287863051','reviewText mediumText description readable'),\n",
        "       ('Beirut Blues 4','https://www.goodreads.com/book/show/937271.Beirut_Blues','reviewText stacked'),\n",
        "       ('Beirut Blues 5','https://www.goodreads.com/book/show/937271.Beirut_Blues','reviewText mediumText description readable'),\n",
        "       ('Beirut Blues 6','https://www.goodreads.com/review/show/1106528770','reviewText mediumText description readable'),\n",
        "       ('Only in London 1','http://www.librarything.com/work/38609/reviews/110138145','commentText'),\n",
        "       ('Only in London 2','https://www.goodreads.com/book/show/95282.Only_in_London','reviewText stacked'),\n",
        "       ('Only in London 3','https://www.goodreads.com/book/show/95282.Only_in_London','reviewText mediumText description readable'),\n",
        "       ('Only in London 4','https://www.goodreads.com/book/show/937297.Only_In_London','reviewText stacked'),\n",
        "       ('Only in London 5','https://www.goodreads.com/book/show/937297.Only_In_London','reviewText mediumText description readable'),\n",
        "       ('Only in London 6','https://www.goodreads.com/review/show/484254943','reviewText mediumText description readable'),\n",
        "       ('Only in London 7','https://www.goodreads.com/review/show/87356762','reviewText stacked'),\n",
        "       ('Only in London 8','https://www.goodreads.com/review/show/87356762','reviewText mediumText description readable'),\n",
        "       ('Only in London 9','https://www.goodreads.com/review/show/1020553334','reviewText mediumText description readable'),\n",
        "       ('The Occasional Virgin 1','http://www.librarything.com/work/20936118/reviews/158218857','commentText'),\n",
        "       ('The Occasional Virgin 2','https://www.goodreads.com/review/show/2421914066','reviewText stacked'),\n",
        "       ('The Occasional Virgin 3','https://www.goodreads.com/review/show/2421914066','reviewText mediumText description readable'),\n",
        "       ('The Occasional Virgin 4','https://www.goodreads.com/review/show/2428044590','reviewText stacked'),\n",
        "       ('The Occasional Virgin 5','https://www.goodreads.com/review/show/2428044590','reviewText mediumText description readable'),\n",
        "       ('The Occasional Virgin 6','https://www.goodreads.com/review/show/2460328217','reviewText mediumText description readable'),\n",
        "       ('The Occasional Virgin 5','https://www.goodreads.com/book/show/36750071-the-occasional-virgin','reviewText stacked'),\n",
        "       ('The Occasional Virgin 6','https://www.goodreads.com/book/show/36750071-the-occasional-virgin','reviewText mediumText description readable'),\n",
        "       ('The Story of Zahra 1','http://www.librarything.com/work/86224/reviews/95377021','commentText'),       \n",
        "       ('The Story of Zahra 2','https://www.goodreads.com/review/show/3393761684','reviewText stacked'), \n",
        "       ('The Story of Zahra 3','https://www.goodreads.com/review/show/3393761684','reviewText mediumText description readable'),   \n",
        "       ('The Story of Zahra 4','https://www.goodreads.com/book/show/937270.The_Story_of_Zahra','reviewText stacked'), \n",
        "       ('The Story of Zahra 5','https://www.goodreads.com/book/show/937270.The_Story_of_Zahra','reviewText mediumText description readable'),         \n",
        "       ('Women of Sand and Myrrh 1','http://www.librarything.com/work/51124/reviews/170424372','commentText'),\n",
        "       ('Women of Sand and Myrrh 2','https://www.goodreads.com/review/show/1008862520','reviewText stacked'),\n",
        "       ('Women of Sand and Myrrh 3','https://www.goodreads.com/review/show/1008862520','reviewText mediumText description readable'),\n",
        "       ('Women of Sand and Myrrh 4','https://www.goodreads.com/review/show/401065494','reviewText mediumText description readable'),\n",
        "       ('Women of Sand and Myrrh 5','https://www.goodreads.com/book/show/358627.Women_of_Sand_and_Myrrh','reviewText stacked'),\n",
        "       ('Women of Sand and Myrrh 6','https://www.goodreads.com/book/show/178173.Women_of_Sand_and_Myrrh','reviewText stacked'),\n",
        "       ('The Blue Aubergine 1','https://www.goodreads.com/book/show/387666.Blue_Aubergine','reviewText stacked'),\n",
        "       ('The Blue Aubergine 2','https://www.goodreads.com/book/show/387666.Blue_Aubergine','reviewText mediumText description readable'),       \n",
        "       ('Brooklyn Heights 1','http://www.librarything.com/work/12299043/reviews/99909518','commentText'),  \n",
        "       ('Brooklyn Heights 2','https://www.goodreads.com/book/show/11728757-brooklyn-heights','reviewText stacked'),  \n",
        "       ('Brooklyn Heights 3','https://www.goodreads.com/book/show/11728757-brooklyn-heights','reviewText mediumText description readable'), \n",
        "       ('Brooklyn Heights 4','https://www.goodreads.com/review/show/3005872537','reviewText mediumText description readable'), \n",
        "       ('Brooklyn Heights 5','https://www.goodreads.com/review/show/1780010639','reviewText mediumText description readable'),\n",
        "       ('Brooklyn Heights 6','https://www.goodreads.com/review/show/139658103','reviewText mediumText description readable'), \n",
        "       ('Dunyazad','https://www.goodreads.com/book/show/804190.Dunyazad','reviewText mediumText description readable'),  \n",
        "       ('Daughter of Damascus 1','https://www.goodreads.com/book/show/310108.Daughter_of_Damascus','reviewText stacked'),\n",
        "       ('Daughter of Damascus 2','https://www.goodreads.com/book/show/310108.Daughter_of_Damascus','reviewText mediumText description readable'),\n",
        "       ('Daughter of Damascus 3','https://www.goodreads.com/review/show/811895423','reviewText mediumText description readable'),\n",
        "       ('Daughter of Damascus 4','https://www.goodreads.com/review/show/10415044','reviewText mediumText description readable'),\n",
        "       ('B as in Beirut 1','https://www.goodreads.com/book/show/2192812.B_as_in_Beirut','reviewText stacked'),\n",
        "       ('B as in Beirut 2','https://www.goodreads.com/book/show/2192812.B_as_in_Beirut','reviewText mediumText description readable'),\n",
        "       ('B as in Beirut 3','http://www.librarything.com/work/7765761/reviews/141111690','commentText'),   \n",
        "       ('Red Wine 1','https://www.goodreads.com/book/show/8606517-red-wine','reviewText stacked'), \n",
        "       ('Red Wine 2','https://www.goodreads.com/book/show/8606517-red-wine','reviewText mediumText description readable'), \n",
        "       ('Red Wine 3','https://www.goodreads.com/review/show/1541053595','reviewText mediumText description readable'),\n",
        "       ('The Open Door 1','http://www.librarything.com/work/1599267/reviews/69097043','commentText'),\n",
        "       ('The Open Door 2','https://www.goodreads.com/review/show/2294359797','reviewText mediumText description readable'),\n",
        "       ('The Open Door 3','https://www.goodreads.com/review/show/2080893976','reviewText mediumText description readable'),\n",
        "       ('The Open Door 4','https://www.goodreads.com/review/show/275428317','reviewText mediumText description readable'),\n",
        "       ('The Open Door 5','https://www.goodreads.com/book/show/31175878-the-open-door','reviewText stacked'),\n",
        "       ('The Open Door 6','https://www.goodreads.com/book/show/31175878-the-open-door','reviewText mediumText description readable'),\n",
        "       ('So Vast the Prison','https://www.goodreads.com/book/show/446284.So_Vast_the_Prison','reviewText stacked')]"
      ],
      "execution_count": null,
      "outputs": []
    },
    {
      "cell_type": "markdown",
      "metadata": {
        "id": "0k3Spk4hJR5A",
        "colab_type": "text"
      },
      "source": [
        "Scraping Data using BeautifulSoup "
      ]
    },
    {
      "cell_type": "code",
      "metadata": {
        "id": "C0_20-CRowh9",
        "colab_type": "code",
        "colab": {}
      },
      "source": [
        "book_dict = {}\n",
        "for value in URL:\n",
        "  book_review = []\n",
        "  response = requests.get(value[1])\n",
        "  soup = BeautifulSoup(response.text, \"html.parser\")\n",
        "  for comments in soup.findAll('div', attrs={'class':value[2]}):\n",
        "    comment = comments.text\n",
        "    book_review.append(comment)\n",
        "  review = list(set(book_review))\n",
        "  book_dict[value[0]] = book_review"
      ],
      "execution_count": null,
      "outputs": []
    },
    {
      "cell_type": "markdown",
      "metadata": {
        "id": "YuAkJoalr4Y_",
        "colab_type": "text"
      },
      "source": [
        "#### **Sentimental Analysis**"
      ]
    },
    {
      "cell_type": "code",
      "metadata": {
        "id": "HROtXPRpqpkI",
        "colab_type": "code",
        "colab": {}
      },
      "source": [
        "dataframe_reviews = pd.DataFrame(book_dict.items(), columns=['Book', 'Review'])\n",
        "dataframe_reviews['Reviews'] = [','.join(map(str, l)) for l in dataframe_reviews['Review']]\n",
        "dataframe_reviews = dataframe_reviews[['Book','Reviews']]"
      ],
      "execution_count": null,
      "outputs": []
    },
    {
      "cell_type": "code",
      "metadata": {
        "id": "2k7LxFtd49G-",
        "colab_type": "code",
        "colab": {}
      },
      "source": [
        "review_df = pd.concat([pd.Series(row['Book'], row['Reviews'].split('\\n\\n,'))for _, row in dataframe_reviews.iterrows()]).reset_index()\n",
        "review_df.rename(columns={0:'Book','index':'Review'}, inplace=True)\n",
        "review_df['Review'] = review_df['Review'].str.replace('\\n', '')"
      ],
      "execution_count": null,
      "outputs": []
    },
    {
      "cell_type": "code",
      "metadata": {
        "id": "7rwSxLio5EbU",
        "colab_type": "code",
        "colab": {
          "base_uri": "https://localhost:8080/",
          "height": 204
        },
        "outputId": "f1608230-13e1-4d4f-c1c2-c59329dde5bb"
      },
      "source": [
        "review_df.head()"
      ],
      "execution_count": null,
      "outputs": [
        {
          "output_type": "execute_result",
          "data": {
            "text/html": [
              "<div>\n",
              "<style scoped>\n",
              "    .dataframe tbody tr th:only-of-type {\n",
              "        vertical-align: middle;\n",
              "    }\n",
              "\n",
              "    .dataframe tbody tr th {\n",
              "        vertical-align: top;\n",
              "    }\n",
              "\n",
              "    .dataframe thead th {\n",
              "        text-align: right;\n",
              "    }\n",
              "</style>\n",
              "<table border=\"1\" class=\"dataframe\">\n",
              "  <thead>\n",
              "    <tr style=\"text-align: right;\">\n",
              "      <th></th>\n",
              "      <th>Review</th>\n",
              "      <th>Book</th>\n",
              "    </tr>\n",
              "  </thead>\n",
              "  <tbody>\n",
              "    <tr>\n",
              "      <th>0</th>\n",
              "      <td>The independence of Abouzeid's subtitle is bot...</td>\n",
              "      <td>Year of the Elephant 1</td>\n",
              "    </tr>\n",
              "    <tr>\n",
              "      <th>1</th>\n",
              "      <td>عند انتقاء رواية لأشتريها من المكتبة، لفت اسم ...</td>\n",
              "      <td>Year of the Elephant 1</td>\n",
              "    </tr>\n",
              "    <tr>\n",
              "      <th>2</th>\n",
              "      <td>It shows the conflicting visions of colonial i...</td>\n",
              "      <td>Year of the Elephant 1</td>\n",
              "    </tr>\n",
              "    <tr>\n",
              "      <th>3</th>\n",
              "      <td>\" زهرة\" تشق طريقها كالنهر يعود إلى مجراه نقيا ...</td>\n",
              "      <td>Year of the Elephant 1</td>\n",
              "    </tr>\n",
              "    <tr>\n",
              "      <th>4</th>\n",
              "      <td>عام الفيل مجموعة قصصية تتكون من ٩ قصص متنوعة و...</td>\n",
              "      <td>Year of the Elephant 1</td>\n",
              "    </tr>\n",
              "  </tbody>\n",
              "</table>\n",
              "</div>"
            ],
            "text/plain": [
              "                                              Review                    Book\n",
              "0  The independence of Abouzeid's subtitle is bot...  Year of the Elephant 1\n",
              "1  عند انتقاء رواية لأشتريها من المكتبة، لفت اسم ...  Year of the Elephant 1\n",
              "2  It shows the conflicting visions of colonial i...  Year of the Elephant 1\n",
              "3  \" زهرة\" تشق طريقها كالنهر يعود إلى مجراه نقيا ...  Year of the Elephant 1\n",
              "4  عام الفيل مجموعة قصصية تتكون من ٩ قصص متنوعة و...  Year of the Elephant 1"
            ]
          },
          "metadata": {
            "tags": []
          },
          "execution_count": 7
        }
      ]
    },
    {
      "cell_type": "code",
      "metadata": {
        "id": "8HdGg50TleZW",
        "colab_type": "code",
        "colab": {}
      },
      "source": [
        "#detecting english phrases\n",
        "\n",
        "def helper(a):\n",
        "  translator = Translator()\n",
        "  lang = translator.detect(a)\n",
        "  return lang.lang"
      ],
      "execution_count": null,
      "outputs": []
    },
    {
      "cell_type": "code",
      "metadata": {
        "id": "WOZrLLGZluDC",
        "colab_type": "code",
        "colab": {}
      },
      "source": [
        "review_df['Lang_Review'] = review_df['Review'].apply(helper)\n",
        "df_review = review_df[review_df['Lang_Review'] == 'en']\n",
        "df_review_emtn = df_review.copy()"
      ],
      "execution_count": null,
      "outputs": []
    },
    {
      "cell_type": "markdown",
      "metadata": {
        "id": "K0jL6MpGJGkb",
        "colab_type": "text"
      },
      "source": [
        "#### **Vader Sentiment Analysis**"
      ]
    },
    {
      "cell_type": "code",
      "metadata": {
        "id": "GqxPwGejsSzz",
        "colab_type": "code",
        "colab": {}
      },
      "source": [
        "sid = SentimentIntensityAnalyzer()\n",
        "def get_sentiment(text:str, analyser,desired_type:str='pos'):\n",
        "    # Get sentiment from text\n",
        "    sentiment_score = analyser.polarity_scores(text)\n",
        "    return sentiment_score[desired_type]\n",
        "\n",
        "# Get Sentiment scores\n",
        "def get_sentiment_scores(df,data_column):\n",
        "    df[f'{data_column} Positive Sentiment Score'] = df[data_column].astype(str).apply(lambda x: get_sentiment(x,sid,'pos'))\n",
        "    df[f'{data_column} Negative Sentiment Score'] = df[data_column].astype(str).apply(lambda x: get_sentiment(x,sid,'neg'))\n",
        "    df[f'{data_column} Neutral Sentiment Score'] = df[data_column].astype(str).apply(lambda x: get_sentiment(x,sid,'neu'))\n",
        "    df[f'{data_column} Compound Sentiment Score'] = df[data_column].astype(str).apply(lambda x: get_sentiment(x,sid,'compound'))\n",
        "    return df"
      ],
      "execution_count": null,
      "outputs": []
    },
    {
      "cell_type": "code",
      "metadata": {
        "id": "QmqH7KOvEPjL",
        "colab_type": "code",
        "colab": {}
      },
      "source": [
        "text_sentiment = get_sentiment_scores(df_review,'Review')\n",
        "del text_sentiment['Lang_Review']"
      ],
      "execution_count": null,
      "outputs": []
    },
    {
      "cell_type": "code",
      "metadata": {
        "id": "0s4G07z7Mt5b",
        "colab_type": "code",
        "colab": {}
      },
      "source": [
        "def remove_numbers(x):\n",
        "  output = re.sub(r'\\d+', '', x)\n",
        "  return output"
      ],
      "execution_count": null,
      "outputs": []
    },
    {
      "cell_type": "code",
      "metadata": {
        "id": "TsqIvBvIMxaY",
        "colab_type": "code",
        "colab": {}
      },
      "source": [
        "text_sentiment['Book']=text_sentiment['Book'].apply(remove_numbers)"
      ],
      "execution_count": null,
      "outputs": []
    },
    {
      "cell_type": "code",
      "metadata": {
        "id": "4b9UW0QVSfZ4",
        "colab_type": "code",
        "colab": {
          "base_uri": "https://localhost:8080/",
          "height": 306
        },
        "outputId": "fd590be3-f468-485d-8f37-660325e4a43c"
      },
      "source": [
        "text_sentiment.head()"
      ],
      "execution_count": null,
      "outputs": [
        {
          "output_type": "execute_result",
          "data": {
            "text/html": [
              "<div>\n",
              "<style scoped>\n",
              "    .dataframe tbody tr th:only-of-type {\n",
              "        vertical-align: middle;\n",
              "    }\n",
              "\n",
              "    .dataframe tbody tr th {\n",
              "        vertical-align: top;\n",
              "    }\n",
              "\n",
              "    .dataframe thead th {\n",
              "        text-align: right;\n",
              "    }\n",
              "</style>\n",
              "<table border=\"1\" class=\"dataframe\">\n",
              "  <thead>\n",
              "    <tr style=\"text-align: right;\">\n",
              "      <th></th>\n",
              "      <th>Review</th>\n",
              "      <th>Book</th>\n",
              "      <th>Review Positive Sentiment Score</th>\n",
              "      <th>Review Negative Sentiment Score</th>\n",
              "      <th>Review Neutral Sentiment Score</th>\n",
              "      <th>Review Compound Sentiment Score</th>\n",
              "    </tr>\n",
              "  </thead>\n",
              "  <tbody>\n",
              "    <tr>\n",
              "      <th>0</th>\n",
              "      <td>The independence of Abouzeid's subtitle is bot...</td>\n",
              "      <td>Year of the Elephant</td>\n",
              "      <td>0.050</td>\n",
              "      <td>0.059</td>\n",
              "      <td>0.891</td>\n",
              "      <td>0.6827</td>\n",
              "    </tr>\n",
              "    <tr>\n",
              "      <th>2</th>\n",
              "      <td>It shows the conflicting visions of colonial i...</td>\n",
              "      <td>Year of the Elephant</td>\n",
              "      <td>0.063</td>\n",
              "      <td>0.147</td>\n",
              "      <td>0.790</td>\n",
              "      <td>-0.7491</td>\n",
              "    </tr>\n",
              "    <tr>\n",
              "      <th>5</th>\n",
              "      <td>Leila Abouzeid's novella, ‘Ām al-fīl / Year of...</td>\n",
              "      <td>Year of the Elephant</td>\n",
              "      <td>0.140</td>\n",
              "      <td>0.069</td>\n",
              "      <td>0.791</td>\n",
              "      <td>0.9711</td>\n",
              "    </tr>\n",
              "    <tr>\n",
              "      <th>6</th>\n",
              "      <td>Maybe this would have had more of an impact on...</td>\n",
              "      <td>Year of the Elephant</td>\n",
              "      <td>0.143</td>\n",
              "      <td>0.031</td>\n",
              "      <td>0.826</td>\n",
              "      <td>0.9805</td>\n",
              "    </tr>\n",
              "    <tr>\n",
              "      <th>7</th>\n",
              "      <td>I used this course in an introductory anthropo...</td>\n",
              "      <td>Year of the Elephant</td>\n",
              "      <td>0.226</td>\n",
              "      <td>0.000</td>\n",
              "      <td>0.774</td>\n",
              "      <td>0.9666</td>\n",
              "    </tr>\n",
              "  </tbody>\n",
              "</table>\n",
              "</div>"
            ],
            "text/plain": [
              "                                              Review  ... Review Compound Sentiment Score\n",
              "0  The independence of Abouzeid's subtitle is bot...  ...                          0.6827\n",
              "2  It shows the conflicting visions of colonial i...  ...                         -0.7491\n",
              "5  Leila Abouzeid's novella, ‘Ām al-fīl / Year of...  ...                          0.9711\n",
              "6  Maybe this would have had more of an impact on...  ...                          0.9805\n",
              "7  I used this course in an introductory anthropo...  ...                          0.9666\n",
              "\n",
              "[5 rows x 6 columns]"
            ]
          },
          "metadata": {
            "tags": []
          },
          "execution_count": 14
        }
      ]
    },
    {
      "cell_type": "code",
      "metadata": {
        "id": "iojNzp0IGo2d",
        "colab_type": "code",
        "colab": {}
      },
      "source": [
        "# Polarity where -1 is the most negative and 1 is the most positive\n",
        "# Subjectivity 0.0 is very objective and 1.0 is very subjective\n",
        "\n",
        "df_review_emtn[['polarity', 'subjectivity']] = df_review_emtn['Review'].apply(lambda Text: pd.Series(TextBlob(Text).sentiment))\n",
        "del df_review_emtn['Lang_Review']\n",
        "df_review_emtn['Book']=df_review_emtn['Book'].apply(remove_numbers)\n"
      ],
      "execution_count": null,
      "outputs": []
    },
    {
      "cell_type": "code",
      "metadata": {
        "id": "VWM0u5TZStcm",
        "colab_type": "code",
        "colab": {
          "base_uri": "https://localhost:8080/",
          "height": 204
        },
        "outputId": "3fe8961b-25bd-44f3-eda9-31a6b9922b87"
      },
      "source": [
        "df_review_emtn.head()"
      ],
      "execution_count": null,
      "outputs": [
        {
          "output_type": "execute_result",
          "data": {
            "text/html": [
              "<div>\n",
              "<style scoped>\n",
              "    .dataframe tbody tr th:only-of-type {\n",
              "        vertical-align: middle;\n",
              "    }\n",
              "\n",
              "    .dataframe tbody tr th {\n",
              "        vertical-align: top;\n",
              "    }\n",
              "\n",
              "    .dataframe thead th {\n",
              "        text-align: right;\n",
              "    }\n",
              "</style>\n",
              "<table border=\"1\" class=\"dataframe\">\n",
              "  <thead>\n",
              "    <tr style=\"text-align: right;\">\n",
              "      <th></th>\n",
              "      <th>Review</th>\n",
              "      <th>Book</th>\n",
              "      <th>polarity</th>\n",
              "      <th>subjectivity</th>\n",
              "    </tr>\n",
              "  </thead>\n",
              "  <tbody>\n",
              "    <tr>\n",
              "      <th>0</th>\n",
              "      <td>The independence of Abouzeid's subtitle is bot...</td>\n",
              "      <td>Year of the Elephant</td>\n",
              "      <td>0.096389</td>\n",
              "      <td>0.537111</td>\n",
              "    </tr>\n",
              "    <tr>\n",
              "      <th>2</th>\n",
              "      <td>It shows the conflicting visions of colonial i...</td>\n",
              "      <td>Year of the Elephant</td>\n",
              "      <td>0.024074</td>\n",
              "      <td>0.400000</td>\n",
              "    </tr>\n",
              "    <tr>\n",
              "      <th>5</th>\n",
              "      <td>Leila Abouzeid's novella, ‘Ām al-fīl / Year of...</td>\n",
              "      <td>Year of the Elephant</td>\n",
              "      <td>-0.053535</td>\n",
              "      <td>0.456782</td>\n",
              "    </tr>\n",
              "    <tr>\n",
              "      <th>6</th>\n",
              "      <td>Maybe this would have had more of an impact on...</td>\n",
              "      <td>Year of the Elephant</td>\n",
              "      <td>0.117667</td>\n",
              "      <td>0.445333</td>\n",
              "    </tr>\n",
              "    <tr>\n",
              "      <th>7</th>\n",
              "      <td>I used this course in an introductory anthropo...</td>\n",
              "      <td>Year of the Elephant</td>\n",
              "      <td>0.346667</td>\n",
              "      <td>0.583810</td>\n",
              "    </tr>\n",
              "  </tbody>\n",
              "</table>\n",
              "</div>"
            ],
            "text/plain": [
              "                                              Review  ... subjectivity\n",
              "0  The independence of Abouzeid's subtitle is bot...  ...     0.537111\n",
              "2  It shows the conflicting visions of colonial i...  ...     0.400000\n",
              "5  Leila Abouzeid's novella, ‘Ām al-fīl / Year of...  ...     0.456782\n",
              "6  Maybe this would have had more of an impact on...  ...     0.445333\n",
              "7  I used this course in an introductory anthropo...  ...     0.583810\n",
              "\n",
              "[5 rows x 4 columns]"
            ]
          },
          "metadata": {
            "tags": []
          },
          "execution_count": 16
        }
      ]
    },
    {
      "cell_type": "code",
      "metadata": {
        "id": "xZECC1FuHNTZ",
        "colab_type": "code",
        "colab": {}
      },
      "source": [
        "df_new_agg = df_review_emtn.groupby(['Book']).mean().reset_index()\n",
        "df_txt_sent = text_sentiment.groupby(['Book']).mean().reset_index()"
      ],
      "execution_count": null,
      "outputs": []
    },
    {
      "cell_type": "code",
      "metadata": {
        "id": "6f57rzwSIJRZ",
        "colab_type": "code",
        "colab": {}
      },
      "source": [
        "df_new_agg.to_excel(r'aggregated_emotions.xlsx', index = False, header=True)"
      ],
      "execution_count": null,
      "outputs": []
    },
    {
      "cell_type": "code",
      "metadata": {
        "id": "YuGE_EjtKV-G",
        "colab_type": "code",
        "colab": {
          "base_uri": "https://localhost:8080/",
          "height": 204
        },
        "outputId": "5b359b1e-c880-4365-9826-3b14e5e830b1"
      },
      "source": [
        "df_new_agg.head()"
      ],
      "execution_count": null,
      "outputs": [
        {
          "output_type": "execute_result",
          "data": {
            "text/html": [
              "<div>\n",
              "<style scoped>\n",
              "    .dataframe tbody tr th:only-of-type {\n",
              "        vertical-align: middle;\n",
              "    }\n",
              "\n",
              "    .dataframe tbody tr th {\n",
              "        vertical-align: top;\n",
              "    }\n",
              "\n",
              "    .dataframe thead th {\n",
              "        text-align: right;\n",
              "    }\n",
              "</style>\n",
              "<table border=\"1\" class=\"dataframe\">\n",
              "  <thead>\n",
              "    <tr style=\"text-align: right;\">\n",
              "      <th></th>\n",
              "      <th>Book</th>\n",
              "      <th>polarity</th>\n",
              "      <th>subjectivity</th>\n",
              "    </tr>\n",
              "  </thead>\n",
              "  <tbody>\n",
              "    <tr>\n",
              "      <th>0</th>\n",
              "      <td>A Balcony Over The Fakihani</td>\n",
              "      <td>0.244569</td>\n",
              "      <td>0.488629</td>\n",
              "    </tr>\n",
              "    <tr>\n",
              "      <th>1</th>\n",
              "      <td>A Sister to Scheherazade</td>\n",
              "      <td>0.055439</td>\n",
              "      <td>0.419181</td>\n",
              "    </tr>\n",
              "    <tr>\n",
              "      <th>2</th>\n",
              "      <td>A Sky So Close</td>\n",
              "      <td>-0.009091</td>\n",
              "      <td>0.240530</td>\n",
              "    </tr>\n",
              "    <tr>\n",
              "      <th>3</th>\n",
              "      <td>A compass for the sunflower</td>\n",
              "      <td>0.000000</td>\n",
              "      <td>0.000000</td>\n",
              "    </tr>\n",
              "    <tr>\n",
              "      <th>4</th>\n",
              "      <td>Absent</td>\n",
              "      <td>0.088672</td>\n",
              "      <td>0.482417</td>\n",
              "    </tr>\n",
              "  </tbody>\n",
              "</table>\n",
              "</div>"
            ],
            "text/plain": [
              "                           Book  polarity  subjectivity\n",
              "0  A Balcony Over The Fakihani   0.244569      0.488629\n",
              "1     A Sister to Scheherazade   0.055439      0.419181\n",
              "2               A Sky So Close  -0.009091      0.240530\n",
              "3   A compass for the sunflower  0.000000      0.000000\n",
              "4                       Absent   0.088672      0.482417"
            ]
          },
          "metadata": {
            "tags": []
          },
          "execution_count": 19
        }
      ]
    },
    {
      "cell_type": "code",
      "metadata": {
        "id": "JrNLp_JETd4t",
        "colab_type": "code",
        "colab": {
          "base_uri": "https://localhost:8080/",
          "height": 272
        },
        "outputId": "ff73f6fc-f73e-452c-9a49-c0966237825c"
      },
      "source": [
        "df_txt_sent.head()"
      ],
      "execution_count": null,
      "outputs": [
        {
          "output_type": "execute_result",
          "data": {
            "text/html": [
              "<div>\n",
              "<style scoped>\n",
              "    .dataframe tbody tr th:only-of-type {\n",
              "        vertical-align: middle;\n",
              "    }\n",
              "\n",
              "    .dataframe tbody tr th {\n",
              "        vertical-align: top;\n",
              "    }\n",
              "\n",
              "    .dataframe thead th {\n",
              "        text-align: right;\n",
              "    }\n",
              "</style>\n",
              "<table border=\"1\" class=\"dataframe\">\n",
              "  <thead>\n",
              "    <tr style=\"text-align: right;\">\n",
              "      <th></th>\n",
              "      <th>Book</th>\n",
              "      <th>Review Positive Sentiment Score</th>\n",
              "      <th>Review Negative Sentiment Score</th>\n",
              "      <th>Review Neutral Sentiment Score</th>\n",
              "      <th>Review Compound Sentiment Score</th>\n",
              "    </tr>\n",
              "  </thead>\n",
              "  <tbody>\n",
              "    <tr>\n",
              "      <th>0</th>\n",
              "      <td>A Balcony Over The Fakihani</td>\n",
              "      <td>0.139000</td>\n",
              "      <td>0.096385</td>\n",
              "      <td>0.610692</td>\n",
              "      <td>0.182515</td>\n",
              "    </tr>\n",
              "    <tr>\n",
              "      <th>1</th>\n",
              "      <td>A Sister to Scheherazade</td>\n",
              "      <td>0.103441</td>\n",
              "      <td>0.091059</td>\n",
              "      <td>0.746559</td>\n",
              "      <td>0.057221</td>\n",
              "    </tr>\n",
              "    <tr>\n",
              "      <th>2</th>\n",
              "      <td>A Sky So Close</td>\n",
              "      <td>0.041500</td>\n",
              "      <td>0.075500</td>\n",
              "      <td>0.383000</td>\n",
              "      <td>-0.491750</td>\n",
              "    </tr>\n",
              "    <tr>\n",
              "      <th>3</th>\n",
              "      <td>A compass for the sunflower</td>\n",
              "      <td>0.000000</td>\n",
              "      <td>0.000000</td>\n",
              "      <td>0.000000</td>\n",
              "      <td>0.000000</td>\n",
              "    </tr>\n",
              "    <tr>\n",
              "      <th>4</th>\n",
              "      <td>Absent</td>\n",
              "      <td>0.149030</td>\n",
              "      <td>0.094212</td>\n",
              "      <td>0.741591</td>\n",
              "      <td>0.152542</td>\n",
              "    </tr>\n",
              "  </tbody>\n",
              "</table>\n",
              "</div>"
            ],
            "text/plain": [
              "                           Book  ...  Review Compound Sentiment Score\n",
              "0  A Balcony Over The Fakihani   ...                         0.182515\n",
              "1     A Sister to Scheherazade   ...                         0.057221\n",
              "2               A Sky So Close   ...                        -0.491750\n",
              "3   A compass for the sunflower  ...                         0.000000\n",
              "4                       Absent   ...                         0.152542\n",
              "\n",
              "[5 rows x 5 columns]"
            ]
          },
          "metadata": {
            "tags": []
          },
          "execution_count": 20
        }
      ]
    },
    {
      "cell_type": "code",
      "metadata": {
        "id": "nmoUTD5NYfR3",
        "colab_type": "code",
        "colab": {}
      },
      "source": [
        "#select the books\n",
        "array = ['The Blue Aubergine ','Beirut - A Novel','Improvisations on a Missing String','Red Wine ','Points of the Compass: Stories','Leaves of Narcissus',\\\n",
        "'The Inheritance ','The Open Door ','The Man from Bashmour','Daughter of Damascus ','Year of the Elephant ','Fantasia: An Algerian Cavalcade ','Children of the New World']\n",
        "\n",
        "df_txt_sent_plot = df_txt_sent.loc[df_txt_sent['Book'].isin(array)]\n",
        "df_new_agg_plot = df_new_agg.loc[df_new_agg['Book'].isin(array)]"
      ],
      "execution_count": null,
      "outputs": []
    },
    {
      "cell_type": "code",
      "metadata": {
        "id": "ZPn5tOp2cF6h",
        "colab_type": "code",
        "colab": {
          "base_uri": "https://localhost:8080/",
          "height": 441
        },
        "outputId": "ae50f97b-1ef7-4d45-c434-ef0ddd810bf5"
      },
      "source": [
        "df_txt_sent_plot"
      ],
      "execution_count": null,
      "outputs": [
        {
          "output_type": "execute_result",
          "data": {
            "text/html": [
              "<div>\n",
              "<style scoped>\n",
              "    .dataframe tbody tr th:only-of-type {\n",
              "        vertical-align: middle;\n",
              "    }\n",
              "\n",
              "    .dataframe tbody tr th {\n",
              "        vertical-align: top;\n",
              "    }\n",
              "\n",
              "    .dataframe thead th {\n",
              "        text-align: right;\n",
              "    }\n",
              "</style>\n",
              "<table border=\"1\" class=\"dataframe\">\n",
              "  <thead>\n",
              "    <tr style=\"text-align: right;\">\n",
              "      <th></th>\n",
              "      <th>Book</th>\n",
              "      <th>Review Positive Sentiment Score</th>\n",
              "      <th>Review Negative Sentiment Score</th>\n",
              "      <th>Review Neutral Sentiment Score</th>\n",
              "      <th>Review Compound Sentiment Score</th>\n",
              "    </tr>\n",
              "  </thead>\n",
              "  <tbody>\n",
              "    <tr>\n",
              "      <th>8</th>\n",
              "      <td>Beirut - A Novel</td>\n",
              "      <td>0.000000</td>\n",
              "      <td>0.000000</td>\n",
              "      <td>0.000000</td>\n",
              "      <td>0.000000</td>\n",
              "    </tr>\n",
              "    <tr>\n",
              "      <th>14</th>\n",
              "      <td>Children of the New World</td>\n",
              "      <td>0.107000</td>\n",
              "      <td>0.108000</td>\n",
              "      <td>0.784000</td>\n",
              "      <td>-0.982200</td>\n",
              "    </tr>\n",
              "    <tr>\n",
              "      <th>15</th>\n",
              "      <td>Daughter of Damascus</td>\n",
              "      <td>0.072000</td>\n",
              "      <td>0.041333</td>\n",
              "      <td>0.720000</td>\n",
              "      <td>0.216150</td>\n",
              "    </tr>\n",
              "    <tr>\n",
              "      <th>19</th>\n",
              "      <td>Fantasia: An Algerian Cavalcade</td>\n",
              "      <td>0.104746</td>\n",
              "      <td>0.076075</td>\n",
              "      <td>0.774537</td>\n",
              "      <td>0.220861</td>\n",
              "    </tr>\n",
              "    <tr>\n",
              "      <th>24</th>\n",
              "      <td>Leaves of Narcissus</td>\n",
              "      <td>0.000000</td>\n",
              "      <td>0.000000</td>\n",
              "      <td>0.000000</td>\n",
              "      <td>0.000000</td>\n",
              "    </tr>\n",
              "    <tr>\n",
              "      <th>32</th>\n",
              "      <td>Red Wine</td>\n",
              "      <td>0.174800</td>\n",
              "      <td>0.058000</td>\n",
              "      <td>0.567200</td>\n",
              "      <td>-0.101500</td>\n",
              "    </tr>\n",
              "    <tr>\n",
              "      <th>36</th>\n",
              "      <td>The Blue Aubergine</td>\n",
              "      <td>0.032867</td>\n",
              "      <td>0.040400</td>\n",
              "      <td>0.860200</td>\n",
              "      <td>0.058007</td>\n",
              "    </tr>\n",
              "    <tr>\n",
              "      <th>41</th>\n",
              "      <td>The Inheritance</td>\n",
              "      <td>0.096900</td>\n",
              "      <td>0.082400</td>\n",
              "      <td>0.620900</td>\n",
              "      <td>-0.135520</td>\n",
              "    </tr>\n",
              "    <tr>\n",
              "      <th>43</th>\n",
              "      <td>The Man from Bashmour</td>\n",
              "      <td>0.000000</td>\n",
              "      <td>0.000000</td>\n",
              "      <td>0.000000</td>\n",
              "      <td>0.000000</td>\n",
              "    </tr>\n",
              "    <tr>\n",
              "      <th>45</th>\n",
              "      <td>The Open Door</td>\n",
              "      <td>0.186171</td>\n",
              "      <td>0.046029</td>\n",
              "      <td>0.739229</td>\n",
              "      <td>0.574449</td>\n",
              "    </tr>\n",
              "    <tr>\n",
              "      <th>56</th>\n",
              "      <td>Year of the Elephant</td>\n",
              "      <td>0.158407</td>\n",
              "      <td>0.058852</td>\n",
              "      <td>0.782815</td>\n",
              "      <td>0.522893</td>\n",
              "    </tr>\n",
              "  </tbody>\n",
              "</table>\n",
              "</div>"
            ],
            "text/plain": [
              "                                Book  ...  Review Compound Sentiment Score\n",
              "8                   Beirut - A Novel  ...                         0.000000\n",
              "14         Children of the New World  ...                        -0.982200\n",
              "15             Daughter of Damascus   ...                         0.216150\n",
              "19  Fantasia: An Algerian Cavalcade   ...                         0.220861\n",
              "24               Leaves of Narcissus  ...                         0.000000\n",
              "32                         Red Wine   ...                        -0.101500\n",
              "36               The Blue Aubergine   ...                         0.058007\n",
              "41                  The Inheritance   ...                        -0.135520\n",
              "43             The Man from Bashmour  ...                         0.000000\n",
              "45                    The Open Door   ...                         0.574449\n",
              "56             Year of the Elephant   ...                         0.522893\n",
              "\n",
              "[11 rows x 5 columns]"
            ]
          },
          "metadata": {
            "tags": []
          },
          "execution_count": 22
        }
      ]
    },
    {
      "cell_type": "code",
      "metadata": {
        "id": "xqWpBXvqY0yA",
        "colab_type": "code",
        "colab": {
          "base_uri": "https://localhost:8080/",
          "height": 613
        },
        "outputId": "bed84c70-5565-48d0-ea41-c6514ec7c914"
      },
      "source": [
        "#Plotting polarity\n",
        "\n",
        "x_axis = np.arange(len(df_new_agg_plot['Book']))\n",
        "tick_locations = [value+0.4 for value in x_axis]\n",
        "fig,ax=plt.subplots(figsize=(10, 7))\n",
        "plt.xticks(tick_locations, df_new_agg_plot['Book'], rotation=\"vertical\")\n",
        "\n",
        "plot=plt.bar(df_new_agg_plot['Book'], df_new_agg_plot[\"polarity\"], color=(df_new_agg_plot['polarity'] > 0).map({True: 'g', False: 'r'}), alpha=1, align=\"edge\")\n",
        "plt.grid()\n",
        "\n",
        "#plt.title(\"Sentiment Analysis of Book Reviews \" )\n",
        "plt.title(\"Overall Sentiment Polarity based on Book Reviews(%s) \")\n",
        "plt.xlabel(\"Book\")\n",
        "plt.ylabel(\"Book Review Polarity\")\n",
        "ax.grid(linestyle=\"dotted\")\n"
      ],
      "execution_count": null,
      "outputs": [
        {
          "output_type": "display_data",
          "data": {
            "image/png": "[encoded data removed]",
            "text/plain": [
              "<Figure size 720x504 with 1 Axes>"
            ]
          },
          "metadata": {
            "tags": [],
            "needs_background": "light"
          }
        }
      ]
    },
    {
      "cell_type": "code",
      "metadata": {
        "id": "JZk5zSlzf2uj",
        "colab_type": "code",
        "colab": {
          "base_uri": "https://localhost:8080/",
          "height": 613
        },
        "outputId": "8a129f85-7b07-48ec-8915-81400849b945"
      },
      "source": [
        "#Plotting subjectivity\n",
        "\n",
        "x_axis = np.arange(len(df_new_agg_plot['Book']))\n",
        "tick_locations = [value+0.4 for value in x_axis]\n",
        "fig,ax=plt.subplots(figsize=(10, 7))\n",
        "plt.xticks(tick_locations, df_new_agg_plot['Book'], rotation=\"vertical\")\n",
        "\n",
        "plot=plt.bar(df_new_agg_plot['Book'], df_new_agg_plot[\"subjectivity\"], color=(df_new_agg_plot['subjectivity'] > 0).map({True: 'g', False: 'r'}), alpha=1, align=\"edge\")\n",
        "plt.grid()\n",
        "\n",
        "#plt.title(\"Sentiment Analysis of Book Reviews (%s) \" )\n",
        "plt.title(\"Overall Sentiment Subjectivity based on Book Reviews(\")\n",
        "plt.xlabel(\"Book\")\n",
        "plt.ylabel(\"Book Review Subjectivity\")\n",
        "ax.grid(linestyle=\"dotted\")"
      ],
      "execution_count": null,
      "outputs": [
        {
          "output_type": "display_data",
          "data": {
            "image/png": "[encoded data removed]",
            "text/plain": [
              "<Figure size 720x504 with 1 Axes>"
            ]
          },
          "metadata": {
            "tags": [],
            "needs_background": "light"
          }
        }
      ]
    },
    {
      "cell_type": "code",
      "metadata": {
        "id": "oXaHb54awvRY",
        "colab_type": "code",
        "colab": {
          "base_uri": "https://localhost:8080/",
          "height": 613
        },
        "outputId": "6a4c72f1-80e9-4c0b-a460-747ee22b1707"
      },
      "source": [
        "#Plotting compound sentiment\n",
        "\n",
        "x_axis = np.arange(len(df_txt_sent_plot['Book']))\n",
        "tick_locations = [value+0.4 for value in x_axis]\n",
        "fig,ax=plt.subplots(figsize=(10, 7))\n",
        "plt.xticks(tick_locations, df_txt_sent_plot['Book'], rotation=\"vertical\")\n",
        "\n",
        "plot=plt.bar(df_txt_sent_plot['Book'], df_txt_sent_plot[\"Review Compound Sentiment Score\"], color=(df_txt_sent_plot['Review Compound Sentiment Score'] > 0).map({True: 'g', False: 'r'}), alpha=1, align=\"edge\")\n",
        "plt.grid()\n",
        "\n",
        "#plt.title(\"Compound Sentiments of Book Reviews\" )\n",
        "plt.title(\"Compound Sentiments of Book Reviews\")\n",
        "plt.xlabel(\"Book\")\n",
        "plt.ylabel(\"Compound Book Review\")\n",
        "ax.grid(linestyle=\"dotted\")"
      ],
      "execution_count": null,
      "outputs": [
        {
          "output_type": "display_data",
          "data": {
            "image/png": "[encoded data removed]",
            "text/plain": [
              "<Figure size 720x504 with 1 Axes>"
            ]
          },
          "metadata": {
            "tags": [],
            "needs_background": "light"
          }
        }
      ]
    },
    {
      "cell_type": "code",
      "metadata": {
        "id": "OQtCX4HlpDqf",
        "colab_type": "code",
        "colab": {
          "base_uri": "https://localhost:8080/",
          "height": 776
        },
        "outputId": "2deb1052-aefd-4716-9773-4a72d5c638be"
      },
      "source": [
        "# Setting the positions and width for the bars\n",
        "pos = list(range(len(df_txt_sent_plot['Book'])))\n",
        "width = 0.35\n",
        "\n",
        "# Plotting the bars\n",
        "fig, ax = plt.subplots(figsize=(15,10))\n",
        "\n",
        "# Create a bar with positive sentiment data\n",
        "plt.bar(pos, df_txt_sent_plot['Review Positive Sentiment Score'], width, alpha=1, color='#ebab34')\n",
        "\n",
        "# Create a bar for negative\n",
        "plt.bar([p + width for p in pos], df_txt_sent_plot['Review Negative Sentiment Score'], width, alpha=1, color='#140be6')\n",
        "\n",
        "# Set the y and x axis label\n",
        "ax.set_ylabel('Score')\n",
        "ax.set_xlabel(\"Book\")\n",
        "\n",
        "# Set the labels for the x ticks\n",
        "ax.set_xticklabels(df_txt_sent_plot['Book'])\n",
        "\n",
        "# Set the position of the x ticks\n",
        "tick_locations = [p + 1.5 * width for p in pos]\n",
        "plt.xticks(tick_locations, df_txt_sent_plot['Book'], rotation=\"vertical\")\n",
        "\n",
        "# Setting the x-axis and y-axis limits\n",
        "plt.xlim(min(pos)-width, max(pos)+width*4)\n",
        "plt.ylim([0, max(df_txt_sent_plot['Review Positive Sentiment Score'] + df_txt_sent_plot['Review Negative Sentiment Score'])] )\n",
        "\n",
        "\n",
        "# Adding the legend and showing the plot\n",
        "plt.legend(['Positive', 'Negative'], loc='upper left')\n",
        "\n",
        "ax.grid(linestyle=\"dotted\")\n",
        "plt.title(\"Overall Positive and Negative Sentiments of Book Reviews\")\n",
        "plt.show()"
      ],
      "execution_count": null,
      "outputs": [
        {
          "output_type": "display_data",
          "data": {
            "image/png": "[encoded data removed]",
            "text/plain": [
              "<Figure size 1080x720 with 1 Axes>"
            ]
          },
          "metadata": {
            "tags": [],
            "needs_background": "light"
          }
        }
      ]
    },
    {
      "cell_type": "markdown",
      "metadata": {
        "id": "33_2F_K5w2u1",
        "colab_type": "text"
      },
      "source": [
        "#### **Publisher Reviews**"
      ]
    },
    {
      "cell_type": "code",
      "metadata": {
        "id": "F1FBZDOXKA6b",
        "colab_type": "code",
        "colab": {}
      },
      "source": [
        "auth.authenticate_user()\n",
        "\n",
        "gc = gspread.authorize(GoogleCredentials.get_application_default())"
      ],
      "execution_count": null,
      "outputs": []
    },
    {
      "cell_type": "code",
      "metadata": {
        "id": "S3dGI8IuKvlF",
        "colab_type": "code",
        "colab": {}
      },
      "source": [
        "wb = gc.open_by_url('file')"
      ],
      "execution_count": null,
      "outputs": []
    },
    {
      "cell_type": "code",
      "metadata": {
        "id": "-L8hNPmIRYjm",
        "colab_type": "code",
        "colab": {}
      },
      "source": [
        "sheet = wb.worksheet('Publisher Blurbs (NEW VERSION)')\n",
        "data = sheet.get_all_values()"
      ],
      "execution_count": null,
      "outputs": []
    },
    {
      "cell_type": "code",
      "metadata": {
        "id": "5D1oVGsj_XE4",
        "colab_type": "code",
        "colab": {}
      },
      "source": [
        "df_review_pub = pd.DataFrame(data)"
      ],
      "execution_count": null,
      "outputs": []
    },
    {
      "cell_type": "code",
      "metadata": {
        "id": "X83xLBU4GGIv",
        "colab_type": "code",
        "colab": {}
      },
      "source": [
        "new_header = df_review_pub.iloc[0]\n",
        "df_review_pub = df_review_pub[1:]\n",
        "df_review_pub.columns = new_header "
      ],
      "execution_count": null,
      "outputs": []
    },
    {
      "cell_type": "code",
      "metadata": {
        "id": "nLw81ghEYK3n",
        "colab_type": "code",
        "colab": {}
      },
      "source": [
        "publisher_review = df_review_pub[['AUTHOR','TITLE','Editorial Blurbs/Blurbs by Outside Source','Reviewer source/name']]"
      ],
      "execution_count": null,
      "outputs": []
    },
    {
      "cell_type": "code",
      "metadata": {
        "id": "mNiVpAOHc2bW",
        "colab_type": "code",
        "colab": {}
      },
      "source": [
        "publisher_review = publisher_review[publisher_review['Editorial Blurbs/Blurbs by Outside Source'] != '0']\n",
        "publisher_review['Editorial Blurbs/Blurbs by Outside Source'].replace('', np.nan, inplace=True)\n",
        "publisher_review.dropna(subset=['Editorial Blurbs/Blurbs by Outside Source'], inplace=True)\n",
        "publisher_review['TITLE'].replace('', np.nan, inplace=True)\n",
        "publisher_review.dropna(subset=['TITLE'], inplace=True)\n",
        "publisher_review['Editorial Blurbs'] = publisher_review['Editorial Blurbs/Blurbs by Outside Source'].str.replace('\"', '')\n",
        "del publisher_review['Editorial Blurbs/Blurbs by Outside Source']"
      ],
      "execution_count": null,
      "outputs": []
    },
    {
      "cell_type": "code",
      "metadata": {
        "id": "xp_ApcQ_eRCQ",
        "colab_type": "code",
        "colab": {
          "base_uri": "https://localhost:8080/",
          "height": 204
        },
        "outputId": "79969675-5897-4c88-bb33-5d0aa7056d30"
      },
      "source": [
        "df_pub_review = publisher_review.copy()\n",
        "publisher_review.head()"
      ],
      "execution_count": null,
      "outputs": [
        {
          "output_type": "execute_result",
          "data": {
            "text/html": [
              "<div>\n",
              "<style scoped>\n",
              "    .dataframe tbody tr th:only-of-type {\n",
              "        vertical-align: middle;\n",
              "    }\n",
              "\n",
              "    .dataframe tbody tr th {\n",
              "        vertical-align: top;\n",
              "    }\n",
              "\n",
              "    .dataframe thead th {\n",
              "        text-align: right;\n",
              "    }\n",
              "</style>\n",
              "<table border=\"1\" class=\"dataframe\">\n",
              "  <thead>\n",
              "    <tr style=\"text-align: right;\">\n",
              "      <th></th>\n",
              "      <th>AUTHOR</th>\n",
              "      <th>TITLE</th>\n",
              "      <th>Reviewer source/name</th>\n",
              "      <th>Editorial Blurbs</th>\n",
              "    </tr>\n",
              "  </thead>\n",
              "  <tbody>\n",
              "    <tr>\n",
              "      <th>1</th>\n",
              "      <td>Layla Abu Zayd</td>\n",
              "      <td>Year of the Elephant</td>\n",
              "      <td>World Literature Today</td>\n",
              "      <td>At a time when there is growing interest in th...</td>\n",
              "    </tr>\n",
              "    <tr>\n",
              "      <th>2</th>\n",
              "      <td>Layla Abu Zayd</td>\n",
              "      <td>Year of the Elephant</td>\n",
              "      <td>Ahmed Abd al-Salam al-Bakkah, Moroccan author ...</td>\n",
              "      <td>Leila Abouzeid has created a new style, a mosa...</td>\n",
              "    </tr>\n",
              "    <tr>\n",
              "      <th>3</th>\n",
              "      <td>Layla Abu Zayd</td>\n",
              "      <td>Last Chapter (Modern Arabic Writing)</td>\n",
              "      <td></td>\n",
              "      <td>... a fascinating glimpse into a world mostly ...</td>\n",
              "    </tr>\n",
              "    <tr>\n",
              "      <th>4</th>\n",
              "      <td>Jokha Alharthi</td>\n",
              "      <td>Celestial Bodies</td>\n",
              "      <td>-Marcia Lynx Qualey, The National</td>\n",
              "      <td>A richly imagined, engaging and poetic insight...</td>\n",
              "    </tr>\n",
              "    <tr>\n",
              "      <th>5</th>\n",
              "      <td>Jokha Alharthi</td>\n",
              "      <td>Celestial Bodies</td>\n",
              "      <td>-Women In Translation'</td>\n",
              "      <td>`Compelling...</td>\n",
              "    </tr>\n",
              "  </tbody>\n",
              "</table>\n",
              "</div>"
            ],
            "text/plain": [
              "0          AUTHOR  ...                                   Editorial Blurbs\n",
              "1  Layla Abu Zayd  ...  At a time when there is growing interest in th...\n",
              "2  Layla Abu Zayd  ...  Leila Abouzeid has created a new style, a mosa...\n",
              "3  Layla Abu Zayd  ...  ... a fascinating glimpse into a world mostly ...\n",
              "4  Jokha Alharthi  ...  A richly imagined, engaging and poetic insight...\n",
              "5  Jokha Alharthi  ...                                     `Compelling...\n",
              "\n",
              "[5 rows x 4 columns]"
            ]
          },
          "metadata": {
            "tags": []
          },
          "execution_count": 34
        }
      ]
    },
    {
      "cell_type": "code",
      "metadata": {
        "id": "WDxVOPWehHn7",
        "colab_type": "code",
        "colab": {}
      },
      "source": [
        "publisher_review_sentiment = publisher_review[['TITLE','Editorial Blurbs']]\n",
        "publisher_review_sentiment[['polarity', 'subjectivity']] = publisher_review_sentiment['Editorial Blurbs'].apply(lambda Text: pd.Series(TextBlob(Text).sentiment))"
      ],
      "execution_count": null,
      "outputs": []
    },
    {
      "cell_type": "code",
      "metadata": {
        "id": "En8Cq3OuhHgX",
        "colab_type": "code",
        "colab": {
          "base_uri": "https://localhost:8080/",
          "height": 204
        },
        "outputId": "a955ea97-93e4-4bcb-92ba-feabbf53feaa"
      },
      "source": [
        "publisher_review_sentiment.head()"
      ],
      "execution_count": null,
      "outputs": [
        {
          "output_type": "execute_result",
          "data": {
            "text/html": [
              "<div>\n",
              "<style scoped>\n",
              "    .dataframe tbody tr th:only-of-type {\n",
              "        vertical-align: middle;\n",
              "    }\n",
              "\n",
              "    .dataframe tbody tr th {\n",
              "        vertical-align: top;\n",
              "    }\n",
              "\n",
              "    .dataframe thead th {\n",
              "        text-align: right;\n",
              "    }\n",
              "</style>\n",
              "<table border=\"1\" class=\"dataframe\">\n",
              "  <thead>\n",
              "    <tr style=\"text-align: right;\">\n",
              "      <th></th>\n",
              "      <th>TITLE</th>\n",
              "      <th>Editorial Blurbs</th>\n",
              "      <th>polarity</th>\n",
              "      <th>subjectivity</th>\n",
              "    </tr>\n",
              "  </thead>\n",
              "  <tbody>\n",
              "    <tr>\n",
              "      <th>1</th>\n",
              "      <td>Year of the Elephant</td>\n",
              "      <td>At a time when there is growing interest in th...</td>\n",
              "      <td>0.000000</td>\n",
              "      <td>0.000000</td>\n",
              "    </tr>\n",
              "    <tr>\n",
              "      <th>2</th>\n",
              "      <td>Year of the Elephant</td>\n",
              "      <td>Leila Abouzeid has created a new style, a mosa...</td>\n",
              "      <td>0.124242</td>\n",
              "      <td>0.369697</td>\n",
              "    </tr>\n",
              "    <tr>\n",
              "      <th>3</th>\n",
              "      <td>Last Chapter (Modern Arabic Writing)</td>\n",
              "      <td>... a fascinating glimpse into a world mostly ...</td>\n",
              "      <td>0.300000</td>\n",
              "      <td>0.725000</td>\n",
              "    </tr>\n",
              "    <tr>\n",
              "      <th>4</th>\n",
              "      <td>Celestial Bodies</td>\n",
              "      <td>A richly imagined, engaging and poetic insight...</td>\n",
              "      <td>0.247222</td>\n",
              "      <td>0.477778</td>\n",
              "    </tr>\n",
              "    <tr>\n",
              "      <th>5</th>\n",
              "      <td>Celestial Bodies</td>\n",
              "      <td>`Compelling...</td>\n",
              "      <td>0.300000</td>\n",
              "      <td>0.600000</td>\n",
              "    </tr>\n",
              "  </tbody>\n",
              "</table>\n",
              "</div>"
            ],
            "text/plain": [
              "0                                 TITLE  ... subjectivity\n",
              "1                  Year of the Elephant  ...     0.000000\n",
              "2                  Year of the Elephant  ...     0.369697\n",
              "3  Last Chapter (Modern Arabic Writing)  ...     0.725000\n",
              "4                      Celestial Bodies  ...     0.477778\n",
              "5                      Celestial Bodies  ...     0.600000\n",
              "\n",
              "[5 rows x 4 columns]"
            ]
          },
          "metadata": {
            "tags": []
          },
          "execution_count": 36
        }
      ]
    },
    {
      "cell_type": "code",
      "metadata": {
        "id": "JjvXqWcrhHY3",
        "colab_type": "code",
        "colab": {
          "base_uri": "https://localhost:8080/",
          "height": 793
        },
        "outputId": "b27a6e77-ad46-4b92-f41b-fd17f6eb08f2"
      },
      "source": [
        "get_sentiment_scores(df_pub_review,'Editorial Blurbs')"
      ],
      "execution_count": null,
      "outputs": [
        {
          "output_type": "execute_result",
          "data": {
            "text/html": [
              "<div>\n",
              "<style scoped>\n",
              "    .dataframe tbody tr th:only-of-type {\n",
              "        vertical-align: middle;\n",
              "    }\n",
              "\n",
              "    .dataframe tbody tr th {\n",
              "        vertical-align: top;\n",
              "    }\n",
              "\n",
              "    .dataframe thead th {\n",
              "        text-align: right;\n",
              "    }\n",
              "</style>\n",
              "<table border=\"1\" class=\"dataframe\">\n",
              "  <thead>\n",
              "    <tr style=\"text-align: right;\">\n",
              "      <th></th>\n",
              "      <th>AUTHOR</th>\n",
              "      <th>TITLE</th>\n",
              "      <th>Reviewer source/name</th>\n",
              "      <th>Editorial Blurbs</th>\n",
              "      <th>Editorial Blurbs Positive Sentiment Score</th>\n",
              "      <th>Editorial Blurbs Negative Sentiment Score</th>\n",
              "      <th>Editorial Blurbs Neutral Sentiment Score</th>\n",
              "      <th>Editorial Blurbs Compound Sentiment Score</th>\n",
              "    </tr>\n",
              "  </thead>\n",
              "  <tbody>\n",
              "    <tr>\n",
              "      <th>1</th>\n",
              "      <td>Layla Abu Zayd</td>\n",
              "      <td>Year of the Elephant</td>\n",
              "      <td>World Literature Today</td>\n",
              "      <td>At a time when there is growing interest in th...</td>\n",
              "      <td>0.159</td>\n",
              "      <td>0.132</td>\n",
              "      <td>0.709</td>\n",
              "      <td>-0.0516</td>\n",
              "    </tr>\n",
              "    <tr>\n",
              "      <th>2</th>\n",
              "      <td>Layla Abu Zayd</td>\n",
              "      <td>Year of the Elephant</td>\n",
              "      <td>Ahmed Abd al-Salam al-Bakkah, Moroccan author ...</td>\n",
              "      <td>Leila Abouzeid has created a new style, a mosa...</td>\n",
              "      <td>0.091</td>\n",
              "      <td>0.000</td>\n",
              "      <td>0.909</td>\n",
              "      <td>0.2500</td>\n",
              "    </tr>\n",
              "    <tr>\n",
              "      <th>3</th>\n",
              "      <td>Layla Abu Zayd</td>\n",
              "      <td>Last Chapter (Modern Arabic Writing)</td>\n",
              "      <td></td>\n",
              "      <td>... a fascinating glimpse into a world mostly ...</td>\n",
              "      <td>0.280</td>\n",
              "      <td>0.000</td>\n",
              "      <td>0.720</td>\n",
              "      <td>0.5423</td>\n",
              "    </tr>\n",
              "    <tr>\n",
              "      <th>4</th>\n",
              "      <td>Jokha Alharthi</td>\n",
              "      <td>Celestial Bodies</td>\n",
              "      <td>-Marcia Lynx Qualey, The National</td>\n",
              "      <td>A richly imagined, engaging and poetic insight...</td>\n",
              "      <td>0.311</td>\n",
              "      <td>0.000</td>\n",
              "      <td>0.689</td>\n",
              "      <td>0.9184</td>\n",
              "    </tr>\n",
              "    <tr>\n",
              "      <th>5</th>\n",
              "      <td>Jokha Alharthi</td>\n",
              "      <td>Celestial Bodies</td>\n",
              "      <td>-Women In Translation'</td>\n",
              "      <td>`Compelling...</td>\n",
              "      <td>0.000</td>\n",
              "      <td>0.000</td>\n",
              "      <td>1.000</td>\n",
              "      <td>0.0000</td>\n",
              "    </tr>\n",
              "    <tr>\n",
              "      <th>...</th>\n",
              "      <td>...</td>\n",
              "      <td>...</td>\n",
              "      <td>...</td>\n",
              "      <td>...</td>\n",
              "      <td>...</td>\n",
              "      <td>...</td>\n",
              "      <td>...</td>\n",
              "      <td>...</td>\n",
              "    </tr>\n",
              "    <tr>\n",
              "      <th>147</th>\n",
              "      <td>Latifah al-Zayyat</td>\n",
              "      <td>The Open Door</td>\n",
              "      <td>Naguib Mahfouz</td>\n",
              "      <td>Latifa al-Zayyat greatly helped all of us Egyp...</td>\n",
              "      <td>0.000</td>\n",
              "      <td>0.000</td>\n",
              "      <td>1.000</td>\n",
              "      <td>0.0000</td>\n",
              "    </tr>\n",
              "    <tr>\n",
              "      <th>148</th>\n",
              "      <td>Latifah al-Zayyat</td>\n",
              "      <td>The Open Door</td>\n",
              "      <td>Kirkus Reviews (Book Review Magazine)</td>\n",
              "      <td>Absorbing ... Superbly translated ... Arguably...</td>\n",
              "      <td>0.289</td>\n",
              "      <td>0.089</td>\n",
              "      <td>0.622</td>\n",
              "      <td>0.6705</td>\n",
              "    </tr>\n",
              "    <tr>\n",
              "      <th>149</th>\n",
              "      <td>Latifah al-Zayyat</td>\n",
              "      <td>The Open Door</td>\n",
              "      <td>Choice</td>\n",
              "      <td>Recommended.</td>\n",
              "      <td>1.000</td>\n",
              "      <td>0.000</td>\n",
              "      <td>0.000</td>\n",
              "      <td>0.2023</td>\n",
              "    </tr>\n",
              "    <tr>\n",
              "      <th>150</th>\n",
              "      <td>Latifah al-Zayyat</td>\n",
              "      <td>The Open Door</td>\n",
              "      <td>Al Jadid</td>\n",
              "      <td>A pioneering work on many levels.</td>\n",
              "      <td>0.000</td>\n",
              "      <td>0.000</td>\n",
              "      <td>1.000</td>\n",
              "      <td>0.0000</td>\n",
              "    </tr>\n",
              "    <tr>\n",
              "      <th>151</th>\n",
              "      <td>Latifah al-Zayyat</td>\n",
              "      <td>The Open Door</td>\n",
              "      <td>Abdel Moneim Tallima</td>\n",
              "      <td>Not only a great novel, but a literary landmar...</td>\n",
              "      <td>0.111</td>\n",
              "      <td>0.277</td>\n",
              "      <td>0.612</td>\n",
              "      <td>-0.2910</td>\n",
              "    </tr>\n",
              "  </tbody>\n",
              "</table>\n",
              "<p>122 rows × 8 columns</p>\n",
              "</div>"
            ],
            "text/plain": [
              "0               AUTHOR  ... Editorial Blurbs Compound Sentiment Score\n",
              "1       Layla Abu Zayd  ...                                   -0.0516\n",
              "2       Layla Abu Zayd  ...                                    0.2500\n",
              "3       Layla Abu Zayd  ...                                    0.5423\n",
              "4       Jokha Alharthi  ...                                    0.9184\n",
              "5       Jokha Alharthi  ...                                    0.0000\n",
              "..                 ...  ...                                       ...\n",
              "147  Latifah al-Zayyat  ...                                    0.0000\n",
              "148  Latifah al-Zayyat  ...                                    0.6705\n",
              "149  Latifah al-Zayyat  ...                                    0.2023\n",
              "150  Latifah al-Zayyat  ...                                    0.0000\n",
              "151  Latifah al-Zayyat  ...                                   -0.2910\n",
              "\n",
              "[122 rows x 8 columns]"
            ]
          },
          "metadata": {
            "tags": []
          },
          "execution_count": 37
        }
      ]
    },
    {
      "cell_type": "code",
      "metadata": {
        "id": "cRxNQo97hHRa",
        "colab_type": "code",
        "colab": {
          "base_uri": "https://localhost:8080/",
          "height": 408
        },
        "outputId": "c348fd7e-1e9a-42af-a0ed-f179273024b9"
      },
      "source": [
        "df_pub_review.head()"
      ],
      "execution_count": null,
      "outputs": [
        {
          "output_type": "execute_result",
          "data": {
            "text/html": [
              "<div>\n",
              "<style scoped>\n",
              "    .dataframe tbody tr th:only-of-type {\n",
              "        vertical-align: middle;\n",
              "    }\n",
              "\n",
              "    .dataframe tbody tr th {\n",
              "        vertical-align: top;\n",
              "    }\n",
              "\n",
              "    .dataframe thead th {\n",
              "        text-align: right;\n",
              "    }\n",
              "</style>\n",
              "<table border=\"1\" class=\"dataframe\">\n",
              "  <thead>\n",
              "    <tr style=\"text-align: right;\">\n",
              "      <th></th>\n",
              "      <th>AUTHOR</th>\n",
              "      <th>TITLE</th>\n",
              "      <th>Reviewer source/name</th>\n",
              "      <th>Editorial Blurbs</th>\n",
              "      <th>Editorial Blurbs Positive Sentiment Score</th>\n",
              "      <th>Editorial Blurbs Negative Sentiment Score</th>\n",
              "      <th>Editorial Blurbs Neutral Sentiment Score</th>\n",
              "      <th>Editorial Blurbs Compound Sentiment Score</th>\n",
              "    </tr>\n",
              "  </thead>\n",
              "  <tbody>\n",
              "    <tr>\n",
              "      <th>1</th>\n",
              "      <td>Layla Abu Zayd</td>\n",
              "      <td>Year of the Elephant</td>\n",
              "      <td>World Literature Today</td>\n",
              "      <td>At a time when there is growing interest in th...</td>\n",
              "      <td>0.159</td>\n",
              "      <td>0.132</td>\n",
              "      <td>0.709</td>\n",
              "      <td>-0.0516</td>\n",
              "    </tr>\n",
              "    <tr>\n",
              "      <th>2</th>\n",
              "      <td>Layla Abu Zayd</td>\n",
              "      <td>Year of the Elephant</td>\n",
              "      <td>Ahmed Abd al-Salam al-Bakkah, Moroccan author ...</td>\n",
              "      <td>Leila Abouzeid has created a new style, a mosa...</td>\n",
              "      <td>0.091</td>\n",
              "      <td>0.000</td>\n",
              "      <td>0.909</td>\n",
              "      <td>0.2500</td>\n",
              "    </tr>\n",
              "    <tr>\n",
              "      <th>3</th>\n",
              "      <td>Layla Abu Zayd</td>\n",
              "      <td>Last Chapter (Modern Arabic Writing)</td>\n",
              "      <td></td>\n",
              "      <td>... a fascinating glimpse into a world mostly ...</td>\n",
              "      <td>0.280</td>\n",
              "      <td>0.000</td>\n",
              "      <td>0.720</td>\n",
              "      <td>0.5423</td>\n",
              "    </tr>\n",
              "    <tr>\n",
              "      <th>4</th>\n",
              "      <td>Jokha Alharthi</td>\n",
              "      <td>Celestial Bodies</td>\n",
              "      <td>-Marcia Lynx Qualey, The National</td>\n",
              "      <td>A richly imagined, engaging and poetic insight...</td>\n",
              "      <td>0.311</td>\n",
              "      <td>0.000</td>\n",
              "      <td>0.689</td>\n",
              "      <td>0.9184</td>\n",
              "    </tr>\n",
              "    <tr>\n",
              "      <th>5</th>\n",
              "      <td>Jokha Alharthi</td>\n",
              "      <td>Celestial Bodies</td>\n",
              "      <td>-Women In Translation'</td>\n",
              "      <td>`Compelling...</td>\n",
              "      <td>0.000</td>\n",
              "      <td>0.000</td>\n",
              "      <td>1.000</td>\n",
              "      <td>0.0000</td>\n",
              "    </tr>\n",
              "  </tbody>\n",
              "</table>\n",
              "</div>"
            ],
            "text/plain": [
              "0          AUTHOR  ... Editorial Blurbs Compound Sentiment Score\n",
              "1  Layla Abu Zayd  ...                                   -0.0516\n",
              "2  Layla Abu Zayd  ...                                    0.2500\n",
              "3  Layla Abu Zayd  ...                                    0.5423\n",
              "4  Jokha Alharthi  ...                                    0.9184\n",
              "5  Jokha Alharthi  ...                                    0.0000\n",
              "\n",
              "[5 rows x 8 columns]"
            ]
          },
          "metadata": {
            "tags": []
          },
          "execution_count": 38
        }
      ]
    },
    {
      "cell_type": "code",
      "metadata": {
        "id": "6qon92oFC3YS",
        "colab_type": "code",
        "colab": {}
      },
      "source": [
        "publisher_review_sentiment_agg = publisher_review_sentiment.groupby(['TITLE']).mean().reset_index()\n",
        "df_pub_review_agg = df_pub_review.groupby(['TITLE']).mean().reset_index()"
      ],
      "execution_count": null,
      "outputs": []
    },
    {
      "cell_type": "code",
      "metadata": {
        "id": "uqr9H40thHN7",
        "colab_type": "code",
        "colab": {}
      },
      "source": [
        "publisher_review_sentiment_agg.to_excel (r'publisher_review_sentiment.xlsx', index = False, header=True)\n",
        "df_pub_review_agg.to_excel (r'df_pub_review.xlsx', index = False, header=True)"
      ],
      "execution_count": null,
      "outputs": []
    },
    {
      "cell_type": "code",
      "metadata": {
        "id": "hMlynk-LNUci",
        "colab_type": "code",
        "colab": {
          "base_uri": "https://localhost:8080/",
          "height": 255
        },
        "outputId": "42c43b80-cd82-48bf-8292-4c2d29ef48e9"
      },
      "source": [
        "df_pub_review_agg.head()"
      ],
      "execution_count": null,
      "outputs": [
        {
          "output_type": "execute_result",
          "data": {
            "text/html": [
              "<div>\n",
              "<style scoped>\n",
              "    .dataframe tbody tr th:only-of-type {\n",
              "        vertical-align: middle;\n",
              "    }\n",
              "\n",
              "    .dataframe tbody tr th {\n",
              "        vertical-align: top;\n",
              "    }\n",
              "\n",
              "    .dataframe thead th {\n",
              "        text-align: right;\n",
              "    }\n",
              "</style>\n",
              "<table border=\"1\" class=\"dataframe\">\n",
              "  <thead>\n",
              "    <tr style=\"text-align: right;\">\n",
              "      <th></th>\n",
              "      <th>TITLE</th>\n",
              "      <th>Editorial Blurbs Positive Sentiment Score</th>\n",
              "      <th>Editorial Blurbs Negative Sentiment Score</th>\n",
              "      <th>Editorial Blurbs Neutral Sentiment Score</th>\n",
              "      <th>Editorial Blurbs Compound Sentiment Score</th>\n",
              "    </tr>\n",
              "  </thead>\n",
              "  <tbody>\n",
              "    <tr>\n",
              "      <th>0</th>\n",
              "      <td>A Balcony Over the Fakihani: Three Novellas, 1993</td>\n",
              "      <td>0.108000</td>\n",
              "      <td>0.260000</td>\n",
              "      <td>0.632000</td>\n",
              "      <td>-0.62490</td>\n",
              "    </tr>\n",
              "    <tr>\n",
              "      <th>1</th>\n",
              "      <td>Absent (translated by Muhayman Jamil)</td>\n",
              "      <td>0.244000</td>\n",
              "      <td>0.135000</td>\n",
              "      <td>0.621000</td>\n",
              "      <td>0.04228</td>\n",
              "    </tr>\n",
              "    <tr>\n",
              "      <th>2</th>\n",
              "      <td>Algerian White: A Narrative</td>\n",
              "      <td>0.046333</td>\n",
              "      <td>0.163333</td>\n",
              "      <td>0.790333</td>\n",
              "      <td>-0.29680</td>\n",
              "    </tr>\n",
              "    <tr>\n",
              "      <th>3</th>\n",
              "      <td>American Granddaughter</td>\n",
              "      <td>0.153000</td>\n",
              "      <td>0.087000</td>\n",
              "      <td>0.760000</td>\n",
              "      <td>0.13810</td>\n",
              "    </tr>\n",
              "    <tr>\n",
              "      <th>4</th>\n",
              "      <td>Blue Lorries – 2015</td>\n",
              "      <td>0.110000</td>\n",
              "      <td>0.111000</td>\n",
              "      <td>0.778500</td>\n",
              "      <td>-0.00380</td>\n",
              "    </tr>\n",
              "  </tbody>\n",
              "</table>\n",
              "</div>"
            ],
            "text/plain": [
              "0                                              TITLE  ...  Editorial Blurbs Compound Sentiment Score\n",
              "0  A Balcony Over the Fakihani: Three Novellas, 1993  ...                                   -0.62490\n",
              "1              Absent (translated by Muhayman Jamil)  ...                                    0.04228\n",
              "2                        Algerian White: A Narrative  ...                                   -0.29680\n",
              "3                             American Granddaughter  ...                                    0.13810\n",
              "4                                Blue Lorries – 2015  ...                                   -0.00380\n",
              "\n",
              "[5 rows x 5 columns]"
            ]
          },
          "metadata": {
            "tags": []
          },
          "execution_count": 41
        }
      ]
    },
    {
      "cell_type": "code",
      "metadata": {
        "id": "9UiXHm_U1MRY",
        "colab_type": "code",
        "colab": {}
      },
      "source": [
        "#select the books\n",
        "array = ['The Blue Aubergine','Beirut - A Novel','Improvisations on a Missing String','Red Wine','Points of the Compass: Stories','Leaves of Narcissus',\\\n",
        "'The Inheritance','The Open Door','The Man from Bashmour','Daughter of Damascus','Year of the Elephant','Fantasia: An Algerian Cavalcade','Children of the New World']\n",
        "\n",
        "df_pub_sent_plot = publisher_review_sentiment_agg.loc[publisher_review_sentiment_agg['TITLE'].isin(array)]\n",
        "df_pub_agg_plot = df_pub_review_agg.loc[df_pub_review_agg['TITLE'].isin(array)]"
      ],
      "execution_count": null,
      "outputs": []
    },
    {
      "cell_type": "code",
      "metadata": {
        "id": "AaIQRovk05Ln",
        "colab_type": "code",
        "colab": {
          "base_uri": "https://localhost:8080/",
          "height": 620
        },
        "outputId": "b3eb7454-3e76-4ee3-c9bb-6a834f191825"
      },
      "source": [
        "#Plotting polarity\n",
        "\n",
        "x_axis = np.arange(len(df_pub_sent_plot['TITLE']))\n",
        "tick_locations = [value+0.4 for value in x_axis]\n",
        "fig,ax=plt.subplots(figsize=(10, 7))\n",
        "plt.xticks(tick_locations, df_pub_sent_plot['TITLE'], rotation=\"vertical\")\n",
        "\n",
        "plot=plt.bar(df_pub_sent_plot['TITLE'], df_pub_sent_plot[\"polarity\"], color=(df_pub_sent_plot['polarity'] > 0).map({True: 'g', False: 'r'}), alpha=1, align=\"edge\")\n",
        "plt.grid()\n",
        "\n",
        "#plt.title(\"Sentiment Analysis of Book Reviews \" )\n",
        "plt.title(\"Overall Sentiment Polarity based on Book Reviews\")\n",
        "plt.xlabel(\"Book\")\n",
        "plt.ylabel(\"Book Review Polarity\")\n",
        "ax.grid(linestyle=\"dotted\")\n"
      ],
      "execution_count": null,
      "outputs": [
        {
          "output_type": "display_data",
          "data": {
            "image/png": "[encoded data removed]",
            "text/plain": [
              "<Figure size 720x504 with 1 Axes>"
            ]
          },
          "metadata": {
            "tags": [],
            "needs_background": "light"
          }
        }
      ]
    },
    {
      "cell_type": "code",
      "metadata": {
        "id": "f7bIT8nH1xV-",
        "colab_type": "code",
        "colab": {
          "base_uri": "https://localhost:8080/",
          "height": 620
        },
        "outputId": "25e5a50d-6abc-4bc5-ac06-697f4d0cff87"
      },
      "source": [
        "#Plotting polarity\n",
        "\n",
        "x_axis = np.arange(len(df_pub_sent_plot['TITLE']))\n",
        "tick_locations = [value+0.4 for value in x_axis]\n",
        "fig,ax=plt.subplots(figsize=(10, 7))\n",
        "plt.xticks(tick_locations, df_pub_sent_plot['TITLE'], rotation=\"vertical\")\n",
        "\n",
        "plot=plt.bar(df_pub_sent_plot['TITLE'], df_pub_sent_plot[\"subjectivity\"], color=(df_pub_sent_plot['subjectivity'] > 0).map({True: 'g', False: 'r'}), alpha=1, align=\"edge\")\n",
        "plt.grid()\n",
        "\n",
        "#plt.title(\"Sentiment Analysis of Book Reviews \" )\n",
        "plt.title(\"Overall Sentiment Subjectivity based on Book Reviews\")\n",
        "plt.xlabel(\"Book\")\n",
        "plt.ylabel(\"Book Review Subjectivity\")\n",
        "ax.grid(linestyle=\"dotted\")\n"
      ],
      "execution_count": null,
      "outputs": [
        {
          "output_type": "display_data",
          "data": {
            "image/png": "[encoded data removed]",
            "text/plain": [
              "<Figure size 720x504 with 1 Axes>"
            ]
          },
          "metadata": {
            "tags": [],
            "needs_background": "light"
          }
        }
      ]
    },
    {
      "cell_type": "code",
      "metadata": {
        "id": "KCDeQyR32T3p",
        "colab_type": "code",
        "colab": {
          "base_uri": "https://localhost:8080/",
          "height": 620
        },
        "outputId": "6736a132-da7c-4830-d792-3161c5ee93a7"
      },
      "source": [
        "#Plotting compound sentiment\n",
        "\n",
        "x_axis = np.arange(len(df_pub_agg_plot['TITLE']))\n",
        "tick_locations = [value+0.4 for value in x_axis]\n",
        "fig,ax=plt.subplots(figsize=(10, 7))\n",
        "plt.xticks(tick_locations, df_pub_agg_plot['TITLE'], rotation=\"vertical\")\n",
        "\n",
        "plot=plt.bar(df_pub_agg_plot['TITLE'], df_pub_agg_plot[\"Editorial Blurbs Compound Sentiment Score\"], color=(df_pub_agg_plot['Editorial Blurbs Compound Sentiment Score'] > 0).map({True: 'g', False: 'r'}), alpha=1, align=\"edge\")\n",
        "plt.grid()\n",
        "\n",
        "#plt.title(\"Compound Sentiments of Book Reviews\" )\n",
        "plt.title(\"Compound Sentiments of Book Reviews\")\n",
        "plt.xlabel(\"Book\")\n",
        "plt.ylabel(\"Compound Book Review\")\n",
        "ax.grid(linestyle=\"dotted\")"
      ],
      "execution_count": null,
      "outputs": [
        {
          "output_type": "display_data",
          "data": {
            "image/png": "[encoded data removed]",
            "text/plain": [
              "<Figure size 720x504 with 1 Axes>"
            ]
          },
          "metadata": {
            "tags": [],
            "needs_background": "light"
          }
        }
      ]
    },
    {
      "cell_type": "code",
      "metadata": {
        "id": "mrIDgs7s3Bo1",
        "colab_type": "code",
        "colab": {
          "base_uri": "https://localhost:8080/",
          "height": 783
        },
        "outputId": "5c7f0d79-c5b2-4e42-bd90-8204f7f20b8c"
      },
      "source": [
        "# Setting the positions and width for the bars\n",
        "pos = list(range(len(df_pub_agg_plot['TITLE'])))\n",
        "width = 0.35\n",
        "\n",
        "# Plotting the bars\n",
        "fig, ax = plt.subplots(figsize=(15,10))\n",
        "\n",
        "# Create a bar with positive sentiment data\n",
        "plt.bar(pos, df_pub_agg_plot['Editorial Blurbs Negative Sentiment Score'], width, alpha=1, color='#ebab34')\n",
        "\n",
        "# Create a bar for negative\n",
        "plt.bar([p + width for p in pos], df_pub_agg_plot['Editorial Blurbs Positive Sentiment Score'], width, alpha=1, color='#140be6')\n",
        "\n",
        "# Set the y and x axis label\n",
        "ax.set_ylabel('Score')\n",
        "ax.set_xlabel(\"Book\")\n",
        "\n",
        "# Set the labels for the x ticks\n",
        "ax.set_xticklabels(df_pub_agg_plot['TITLE'])\n",
        "\n",
        "# Set the position of the x ticks\n",
        "tick_locations = [p + 1.5 * width for p in pos]\n",
        "plt.xticks(tick_locations, df_pub_agg_plot['TITLE'], rotation=\"vertical\")\n",
        "\n",
        "# Setting the x-axis and y-axis limits\n",
        "plt.xlim(min(pos)-width, max(pos)+width*4)\n",
        "plt.ylim([0, max(df_pub_agg_plot['Editorial Blurbs Negative Sentiment Score'] + df_pub_agg_plot['Editorial Blurbs Positive Sentiment Score'])] )\n",
        "\n",
        "\n",
        "# Adding the legend and showing the plot\n",
        "plt.legend(['Negative', 'Positive'], loc='upper left')\n",
        "\n",
        "ax.grid(linestyle=\"dotted\")\n",
        "plt.title(\"Overall Positive and Negative Sentiments of Book Reviews\")\n",
        "plt.show()"
      ],
      "execution_count": null,
      "outputs": [
        {
          "output_type": "display_data",
          "data": {
            "image/png": "[encoded data removed]",
            "text/plain": [
              "<Figure size 1080x720 with 1 Axes>"
            ]
          },
          "metadata": {
            "tags": [],
            "needs_background": "light"
          }
        }
      ]
    },
    {
      "cell_type": "markdown",
      "metadata": {
        "id": "xiMihv4_GAeI",
        "colab_type": "text"
      },
      "source": [
        "#### **NRC Emotion** "
      ]
    },
    {
      "cell_type": "code",
      "metadata": {
        "id": "HZHQH63UIP5N",
        "colab_type": "code",
        "colab": {}
      },
      "source": [
        "publisher_emotion = publisher_review[['TITLE','Editorial Blurbs']]\n",
        "reviewer_emotion = df_review[['Book','Review']]"
      ],
      "execution_count": null,
      "outputs": []
    },
    {
      "cell_type": "code",
      "metadata": {
        "id": "Kf9E4ZYGMKsF",
        "colab_type": "code",
        "colab": {}
      },
      "source": [
        "def get_nrc_data():\n",
        "    nrc = \"/content/NRC-emotion-lexicon-wordlevel-alphabetized-v0.92.txt\"\n",
        "    count=0\n",
        "    emotion_dict=dict()\n",
        "    with open(nrc,'r') as f:\n",
        "        all_lines = list()\n",
        "        for line in f:\n",
        "            if count < 46:\n",
        "                count+=1\n",
        "                continue\n",
        "            line = line.strip().split('\\t')\n",
        "            if int(line[2]) == 1:\n",
        "                if emotion_dict.get(line[0]):\n",
        "                    emotion_dict[line[0]].append(line[1])\n",
        "                else:\n",
        "                    emotion_dict[line[0]] = [line[1]]\n",
        "    return emotion_dict\n",
        "\n",
        "\n",
        "def emotion_analyzer(text,emotion_dict=get_nrc_data()):\n",
        "    #Set up the result dictionary\n",
        "    emotions = {x for y in emotion_dict.values() for x in y}\n",
        "    emotion_count = dict()\n",
        "    for emotion in emotions:\n",
        "        emotion_count[emotion] = 0\n",
        "\n",
        "    #Analyze the text and normalize by total number of words\n",
        "    total_words = len(text.split())\n",
        "    for word in text.split():\n",
        "        if emotion_dict.get(word):\n",
        "            for emotion in emotion_dict.get(word):\n",
        "                emotion_count[emotion] += 1/len(text.split())\n",
        "    return emotion_count"
      ],
      "execution_count": null,
      "outputs": []
    },
    {
      "cell_type": "code",
      "metadata": {
        "id": "DqlBclsvWOlt",
        "colab_type": "code",
        "colab": {}
      },
      "source": [
        "publisher_emotion[['sadness','surprise','positive','joy','negative','anticipation','disgust','fear','anger','trust']] = \\\n",
        "publisher_emotion['Editorial Blurbs'].apply(lambda Text: pd.Series(emotion_analyzer(Text)))"
      ],
      "execution_count": null,
      "outputs": []
    },
    {
      "cell_type": "code",
      "metadata": {
        "id": "Zw_KEG9JGGQm",
        "colab_type": "code",
        "colab": {}
      },
      "source": [
        "reviewer_emotion[['sadness','surprise','positive','joy','negative','anticipation','disgust','fear','anger','trust']] = \\\n",
        "reviewer_emotion['Review'].apply(lambda Text: pd.Series(emotion_analyzer(Text)))\n",
        "\n",
        "reviewer_emotion['Book']=reviewer_emotion['Book'].apply(remove_numbers)"
      ],
      "execution_count": null,
      "outputs": []
    },
    {
      "cell_type": "code",
      "metadata": {
        "id": "huH8DNUTWkqD",
        "colab_type": "code",
        "colab": {
          "base_uri": "https://localhost:8080/",
          "height": 306
        },
        "outputId": "4d6d035b-cf1f-4799-e267-2b62b77ee2a5"
      },
      "source": [
        "publisher_emotion.head()"
      ],
      "execution_count": null,
      "outputs": [
        {
          "output_type": "execute_result",
          "data": {
            "text/html": [
              "<div>\n",
              "<style scoped>\n",
              "    .dataframe tbody tr th:only-of-type {\n",
              "        vertical-align: middle;\n",
              "    }\n",
              "\n",
              "    .dataframe tbody tr th {\n",
              "        vertical-align: top;\n",
              "    }\n",
              "\n",
              "    .dataframe thead th {\n",
              "        text-align: right;\n",
              "    }\n",
              "</style>\n",
              "<table border=\"1\" class=\"dataframe\">\n",
              "  <thead>\n",
              "    <tr style=\"text-align: right;\">\n",
              "      <th></th>\n",
              "      <th>TITLE</th>\n",
              "      <th>Editorial Blurbs</th>\n",
              "      <th>sadness</th>\n",
              "      <th>surprise</th>\n",
              "      <th>positive</th>\n",
              "      <th>joy</th>\n",
              "      <th>negative</th>\n",
              "      <th>anticipation</th>\n",
              "      <th>disgust</th>\n",
              "      <th>fear</th>\n",
              "      <th>anger</th>\n",
              "      <th>trust</th>\n",
              "    </tr>\n",
              "  </thead>\n",
              "  <tbody>\n",
              "    <tr>\n",
              "      <th>1</th>\n",
              "      <td>Year of the Elephant</td>\n",
              "      <td>At a time when there is growing interest in th...</td>\n",
              "      <td>0.040000</td>\n",
              "      <td>0.000000</td>\n",
              "      <td>0.000000</td>\n",
              "      <td>0.0</td>\n",
              "      <td>0.0</td>\n",
              "      <td>0.000000</td>\n",
              "      <td>0.000000</td>\n",
              "      <td>0.000000</td>\n",
              "      <td>0.0</td>\n",
              "      <td>0.040000</td>\n",
              "    </tr>\n",
              "    <tr>\n",
              "      <th>2</th>\n",
              "      <td>Year of the Elephant</td>\n",
              "      <td>Leila Abouzeid has created a new style, a mosa...</td>\n",
              "      <td>0.000000</td>\n",
              "      <td>0.000000</td>\n",
              "      <td>0.000000</td>\n",
              "      <td>0.0</td>\n",
              "      <td>0.0</td>\n",
              "      <td>0.000000</td>\n",
              "      <td>0.000000</td>\n",
              "      <td>0.000000</td>\n",
              "      <td>0.0</td>\n",
              "      <td>0.000000</td>\n",
              "    </tr>\n",
              "    <tr>\n",
              "      <th>3</th>\n",
              "      <td>Last Chapter (Modern Arabic Writing)</td>\n",
              "      <td>... a fascinating glimpse into a world mostly ...</td>\n",
              "      <td>0.083333</td>\n",
              "      <td>0.000000</td>\n",
              "      <td>0.000000</td>\n",
              "      <td>0.0</td>\n",
              "      <td>0.0</td>\n",
              "      <td>0.083333</td>\n",
              "      <td>0.083333</td>\n",
              "      <td>0.000000</td>\n",
              "      <td>0.0</td>\n",
              "      <td>0.083333</td>\n",
              "    </tr>\n",
              "    <tr>\n",
              "      <th>4</th>\n",
              "      <td>Celestial Bodies</td>\n",
              "      <td>A richly imagined, engaging and poetic insight...</td>\n",
              "      <td>0.026316</td>\n",
              "      <td>0.026316</td>\n",
              "      <td>0.026316</td>\n",
              "      <td>0.0</td>\n",
              "      <td>0.0</td>\n",
              "      <td>0.026316</td>\n",
              "      <td>0.000000</td>\n",
              "      <td>0.026316</td>\n",
              "      <td>0.0</td>\n",
              "      <td>0.026316</td>\n",
              "    </tr>\n",
              "    <tr>\n",
              "      <th>5</th>\n",
              "      <td>Celestial Bodies</td>\n",
              "      <td>`Compelling...</td>\n",
              "      <td>0.000000</td>\n",
              "      <td>0.000000</td>\n",
              "      <td>0.000000</td>\n",
              "      <td>0.0</td>\n",
              "      <td>0.0</td>\n",
              "      <td>0.000000</td>\n",
              "      <td>0.000000</td>\n",
              "      <td>0.000000</td>\n",
              "      <td>0.0</td>\n",
              "      <td>0.000000</td>\n",
              "    </tr>\n",
              "  </tbody>\n",
              "</table>\n",
              "</div>"
            ],
            "text/plain": [
              "0                                 TITLE  ...     trust\n",
              "1                  Year of the Elephant  ...  0.040000\n",
              "2                  Year of the Elephant  ...  0.000000\n",
              "3  Last Chapter (Modern Arabic Writing)  ...  0.083333\n",
              "4                      Celestial Bodies  ...  0.026316\n",
              "5                      Celestial Bodies  ...  0.000000\n",
              "\n",
              "[5 rows x 12 columns]"
            ]
          },
          "metadata": {
            "tags": []
          },
          "execution_count": 51
        }
      ]
    },
    {
      "cell_type": "code",
      "metadata": {
        "id": "vqvnTbR3Fmt9",
        "colab_type": "code",
        "colab": {
          "base_uri": "https://localhost:8080/",
          "height": 323
        },
        "outputId": "611b714c-11ac-4a6a-e31e-d003bbfd4b86"
      },
      "source": [
        "reviewer_emotion.head()"
      ],
      "execution_count": null,
      "outputs": [
        {
          "output_type": "execute_result",
          "data": {
            "text/html": [
              "<div>\n",
              "<style scoped>\n",
              "    .dataframe tbody tr th:only-of-type {\n",
              "        vertical-align: middle;\n",
              "    }\n",
              "\n",
              "    .dataframe tbody tr th {\n",
              "        vertical-align: top;\n",
              "    }\n",
              "\n",
              "    .dataframe thead th {\n",
              "        text-align: right;\n",
              "    }\n",
              "</style>\n",
              "<table border=\"1\" class=\"dataframe\">\n",
              "  <thead>\n",
              "    <tr style=\"text-align: right;\">\n",
              "      <th></th>\n",
              "      <th>Book</th>\n",
              "      <th>Review</th>\n",
              "      <th>sadness</th>\n",
              "      <th>surprise</th>\n",
              "      <th>positive</th>\n",
              "      <th>joy</th>\n",
              "      <th>negative</th>\n",
              "      <th>anticipation</th>\n",
              "      <th>disgust</th>\n",
              "      <th>fear</th>\n",
              "      <th>anger</th>\n",
              "      <th>trust</th>\n",
              "    </tr>\n",
              "  </thead>\n",
              "  <tbody>\n",
              "    <tr>\n",
              "      <th>0</th>\n",
              "      <td>Year of the Elephant</td>\n",
              "      <td>The independence of Abouzeid's subtitle is bot...</td>\n",
              "      <td>0.030471</td>\n",
              "      <td>0.058172</td>\n",
              "      <td>0.016620</td>\n",
              "      <td>0.008310</td>\n",
              "      <td>0.024931</td>\n",
              "      <td>0.016620</td>\n",
              "      <td>0.030471</td>\n",
              "      <td>0.033241</td>\n",
              "      <td>0.019391</td>\n",
              "      <td>0.041551</td>\n",
              "    </tr>\n",
              "    <tr>\n",
              "      <th>2</th>\n",
              "      <td>Year of the Elephant</td>\n",
              "      <td>It shows the conflicting visions of colonial i...</td>\n",
              "      <td>0.000000</td>\n",
              "      <td>0.000000</td>\n",
              "      <td>0.012821</td>\n",
              "      <td>0.000000</td>\n",
              "      <td>0.025641</td>\n",
              "      <td>0.025641</td>\n",
              "      <td>0.038462</td>\n",
              "      <td>0.000000</td>\n",
              "      <td>0.012821</td>\n",
              "      <td>0.038462</td>\n",
              "    </tr>\n",
              "    <tr>\n",
              "      <th>5</th>\n",
              "      <td>Year of the Elephant</td>\n",
              "      <td>Leila Abouzeid's novella, ‘Ām al-fīl / Year of...</td>\n",
              "      <td>0.020057</td>\n",
              "      <td>0.054441</td>\n",
              "      <td>0.008596</td>\n",
              "      <td>0.017192</td>\n",
              "      <td>0.020057</td>\n",
              "      <td>0.022923</td>\n",
              "      <td>0.037249</td>\n",
              "      <td>0.017192</td>\n",
              "      <td>0.020057</td>\n",
              "      <td>0.042980</td>\n",
              "    </tr>\n",
              "    <tr>\n",
              "      <th>6</th>\n",
              "      <td>Year of the Elephant</td>\n",
              "      <td>Maybe this would have had more of an impact on...</td>\n",
              "      <td>0.025974</td>\n",
              "      <td>0.043290</td>\n",
              "      <td>0.025974</td>\n",
              "      <td>0.000000</td>\n",
              "      <td>0.000000</td>\n",
              "      <td>0.004329</td>\n",
              "      <td>0.004329</td>\n",
              "      <td>0.038961</td>\n",
              "      <td>0.000000</td>\n",
              "      <td>0.047619</td>\n",
              "    </tr>\n",
              "    <tr>\n",
              "      <th>7</th>\n",
              "      <td>Year of the Elephant</td>\n",
              "      <td>I used this course in an introductory anthropo...</td>\n",
              "      <td>0.035294</td>\n",
              "      <td>0.023529</td>\n",
              "      <td>0.000000</td>\n",
              "      <td>0.000000</td>\n",
              "      <td>0.000000</td>\n",
              "      <td>0.011765</td>\n",
              "      <td>0.000000</td>\n",
              "      <td>0.023529</td>\n",
              "      <td>0.000000</td>\n",
              "      <td>0.023529</td>\n",
              "    </tr>\n",
              "  </tbody>\n",
              "</table>\n",
              "</div>"
            ],
            "text/plain": [
              "                    Book  ...     trust\n",
              "0  Year of the Elephant   ...  0.041551\n",
              "2  Year of the Elephant   ...  0.038462\n",
              "5  Year of the Elephant   ...  0.042980\n",
              "6  Year of the Elephant   ...  0.047619\n",
              "7  Year of the Elephant   ...  0.023529\n",
              "\n",
              "[5 rows x 12 columns]"
            ]
          },
          "metadata": {
            "tags": []
          },
          "execution_count": 52
        }
      ]
    },
    {
      "cell_type": "code",
      "metadata": {
        "id": "T-l2AhF-a9j2",
        "colab_type": "code",
        "colab": {}
      },
      "source": [
        "df_agg_emtn = publisher_emotion.groupby(['TITLE']).mean().reset_index()"
      ],
      "execution_count": null,
      "outputs": []
    },
    {
      "cell_type": "code",
      "metadata": {
        "id": "7xBAKd37cfZ8",
        "colab_type": "code",
        "colab": {
          "base_uri": "https://localhost:8080/",
          "height": 221
        },
        "outputId": "90623a67-a866-46c6-cbc1-4c677fc4de02"
      },
      "source": [
        "df_agg_emtn.head() #publisher reviews"
      ],
      "execution_count": null,
      "outputs": [
        {
          "output_type": "execute_result",
          "data": {
            "text/html": [
              "<div>\n",
              "<style scoped>\n",
              "    .dataframe tbody tr th:only-of-type {\n",
              "        vertical-align: middle;\n",
              "    }\n",
              "\n",
              "    .dataframe tbody tr th {\n",
              "        vertical-align: top;\n",
              "    }\n",
              "\n",
              "    .dataframe thead th {\n",
              "        text-align: right;\n",
              "    }\n",
              "</style>\n",
              "<table border=\"1\" class=\"dataframe\">\n",
              "  <thead>\n",
              "    <tr style=\"text-align: right;\">\n",
              "      <th></th>\n",
              "      <th>TITLE</th>\n",
              "      <th>sadness</th>\n",
              "      <th>surprise</th>\n",
              "      <th>positive</th>\n",
              "      <th>joy</th>\n",
              "      <th>negative</th>\n",
              "      <th>anticipation</th>\n",
              "      <th>disgust</th>\n",
              "      <th>fear</th>\n",
              "      <th>anger</th>\n",
              "      <th>trust</th>\n",
              "    </tr>\n",
              "  </thead>\n",
              "  <tbody>\n",
              "    <tr>\n",
              "      <th>0</th>\n",
              "      <td>A Balcony Over the Fakihani: Three Novellas, 1993</td>\n",
              "      <td>0.000000</td>\n",
              "      <td>0.000000</td>\n",
              "      <td>0.000000</td>\n",
              "      <td>0.050000</td>\n",
              "      <td>0.050000</td>\n",
              "      <td>0.10000</td>\n",
              "      <td>0.100000</td>\n",
              "      <td>0.000000</td>\n",
              "      <td>0.000000</td>\n",
              "      <td>0.000000</td>\n",
              "    </tr>\n",
              "    <tr>\n",
              "      <th>1</th>\n",
              "      <td>Absent (translated by Muhayman Jamil)</td>\n",
              "      <td>0.003774</td>\n",
              "      <td>0.023821</td>\n",
              "      <td>0.007547</td>\n",
              "      <td>0.000000</td>\n",
              "      <td>0.012500</td>\n",
              "      <td>0.01250</td>\n",
              "      <td>0.012500</td>\n",
              "      <td>0.007547</td>\n",
              "      <td>0.012500</td>\n",
              "      <td>0.049146</td>\n",
              "    </tr>\n",
              "    <tr>\n",
              "      <th>2</th>\n",
              "      <td>Algerian White: A Narrative</td>\n",
              "      <td>0.084214</td>\n",
              "      <td>0.053559</td>\n",
              "      <td>0.000000</td>\n",
              "      <td>0.000000</td>\n",
              "      <td>0.090909</td>\n",
              "      <td>0.00000</td>\n",
              "      <td>0.053206</td>\n",
              "      <td>0.053559</td>\n",
              "      <td>0.038055</td>\n",
              "      <td>0.061311</td>\n",
              "    </tr>\n",
              "    <tr>\n",
              "      <th>3</th>\n",
              "      <td>American Granddaughter</td>\n",
              "      <td>0.000000</td>\n",
              "      <td>0.000000</td>\n",
              "      <td>0.011905</td>\n",
              "      <td>0.011905</td>\n",
              "      <td>0.023810</td>\n",
              "      <td>0.02381</td>\n",
              "      <td>0.023810</td>\n",
              "      <td>0.011905</td>\n",
              "      <td>0.000000</td>\n",
              "      <td>0.023810</td>\n",
              "    </tr>\n",
              "    <tr>\n",
              "      <th>4</th>\n",
              "      <td>Blue Lorries – 2015</td>\n",
              "      <td>0.000000</td>\n",
              "      <td>0.000000</td>\n",
              "      <td>0.000000</td>\n",
              "      <td>0.050000</td>\n",
              "      <td>0.050000</td>\n",
              "      <td>0.05000</td>\n",
              "      <td>0.050000</td>\n",
              "      <td>0.000000</td>\n",
              "      <td>0.050000</td>\n",
              "      <td>0.000000</td>\n",
              "    </tr>\n",
              "  </tbody>\n",
              "</table>\n",
              "</div>"
            ],
            "text/plain": [
              "0                                              TITLE  ...     trust\n",
              "0  A Balcony Over the Fakihani: Three Novellas, 1993  ...  0.000000\n",
              "1              Absent (translated by Muhayman Jamil)  ...  0.049146\n",
              "2                        Algerian White: A Narrative  ...  0.061311\n",
              "3                             American Granddaughter  ...  0.023810\n",
              "4                                Blue Lorries – 2015  ...  0.000000\n",
              "\n",
              "[5 rows x 11 columns]"
            ]
          },
          "metadata": {
            "tags": []
          },
          "execution_count": 54
        }
      ]
    },
    {
      "cell_type": "code",
      "metadata": {
        "id": "zFnZEA7avkju",
        "colab_type": "code",
        "colab": {}
      },
      "source": [
        "df_review_emtn_agg = reviewer_emotion.groupby(['Book']).mean().reset_index()"
      ],
      "execution_count": null,
      "outputs": []
    },
    {
      "cell_type": "code",
      "metadata": {
        "id": "ChOTDZKBEUIN",
        "colab_type": "code",
        "colab": {
          "base_uri": "https://localhost:8080/",
          "height": 204
        },
        "outputId": "f0fb4969-0755-41ee-f7f5-c45e9569d78b"
      },
      "source": [
        "df_review_emtn_agg.head() #user reviews"
      ],
      "execution_count": null,
      "outputs": [
        {
          "output_type": "execute_result",
          "data": {
            "text/html": [
              "<div>\n",
              "<style scoped>\n",
              "    .dataframe tbody tr th:only-of-type {\n",
              "        vertical-align: middle;\n",
              "    }\n",
              "\n",
              "    .dataframe tbody tr th {\n",
              "        vertical-align: top;\n",
              "    }\n",
              "\n",
              "    .dataframe thead th {\n",
              "        text-align: right;\n",
              "    }\n",
              "</style>\n",
              "<table border=\"1\" class=\"dataframe\">\n",
              "  <thead>\n",
              "    <tr style=\"text-align: right;\">\n",
              "      <th></th>\n",
              "      <th>Book</th>\n",
              "      <th>sadness</th>\n",
              "      <th>surprise</th>\n",
              "      <th>positive</th>\n",
              "      <th>joy</th>\n",
              "      <th>negative</th>\n",
              "      <th>anticipation</th>\n",
              "      <th>disgust</th>\n",
              "      <th>fear</th>\n",
              "      <th>anger</th>\n",
              "      <th>trust</th>\n",
              "    </tr>\n",
              "  </thead>\n",
              "  <tbody>\n",
              "    <tr>\n",
              "      <th>0</th>\n",
              "      <td>A Balcony Over The Fakihani</td>\n",
              "      <td>0.010874</td>\n",
              "      <td>0.017247</td>\n",
              "      <td>0.004426</td>\n",
              "      <td>0.008733</td>\n",
              "      <td>0.023948</td>\n",
              "      <td>0.032600</td>\n",
              "      <td>0.038879</td>\n",
              "      <td>0.021312</td>\n",
              "      <td>0.022286</td>\n",
              "      <td>0.035013</td>\n",
              "    </tr>\n",
              "    <tr>\n",
              "      <th>1</th>\n",
              "      <td>A Sister to Scheherazade</td>\n",
              "      <td>0.015402</td>\n",
              "      <td>0.013375</td>\n",
              "      <td>0.006707</td>\n",
              "      <td>0.009169</td>\n",
              "      <td>0.011481</td>\n",
              "      <td>0.014336</td>\n",
              "      <td>0.018649</td>\n",
              "      <td>0.015512</td>\n",
              "      <td>0.010067</td>\n",
              "      <td>0.036209</td>\n",
              "    </tr>\n",
              "    <tr>\n",
              "      <th>2</th>\n",
              "      <td>A Sky So Close</td>\n",
              "      <td>0.005764</td>\n",
              "      <td>0.014409</td>\n",
              "      <td>0.000000</td>\n",
              "      <td>0.005764</td>\n",
              "      <td>0.008646</td>\n",
              "      <td>0.005764</td>\n",
              "      <td>0.008646</td>\n",
              "      <td>0.008646</td>\n",
              "      <td>0.000000</td>\n",
              "      <td>0.020173</td>\n",
              "    </tr>\n",
              "    <tr>\n",
              "      <th>3</th>\n",
              "      <td>A compass for the sunflower</td>\n",
              "      <td>0.000000</td>\n",
              "      <td>0.000000</td>\n",
              "      <td>0.000000</td>\n",
              "      <td>0.000000</td>\n",
              "      <td>0.000000</td>\n",
              "      <td>0.000000</td>\n",
              "      <td>0.000000</td>\n",
              "      <td>0.000000</td>\n",
              "      <td>0.000000</td>\n",
              "      <td>0.000000</td>\n",
              "    </tr>\n",
              "    <tr>\n",
              "      <th>4</th>\n",
              "      <td>Absent</td>\n",
              "      <td>0.019713</td>\n",
              "      <td>0.014996</td>\n",
              "      <td>0.008643</td>\n",
              "      <td>0.007759</td>\n",
              "      <td>0.012134</td>\n",
              "      <td>0.013146</td>\n",
              "      <td>0.017055</td>\n",
              "      <td>0.011653</td>\n",
              "      <td>0.007887</td>\n",
              "      <td>0.039666</td>\n",
              "    </tr>\n",
              "  </tbody>\n",
              "</table>\n",
              "</div>"
            ],
            "text/plain": [
              "                           Book   sadness  ...     anger     trust\n",
              "0  A Balcony Over The Fakihani   0.010874  ...  0.022286  0.035013\n",
              "1     A Sister to Scheherazade   0.015402  ...  0.010067  0.036209\n",
              "2               A Sky So Close   0.005764  ...  0.000000  0.020173\n",
              "3   A compass for the sunflower  0.000000  ...  0.000000  0.000000\n",
              "4                       Absent   0.019713  ...  0.007887  0.039666\n",
              "\n",
              "[5 rows x 11 columns]"
            ]
          },
          "metadata": {
            "tags": []
          },
          "execution_count": 56
        }
      ]
    },
    {
      "cell_type": "markdown",
      "metadata": {
        "id": "Vy1d_EkoG-Q9",
        "colab_type": "text"
      },
      "source": [
        "\n",
        "\n",
        "#### **Plotting the NRC Emotions**"
      ]
    },
    {
      "cell_type": "markdown",
      "metadata": {
        "id": "0eXYsfZT5yoa",
        "colab_type": "text"
      },
      "source": [
        "Reviewer Emotion Analysis"
      ]
    },
    {
      "cell_type": "code",
      "metadata": {
        "id": "visFDgL16Vk5",
        "colab_type": "code",
        "colab": {}
      },
      "source": [
        "#select the books\n",
        "array = ['The Blue Aubergine ','Beirut - A Novel','Improvisations on a Missing String','Red Wine ','Points of the Compass: Stories','Leaves of Narcissus',\\\n",
        "'The Inheritance ','The Open Door ','The Man from Bashmour','Daughter of Damascus ','Year of the Elephant ','Fantasia: An Algerian Cavalcade ','Children of the New World']\n",
        "\n",
        "df_revier_emtn_plt = df_review_emtn_agg.loc[df_review_emtn_agg['Book'].isin(array)]"
      ],
      "execution_count": null,
      "outputs": []
    },
    {
      "cell_type": "code",
      "metadata": {
        "id": "V-JM0ubIHMIT",
        "colab_type": "code",
        "colab": {}
      },
      "source": [
        "Df_reviewr = df_revier_emtn_plt[(df_revier_emtn_plt['sadness']>0)|(df_revier_emtn_plt['surprise']>0)|(df_revier_emtn_plt['positive']>0)|(df_revier_emtn_plt['joy']>0)|\\\n",
        "                 (df_revier_emtn_plt['negative']>0)|(df_revier_emtn_plt['anticipation']>0)|(df_revier_emtn_plt['disgust']>0)|(df_revier_emtn_plt['fear']>0)| \\\n",
        "                  (df_revier_emtn_plt['anger']>0)|(df_revier_emtn_plt['trust']>0)]"
      ],
      "execution_count": null,
      "outputs": []
    },
    {
      "cell_type": "code",
      "metadata": {
        "id": "lC3RqRuuuJRG",
        "colab_type": "code",
        "colab": {}
      },
      "source": [
        "Df_reviewr = Df_reviewr[['Book','sadness','surprise','joy','anticipation','disgust','fear','anger','trust']]"
      ],
      "execution_count": null,
      "outputs": []
    },
    {
      "cell_type": "code",
      "metadata": {
        "id": "ji1mKR1RL9MW",
        "colab_type": "code",
        "colab": {}
      },
      "source": [
        "df_reviewer_heat = Df_reviewr.melt(id_vars=[\"Book\"], \n",
        "         var_name=\"Emotions\", \n",
        "         value_name=\"Emtn_Val\")"
      ],
      "execution_count": null,
      "outputs": []
    },
    {
      "cell_type": "code",
      "metadata": {
        "id": "7ClaKiEPFLvt",
        "colab_type": "code",
        "colab": {
          "base_uri": "https://localhost:8080/",
          "height": 542
        },
        "outputId": "f41ccf23-4536-46ec-cc9c-1da3db492403"
      },
      "source": [
        "fig = px.treemap(df_reviewer_heat, path=['Book', 'Emotions'], values='Emtn_Val',\n",
        "                  hover_data=['Emtn_Val'],\n",
        "                  color_continuous_scale='day')\n",
        "\n",
        "fig.update_layout(treemapcolorway = [\"#46B005\", \"#112AA9\", \"#7611A9\", \"#A91197\", \"#A9114B\", \"#B00505\", \"#A8B005\",\"#15CDE6\"])\n",
        "fig.update_layout(\n",
        "    margin = {'t':0, 'l':0, 'r':0, 'b':0}\n",
        ")\n",
        "fig.update_layout(uniformtext=dict(minsize=10, mode='hide'))\n",
        "fig.show()\n"
      ],
      "execution_count": null,
      "outputs": [
        {
          "output_type": "display_data",
          "data": {
            "text/html": [
              "<html>\n",
              "<head><meta charset=\"utf-8\" /></head>\n",
              "<body>\n",
              "    <div>            <script src=\"https://cdnjs.cloudflare.com/ajax/libs/mathjax/2.7.5/MathJax.js?config=TeX-AMS-MML_SVG\"></script><script type=\"text/javascript\">if (window.MathJax) {MathJax.Hub.Config({SVG: {font: \"STIX-Web\"}});}</script>                <script type=\"text/javascript\">window.PlotlyConfig = {MathJaxConfig: 'local'};</script>\n",
              "        <script src=\"https://cdn.plot.ly/plotly-latest.min.js\"></script>                <div id=\"f9bd20d7-79d9-4479-8a6b-a3172415c77d\" class=\"plotly-graph-div\" style=\"height:525px; width:100%;\"></div>            <script type=\"text/javascript\">                                    window.PLOTLYENV=window.PLOTLYENV || {};                                    if (document.getElementById(\"f9bd20d7-79d9-4479-8a6b-a3172415c77d\")) {                    Plotly.newPlot(                        \"f9bd20d7-79d9-4479-8a6b-a3172415c77d\",                        [{\"branchvalues\": \"total\", \"customdata\": [[0.013133640552995382], [0.0017099605200291699], [0.014599689813496353], [0.0042674253200568986], [0.0030019291034020425], [0.010255816256784043], [0.009947038716117436], [0.0109703389463186], [0.02258064516129034], [0.005804645392746079], [0.013686626623856588], [0.0042674253200568986], [0.004894001880251339], [0.01100899382347353], [0.012490495704534744], [0.010298902482815644], [0.03156682027649775], [0.02064033737109299], [0.02121511453821051], [0.017621553068604433], [0.008463958197753058], [0.01647474237425034], [0.011981817975233853], [0.02289536370342339], [0.01336405529953916], [0.012958818450809295], [0.012294774033361409], [0.0], [0.005915216147250804], [0.013645116434211107], [0.021297190179996015], [0.026773824104565636], [0.007142857142857148], [0.0], [0.005357336844121808], [0.009086702428490634], [0.002228155325632473], [0.00745785103022324], [0.0050987821866196265], [0.0028664011579083186], [0.02142857142857144], [0.015129305645713203], [0.01233186095844379], [0.0], [0.006756993852293266], [0.010128032652885885], [0.028178444729764943], [0.029214528417894927], [0.02281105990783412], [0.019438227676213938], [0.020429535919901223], [0.008534850640113797], [0.008804922299187128], [0.0167724652584937], [0.019424067951255015], [0.039154000071350975], [0.04331797235023035], [0.025523929414089593], [0.03653864471119563], [0.013354127748547533], [0.016805004405467765], [0.0328553823046721], [0.04148490591802023], [0.07017991741439915], [0.1753456221198157], [0.10120522447069427], [0.13645358344258732], [0.057132084525870194], [0.05687018121123788], [0.11859840013499395], [0.14990274336154186], [0.21235327629867667]], \"domain\": {\"x\": [0.0, 1.0], \"y\": [0.0, 1.0]}, \"hovertemplate\": \"labels=%{label}<br>Emtn_Val=%{customdata[0]}<br>parent=%{parent}<br>id=%{id}<extra></extra>\", \"ids\": [\"Children of the New World/anger\", \"Daughter of Damascus /anger\", \"Fantasia: An Algerian Cavalcade /anger\", \"Red Wine /anger\", \"The Blue Aubergine /anger\", \"The Inheritance /anger\", \"The Open Door /anger\", \"Year of the Elephant /anger\", \"Children of the New World/anticipation\", \"Daughter of Damascus /anticipation\", \"Fantasia: An Algerian Cavalcade /anticipation\", \"Red Wine /anticipation\", \"The Blue Aubergine /anticipation\", \"The Inheritance /anticipation\", \"The Open Door /anticipation\", \"Year of the Elephant /anticipation\", \"Children of the New World/disgust\", \"Daughter of Damascus /disgust\", \"Fantasia: An Algerian Cavalcade /disgust\", \"Red Wine /disgust\", \"The Blue Aubergine /disgust\", \"The Inheritance /disgust\", \"The Open Door /disgust\", \"Year of the Elephant /disgust\", \"Children of the New World/fear\", \"Daughter of Damascus /fear\", \"Fantasia: An Algerian Cavalcade /fear\", \"Red Wine /fear\", \"The Blue Aubergine /fear\", \"The Inheritance /fear\", \"The Open Door /fear\", \"Year of the Elephant /fear\", \"Children of the New World/joy\", \"Daughter of Damascus /joy\", \"Fantasia: An Algerian Cavalcade /joy\", \"Red Wine /joy\", \"The Blue Aubergine /joy\", \"The Inheritance /joy\", \"The Open Door /joy\", \"Year of the Elephant /joy\", \"Children of the New World/sadness\", \"Daughter of Damascus /sadness\", \"Fantasia: An Algerian Cavalcade /sadness\", \"Red Wine /sadness\", \"The Blue Aubergine /sadness\", \"The Inheritance /sadness\", \"The Open Door /sadness\", \"Year of the Elephant /sadness\", \"Children of the New World/surprise\", \"Daughter of Damascus /surprise\", \"Fantasia: An Algerian Cavalcade /surprise\", \"Red Wine /surprise\", \"The Blue Aubergine /surprise\", \"The Inheritance /surprise\", \"The Open Door /surprise\", \"Year of the Elephant /surprise\", \"Children of the New World/trust\", \"Daughter of Damascus /trust\", \"Fantasia: An Algerian Cavalcade /trust\", \"Red Wine /trust\", \"The Blue Aubergine /trust\", \"The Inheritance /trust\", \"The Open Door /trust\", \"Year of the Elephant /trust\", \"Children of the New World\", \"Daughter of Damascus \", \"Fantasia: An Algerian Cavalcade \", \"Red Wine \", \"The Blue Aubergine \", \"The Inheritance \", \"The Open Door \", \"Year of the Elephant \"], \"labels\": [\"anger\", \"anger\", \"anger\", \"anger\", \"anger\", \"anger\", \"anger\", \"anger\", \"anticipation\", \"anticipation\", \"anticipation\", \"anticipation\", \"anticipation\", \"anticipation\", \"anticipation\", \"anticipation\", \"disgust\", \"disgust\", \"disgust\", \"disgust\", \"disgust\", \"disgust\", \"disgust\", \"disgust\", \"fear\", \"fear\", \"fear\", \"fear\", \"fear\", \"fear\", \"fear\", \"fear\", \"joy\", \"joy\", \"joy\", \"joy\", \"joy\", \"joy\", \"joy\", \"joy\", \"sadness\", \"sadness\", \"sadness\", \"sadness\", \"sadness\", \"sadness\", \"sadness\", \"sadness\", \"surprise\", \"surprise\", \"surprise\", \"surprise\", \"surprise\", \"surprise\", \"surprise\", \"surprise\", \"trust\", \"trust\", \"trust\", \"trust\", \"trust\", \"trust\", \"trust\", \"trust\", \"Children of the New World\", \"Daughter of Damascus \", \"Fantasia: An Algerian Cavalcade \", \"Red Wine \", \"The Blue Aubergine \", \"The Inheritance \", \"The Open Door \", \"Year of the Elephant \"], \"name\": \"\", \"parents\": [\"Children of the New World\", \"Daughter of Damascus \", \"Fantasia: An Algerian Cavalcade \", \"Red Wine \", \"The Blue Aubergine \", \"The Inheritance \", \"The Open Door \", \"Year of the Elephant \", \"Children of the New World\", \"Daughter of Damascus \", \"Fantasia: An Algerian Cavalcade \", \"Red Wine \", \"The Blue Aubergine \", \"The Inheritance \", \"The Open Door \", \"Year of the Elephant \", \"Children of the New World\", \"Daughter of Damascus \", \"Fantasia: An Algerian Cavalcade \", \"Red Wine \", \"The Blue Aubergine \", \"The Inheritance \", \"The Open Door \", \"Year of the Elephant \", \"Children of the New World\", \"Daughter of Damascus \", \"Fantasia: An Algerian Cavalcade \", \"Red Wine \", \"The Blue Aubergine \", \"The Inheritance \", \"The Open Door \", \"Year of the Elephant \", \"Children of the New World\", \"Daughter of Damascus \", \"Fantasia: An Algerian Cavalcade \", \"Red Wine \", \"The Blue Aubergine \", \"The Inheritance \", \"The Open Door \", \"Year of the Elephant \", \"Children of the New World\", \"Daughter of Damascus \", \"Fantasia: An Algerian Cavalcade \", \"Red Wine \", \"The Blue Aubergine \", \"The Inheritance \", \"The Open Door \", \"Year of the Elephant \", \"Children of the New World\", \"Daughter of Damascus \", \"Fantasia: An Algerian Cavalcade \", \"Red Wine \", \"The Blue Aubergine \", \"The Inheritance \", \"The Open Door \", \"Year of the Elephant \", \"Children of the New World\", \"Daughter of Damascus \", \"Fantasia: An Algerian Cavalcade \", \"Red Wine \", \"The Blue Aubergine \", \"The Inheritance \", \"The Open Door \", \"Year of the Elephant \", \"\", \"\", \"\", \"\", \"\", \"\", \"\", \"\"], \"type\": \"treemap\", \"values\": [0.013133640552995382, 0.0017099605200291699, 0.014599689813496353, 0.0042674253200568986, 0.0030019291034020425, 0.010255816256784043, 0.009947038716117436, 0.0109703389463186, 0.02258064516129034, 0.005804645392746079, 0.013686626623856588, 0.0042674253200568986, 0.004894001880251339, 0.01100899382347353, 0.012490495704534744, 0.010298902482815644, 0.03156682027649775, 0.02064033737109299, 0.02121511453821051, 0.017621553068604433, 0.008463958197753058, 0.01647474237425034, 0.011981817975233853, 0.02289536370342339, 0.01336405529953916, 0.012958818450809295, 0.012294774033361409, 0.0, 0.005915216147250804, 0.013645116434211107, 0.021297190179996015, 0.026773824104565636, 0.007142857142857148, 0.0, 0.005357336844121808, 0.009086702428490634, 0.002228155325632473, 0.00745785103022324, 0.0050987821866196265, 0.0028664011579083186, 0.02142857142857144, 0.015129305645713203, 0.01233186095844379, 0.0, 0.006756993852293266, 0.010128032652885885, 0.028178444729764943, 0.029214528417894927, 0.02281105990783412, 0.019438227676213938, 0.020429535919901223, 0.008534850640113797, 0.008804922299187128, 0.0167724652584937, 0.019424067951255015, 0.039154000071350975, 0.04331797235023035, 0.025523929414089593, 0.03653864471119563, 0.013354127748547533, 0.016805004405467765, 0.0328553823046721, 0.04148490591802023, 0.07017991741439915, 0.1753456221198157, 0.10120522447069427, 0.13645358344258732, 0.057132084525870194, 0.05687018121123788, 0.11859840013499395, 0.14990274336154186, 0.21235327629867667]}],                        {\"legend\": {\"tracegroupgap\": 0}, \"margin\": {\"b\": 0, \"l\": 0, \"r\": 0, \"t\": 0}, \"template\": {\"data\": {\"bar\": [{\"error_x\": {\"color\": \"#2a3f5f\"}, \"error_y\": {\"color\": \"#2a3f5f\"}, \"marker\": {\"line\": {\"color\": \"#E5ECF6\", \"width\": 0.5}}, \"type\": \"bar\"}], \"barpolar\": [{\"marker\": {\"line\": {\"color\": \"#E5ECF6\", \"width\": 0.5}}, \"type\": \"barpolar\"}], \"carpet\": [{\"aaxis\": {\"endlinecolor\": \"#2a3f5f\", \"gridcolor\": \"white\", \"linecolor\": \"white\", \"minorgridcolor\": \"white\", \"startlinecolor\": \"#2a3f5f\"}, \"baxis\": {\"endlinecolor\": \"#2a3f5f\", \"gridcolor\": \"white\", \"linecolor\": \"white\", \"minorgridcolor\": \"white\", \"startlinecolor\": \"#2a3f5f\"}, \"type\": \"carpet\"}], \"choropleth\": [{\"colorbar\": {\"outlinewidth\": 0, \"ticks\": \"\"}, \"type\": \"choropleth\"}], \"contour\": [{\"colorbar\": {\"outlinewidth\": 0, \"ticks\": \"\"}, \"colorscale\": [[0.0, \"#0d0887\"], [0.1111111111111111, \"#46039f\"], [0.2222222222222222, \"#7201a8\"], [0.3333333333333333, \"#9c179e\"], [0.4444444444444444, \"#bd3786\"], [0.5555555555555556, \"#d8576b\"], [0.6666666666666666, \"#ed7953\"], [0.7777777777777778, \"#fb9f3a\"], [0.8888888888888888, \"#fdca26\"], [1.0, \"#f0f921\"]], \"type\": \"contour\"}], \"contourcarpet\": [{\"colorbar\": {\"outlinewidth\": 0, \"ticks\": \"\"}, \"type\": \"contourcarpet\"}], \"heatmap\": [{\"colorbar\": {\"outlinewidth\": 0, \"ticks\": \"\"}, \"colorscale\": [[0.0, \"#0d0887\"], [0.1111111111111111, \"#46039f\"], [0.2222222222222222, \"#7201a8\"], [0.3333333333333333, \"#9c179e\"], [0.4444444444444444, \"#bd3786\"], [0.5555555555555556, \"#d8576b\"], [0.6666666666666666, \"#ed7953\"], [0.7777777777777778, \"#fb9f3a\"], [0.8888888888888888, \"#fdca26\"], [1.0, \"#f0f921\"]], \"type\": \"heatmap\"}], \"heatmapgl\": [{\"colorbar\": {\"outlinewidth\": 0, \"ticks\": \"\"}, \"colorscale\": [[0.0, \"#0d0887\"], [0.1111111111111111, \"#46039f\"], [0.2222222222222222, \"#7201a8\"], [0.3333333333333333, \"#9c179e\"], [0.4444444444444444, \"#bd3786\"], [0.5555555555555556, \"#d8576b\"], [0.6666666666666666, \"#ed7953\"], [0.7777777777777778, \"#fb9f3a\"], [0.8888888888888888, \"#fdca26\"], [1.0, \"#f0f921\"]], \"type\": \"heatmapgl\"}], \"histogram\": [{\"marker\": {\"colorbar\": {\"outlinewidth\": 0, \"ticks\": \"\"}}, \"type\": \"histogram\"}], \"histogram2d\": [{\"colorbar\": {\"outlinewidth\": 0, \"ticks\": \"\"}, \"colorscale\": [[0.0, \"#0d0887\"], [0.1111111111111111, \"#46039f\"], [0.2222222222222222, \"#7201a8\"], [0.3333333333333333, \"#9c179e\"], [0.4444444444444444, \"#bd3786\"], [0.5555555555555556, \"#d8576b\"], [0.6666666666666666, \"#ed7953\"], [0.7777777777777778, \"#fb9f3a\"], [0.8888888888888888, \"#fdca26\"], [1.0, \"#f0f921\"]], \"type\": \"histogram2d\"}], \"histogram2dcontour\": [{\"colorbar\": {\"outlinewidth\": 0, \"ticks\": \"\"}, \"colorscale\": [[0.0, \"#0d0887\"], [0.1111111111111111, \"#46039f\"], [0.2222222222222222, \"#7201a8\"], [0.3333333333333333, \"#9c179e\"], [0.4444444444444444, \"#bd3786\"], [0.5555555555555556, \"#d8576b\"], [0.6666666666666666, \"#ed7953\"], [0.7777777777777778, \"#fb9f3a\"], [0.8888888888888888, \"#fdca26\"], [1.0, \"#f0f921\"]], \"type\": \"histogram2dcontour\"}], \"mesh3d\": [{\"colorbar\": {\"outlinewidth\": 0, \"ticks\": \"\"}, \"type\": \"mesh3d\"}], \"parcoords\": [{\"line\": {\"colorbar\": {\"outlinewidth\": 0, \"ticks\": \"\"}}, \"type\": \"parcoords\"}], \"pie\": [{\"automargin\": true, \"type\": \"pie\"}], \"scatter\": [{\"marker\": {\"colorbar\": {\"outlinewidth\": 0, \"ticks\": \"\"}}, \"type\": \"scatter\"}], \"scatter3d\": [{\"line\": {\"colorbar\": {\"outlinewidth\": 0, \"ticks\": \"\"}}, \"marker\": {\"colorbar\": {\"outlinewidth\": 0, \"ticks\": \"\"}}, \"type\": \"scatter3d\"}], \"scattercarpet\": [{\"marker\": {\"colorbar\": {\"outlinewidth\": 0, \"ticks\": \"\"}}, \"type\": \"scattercarpet\"}], \"scattergeo\": [{\"marker\": {\"colorbar\": {\"outlinewidth\": 0, \"ticks\": \"\"}}, \"type\": \"scattergeo\"}], \"scattergl\": [{\"marker\": {\"colorbar\": {\"outlinewidth\": 0, \"ticks\": \"\"}}, \"type\": \"scattergl\"}], \"scattermapbox\": [{\"marker\": {\"colorbar\": {\"outlinewidth\": 0, \"ticks\": \"\"}}, \"type\": \"scattermapbox\"}], \"scatterpolar\": [{\"marker\": {\"colorbar\": {\"outlinewidth\": 0, \"ticks\": \"\"}}, \"type\": \"scatterpolar\"}], \"scatterpolargl\": [{\"marker\": {\"colorbar\": {\"outlinewidth\": 0, \"ticks\": \"\"}}, \"type\": \"scatterpolargl\"}], \"scatterternary\": [{\"marker\": {\"colorbar\": {\"outlinewidth\": 0, \"ticks\": \"\"}}, \"type\": \"scatterternary\"}], \"surface\": [{\"colorbar\": {\"outlinewidth\": 0, \"ticks\": \"\"}, \"colorscale\": [[0.0, \"#0d0887\"], [0.1111111111111111, \"#46039f\"], [0.2222222222222222, \"#7201a8\"], [0.3333333333333333, \"#9c179e\"], [0.4444444444444444, \"#bd3786\"], [0.5555555555555556, \"#d8576b\"], [0.6666666666666666, \"#ed7953\"], [0.7777777777777778, \"#fb9f3a\"], [0.8888888888888888, \"#fdca26\"], [1.0, \"#f0f921\"]], \"type\": \"surface\"}], \"table\": [{\"cells\": {\"fill\": {\"color\": \"#EBF0F8\"}, \"line\": {\"color\": \"white\"}}, \"header\": {\"fill\": {\"color\": \"#C8D4E3\"}, \"line\": {\"color\": \"white\"}}, \"type\": \"table\"}]}, \"layout\": {\"annotationdefaults\": {\"arrowcolor\": \"#2a3f5f\", \"arrowhead\": 0, \"arrowwidth\": 1}, \"coloraxis\": {\"colorbar\": {\"outlinewidth\": 0, \"ticks\": \"\"}}, \"colorscale\": {\"diverging\": [[0, \"#8e0152\"], [0.1, \"#c51b7d\"], [0.2, \"#de77ae\"], [0.3, \"#f1b6da\"], [0.4, \"#fde0ef\"], [0.5, \"#f7f7f7\"], [0.6, \"#e6f5d0\"], [0.7, \"#b8e186\"], [0.8, \"#7fbc41\"], [0.9, \"#4d9221\"], [1, \"#276419\"]], \"sequential\": [[0.0, \"#0d0887\"], [0.1111111111111111, \"#46039f\"], [0.2222222222222222, \"#7201a8\"], [0.3333333333333333, \"#9c179e\"], [0.4444444444444444, \"#bd3786\"], [0.5555555555555556, \"#d8576b\"], [0.6666666666666666, \"#ed7953\"], [0.7777777777777778, \"#fb9f3a\"], [0.8888888888888888, \"#fdca26\"], [1.0, \"#f0f921\"]], \"sequentialminus\": [[0.0, \"#0d0887\"], [0.1111111111111111, \"#46039f\"], [0.2222222222222222, \"#7201a8\"], [0.3333333333333333, \"#9c179e\"], [0.4444444444444444, \"#bd3786\"], [0.5555555555555556, \"#d8576b\"], [0.6666666666666666, \"#ed7953\"], [0.7777777777777778, \"#fb9f3a\"], [0.8888888888888888, \"#fdca26\"], [1.0, \"#f0f921\"]]}, \"colorway\": [\"#636efa\", \"#EF553B\", \"#00cc96\", \"#ab63fa\", \"#FFA15A\", \"#19d3f3\", \"#FF6692\", \"#B6E880\", \"#FF97FF\", \"#FECB52\"], \"font\": {\"color\": \"#2a3f5f\"}, \"geo\": {\"bgcolor\": \"white\", \"lakecolor\": \"white\", \"landcolor\": \"#E5ECF6\", \"showlakes\": true, \"showland\": true, \"subunitcolor\": \"white\"}, \"hoverlabel\": {\"align\": \"left\"}, \"hovermode\": \"closest\", \"mapbox\": {\"style\": \"light\"}, \"paper_bgcolor\": \"white\", \"plot_bgcolor\": \"#E5ECF6\", \"polar\": {\"angularaxis\": {\"gridcolor\": \"white\", \"linecolor\": \"white\", \"ticks\": \"\"}, \"bgcolor\": \"#E5ECF6\", \"radialaxis\": {\"gridcolor\": \"white\", \"linecolor\": \"white\", \"ticks\": \"\"}}, \"scene\": {\"xaxis\": {\"backgroundcolor\": \"#E5ECF6\", \"gridcolor\": \"white\", \"gridwidth\": 2, \"linecolor\": \"white\", \"showbackground\": true, \"ticks\": \"\", \"zerolinecolor\": \"white\"}, \"yaxis\": {\"backgroundcolor\": \"#E5ECF6\", \"gridcolor\": \"white\", \"gridwidth\": 2, \"linecolor\": \"white\", \"showbackground\": true, \"ticks\": \"\", \"zerolinecolor\": \"white\"}, \"zaxis\": {\"backgroundcolor\": \"#E5ECF6\", \"gridcolor\": \"white\", \"gridwidth\": 2, \"linecolor\": \"white\", \"showbackground\": true, \"ticks\": \"\", \"zerolinecolor\": \"white\"}}, \"shapedefaults\": {\"line\": {\"color\": \"#2a3f5f\"}}, \"ternary\": {\"aaxis\": {\"gridcolor\": \"white\", \"linecolor\": \"white\", \"ticks\": \"\"}, \"baxis\": {\"gridcolor\": \"white\", \"linecolor\": \"white\", \"ticks\": \"\"}, \"bgcolor\": \"#E5ECF6\", \"caxis\": {\"gridcolor\": \"white\", \"linecolor\": \"white\", \"ticks\": \"\"}}, \"title\": {\"x\": 0.05}, \"xaxis\": {\"automargin\": true, \"gridcolor\": \"white\", \"linecolor\": \"white\", \"ticks\": \"\", \"title\": {\"standoff\": 15}, \"zerolinecolor\": \"white\", \"zerolinewidth\": 2}, \"yaxis\": {\"automargin\": true, \"gridcolor\": \"white\", \"linecolor\": \"white\", \"ticks\": \"\", \"title\": {\"standoff\": 15}, \"zerolinecolor\": \"white\", \"zerolinewidth\": 2}}}, \"treemapcolorway\": [\"#46B005\", \"#112AA9\", \"#7611A9\", \"#A91197\", \"#A9114B\", \"#B00505\", \"#A8B005\", \"#15CDE6\"], \"uniformtext\": {\"minsize\": 10, \"mode\": \"hide\"}},                        {\"responsive\": true}                    ).then(function(){\n",
              "                            \n",
              "var gd = document.getElementById('f9bd20d7-79d9-4479-8a6b-a3172415c77d');\n",
              "var x = new MutationObserver(function (mutations, observer) {{\n",
              "        var display = window.getComputedStyle(gd).display;\n",
              "        if (!display || display === 'none') {{\n",
              "            console.log([gd, 'removed!']);\n",
              "            Plotly.purge(gd);\n",
              "            observer.disconnect();\n",
              "        }}\n",
              "}});\n",
              "\n",
              "// Listen for the removal of the full notebook cells\n",
              "var notebookContainer = gd.closest('#notebook-container');\n",
              "if (notebookContainer) {{\n",
              "    x.observe(notebookContainer, {childList: true});\n",
              "}}\n",
              "\n",
              "// Listen for the clearing of the current output cell\n",
              "var outputEl = gd.closest('.output');\n",
              "if (outputEl) {{\n",
              "    x.observe(outputEl, {childList: true});\n",
              "}}\n",
              "\n",
              "                        })                };                            </script>        </div>\n",
              "</body>\n",
              "</html>"
            ]
          },
          "metadata": {
            "tags": []
          }
        }
      ]
    },
    {
      "cell_type": "markdown",
      "metadata": {
        "id": "UmGZpT_d55Lq",
        "colab_type": "text"
      },
      "source": [
        "Publisher Emotion Analysis"
      ]
    },
    {
      "cell_type": "code",
      "metadata": {
        "id": "jX5N9nIT56Yx",
        "colab_type": "code",
        "colab": {}
      },
      "source": [
        " #select the books\n",
        "array = ['The Blue Aubergine','Beirut - A Novel','Improvisations on a Missing String','Red Wine','Points of the Compass: Stories','Leaves of Narcissus',\\\n",
        "'The Inheritance','The Open Door','The Man from Bashmour','Daughter of Damascus','Year of the Elephant','Fantasia: An Algerian Cavalcade','Children of the New World']\n",
        "\n",
        "df_publisher_emtn_plt = df_agg_emtn.loc[df_agg_emtn['TITLE'].isin(array)]"
      ],
      "execution_count": null,
      "outputs": []
    },
    {
      "cell_type": "code",
      "metadata": {
        "id": "ie7FwV1EK2G2",
        "colab_type": "code",
        "colab": {}
      },
      "source": [
        "Df_publisher = df_publisher_emtn_plt[(df_publisher_emtn_plt['sadness']>0)|(df_publisher_emtn_plt['surprise']>0)|(df_publisher_emtn_plt['positive']>0)|(df_publisher_emtn_plt['joy']>0)|\\\n",
        "                 (df_publisher_emtn_plt['negative']>0)|(df_publisher_emtn_plt['anticipation']>0)|(df_publisher_emtn_plt['disgust']>0)|(df_publisher_emtn_plt['fear']>0)| \\\n",
        "                  (df_publisher_emtn_plt['anger']>0)|(df_publisher_emtn_plt['trust']>0)]"
      ],
      "execution_count": null,
      "outputs": []
    },
    {
      "cell_type": "code",
      "metadata": {
        "id": "rzhmKpSP6ndk",
        "colab_type": "code",
        "colab": {}
      },
      "source": [
        "Df_publisher = Df_publisher[['TITLE','sadness','surprise','joy','anticipation','disgust','fear','anger','trust']]"
      ],
      "execution_count": null,
      "outputs": []
    },
    {
      "cell_type": "code",
      "metadata": {
        "id": "4IEdv77v6rko",
        "colab_type": "code",
        "colab": {}
      },
      "source": [
        "df_publisher_heat = Df_publisher.melt(id_vars=[\"TITLE\"], \n",
        "         var_name=\"Emotions\", \n",
        "         value_name=\"Emtn_Val\")"
      ],
      "execution_count": null,
      "outputs": []
    },
    {
      "cell_type": "code",
      "metadata": {
        "id": "3L1zNDVC6uEG",
        "colab_type": "code",
        "colab": {
          "base_uri": "https://localhost:8080/",
          "height": 542
        },
        "outputId": "305e18ac-623c-47c0-9952-3849270a2ec5"
      },
      "source": [
        "fig = px.treemap(df_publisher_heat, path=['TITLE', 'Emotions'], values='Emtn_Val',\n",
        "                  hover_data=['Emtn_Val'],\n",
        "                  color_continuous_scale='day')\n",
        "\n",
        "fig.update_layout(treemapcolorway = [\"#46B005\", \"#112AA9\", \"#7611A9\", \"#A91197\", \"#A9114B\", \"#B00505\", \"#A8B005\",\"#15CDE6\"])\n",
        "fig.update_layout(\n",
        "    margin = {'t':0, 'l':0, 'r':0, 'b':0}\n",
        ")\n",
        "fig.update_layout(uniformtext=dict(minsize=10, mode='hide'))\n",
        "fig.show()\n"
      ],
      "execution_count": null,
      "outputs": [
        {
          "output_type": "display_data",
          "data": {
            "text/html": [
              "<html>\n",
              "<head><meta charset=\"utf-8\" /></head>\n",
              "<body>\n",
              "    <div>            <script src=\"https://cdnjs.cloudflare.com/ajax/libs/mathjax/2.7.5/MathJax.js?config=TeX-AMS-MML_SVG\"></script><script type=\"text/javascript\">if (window.MathJax) {MathJax.Hub.Config({SVG: {font: \"STIX-Web\"}});}</script>                <script type=\"text/javascript\">window.PlotlyConfig = {MathJaxConfig: 'local'};</script>\n",
              "        <script src=\"https://cdn.plot.ly/plotly-latest.min.js\"></script>                <div id=\"47c4198a-6b04-4cf4-93ef-5d521748c42a\" class=\"plotly-graph-div\" style=\"height:525px; width:100%;\"></div>            <script type=\"text/javascript\">                                    window.PLOTLYENV=window.PLOTLYENV || {};                                    if (document.getElementById(\"47c4198a-6b04-4cf4-93ef-5d521748c42a\")) {                    Plotly.newPlot(                        \"47c4198a-6b04-4cf4-93ef-5d521748c42a\",                        [{\"branchvalues\": \"total\", \"customdata\": [[0.02080221890334969], [0.0], [0.0], [0.0], [0.0], [0.0], [0.023095796885001067], [0.0], [0.0], [0.0], [0.0], [0.0], [0.03917872451849409], [0.0], [0.0], [0.015873015873015872], [0.0], [0.0], [0.01256255212677231], [0.0], [0.0], [0.013888888888888888], [0.0], [0.0], [0.011627906976744186], [0.0], [0.0], [0.0], [0.0], [0.0], [0.02067008359679578], [0.0], [0.0], [0.013888888888888888], [0.0], [0.02], [0.024015308455971374], [0.05263157894736842], [0.0], [0.013888888888888888], [0.030381383322559796], [0.0], [0.04074225395381373], [0.15789473684210525], [0.07692307692307693], [0.04365079365079364], [0.008403361344537815], [0.02], [0.19269484541694223], [0.21052631578947367], [0.07692307692307693], [0.10119047619047618], [0.03878474466709761], [0.04]], \"domain\": {\"x\": [0.0, 1.0], \"y\": [0.0, 1.0]}, \"hovertemplate\": \"labels=%{label}<br>Emtn_Val=%{customdata[0]}<br>parent=%{parent}<br>id=%{id}<extra></extra>\", \"ids\": [\"Children of the New World/anger\", \"Improvisations on a Missing String/anger\", \"Red Wine/anger\", \"The Blue Aubergine/anger\", \"The Open Door/anger\", \"Year of the Elephant/anger\", \"Children of the New World/anticipation\", \"Improvisations on a Missing String/anticipation\", \"Red Wine/anticipation\", \"The Blue Aubergine/anticipation\", \"The Open Door/anticipation\", \"Year of the Elephant/anticipation\", \"Children of the New World/disgust\", \"Improvisations on a Missing String/disgust\", \"Red Wine/disgust\", \"The Blue Aubergine/disgust\", \"The Open Door/disgust\", \"Year of the Elephant/disgust\", \"Children of the New World/fear\", \"Improvisations on a Missing String/fear\", \"Red Wine/fear\", \"The Blue Aubergine/fear\", \"The Open Door/fear\", \"Year of the Elephant/fear\", \"Children of the New World/joy\", \"Improvisations on a Missing String/joy\", \"Red Wine/joy\", \"The Blue Aubergine/joy\", \"The Open Door/joy\", \"Year of the Elephant/joy\", \"Children of the New World/sadness\", \"Improvisations on a Missing String/sadness\", \"Red Wine/sadness\", \"The Blue Aubergine/sadness\", \"The Open Door/sadness\", \"Year of the Elephant/sadness\", \"Children of the New World/surprise\", \"Improvisations on a Missing String/surprise\", \"Red Wine/surprise\", \"The Blue Aubergine/surprise\", \"The Open Door/surprise\", \"Year of the Elephant/surprise\", \"Children of the New World/trust\", \"Improvisations on a Missing String/trust\", \"Red Wine/trust\", \"The Blue Aubergine/trust\", \"The Open Door/trust\", \"Year of the Elephant/trust\", \"Children of the New World\", \"Improvisations on a Missing String\", \"Red Wine\", \"The Blue Aubergine\", \"The Open Door\", \"Year of the Elephant\"], \"labels\": [\"anger\", \"anger\", \"anger\", \"anger\", \"anger\", \"anger\", \"anticipation\", \"anticipation\", \"anticipation\", \"anticipation\", \"anticipation\", \"anticipation\", \"disgust\", \"disgust\", \"disgust\", \"disgust\", \"disgust\", \"disgust\", \"fear\", \"fear\", \"fear\", \"fear\", \"fear\", \"fear\", \"joy\", \"joy\", \"joy\", \"joy\", \"joy\", \"joy\", \"sadness\", \"sadness\", \"sadness\", \"sadness\", \"sadness\", \"sadness\", \"surprise\", \"surprise\", \"surprise\", \"surprise\", \"surprise\", \"surprise\", \"trust\", \"trust\", \"trust\", \"trust\", \"trust\", \"trust\", \"Children of the New World\", \"Improvisations on a Missing String\", \"Red Wine\", \"The Blue Aubergine\", \"The Open Door\", \"Year of the Elephant\"], \"name\": \"\", \"parents\": [\"Children of the New World\", \"Improvisations on a Missing String\", \"Red Wine\", \"The Blue Aubergine\", \"The Open Door\", \"Year of the Elephant\", \"Children of the New World\", \"Improvisations on a Missing String\", \"Red Wine\", \"The Blue Aubergine\", \"The Open Door\", \"Year of the Elephant\", \"Children of the New World\", \"Improvisations on a Missing String\", \"Red Wine\", \"The Blue Aubergine\", \"The Open Door\", \"Year of the Elephant\", \"Children of the New World\", \"Improvisations on a Missing String\", \"Red Wine\", \"The Blue Aubergine\", \"The Open Door\", \"Year of the Elephant\", \"Children of the New World\", \"Improvisations on a Missing String\", \"Red Wine\", \"The Blue Aubergine\", \"The Open Door\", \"Year of the Elephant\", \"Children of the New World\", \"Improvisations on a Missing String\", \"Red Wine\", \"The Blue Aubergine\", \"The Open Door\", \"Year of the Elephant\", \"Children of the New World\", \"Improvisations on a Missing String\", \"Red Wine\", \"The Blue Aubergine\", \"The Open Door\", \"Year of the Elephant\", \"Children of the New World\", \"Improvisations on a Missing String\", \"Red Wine\", \"The Blue Aubergine\", \"The Open Door\", \"Year of the Elephant\", \"\", \"\", \"\", \"\", \"\", \"\"], \"type\": \"treemap\", \"values\": [0.02080221890334969, 0.0, 0.0, 0.0, 0.0, 0.0, 0.023095796885001067, 0.0, 0.0, 0.0, 0.0, 0.0, 0.03917872451849409, 0.0, 0.0, 0.015873015873015872, 0.0, 0.0, 0.01256255212677231, 0.0, 0.0, 0.013888888888888888, 0.0, 0.0, 0.011627906976744186, 0.0, 0.0, 0.0, 0.0, 0.0, 0.02067008359679578, 0.0, 0.0, 0.013888888888888888, 0.0, 0.02, 0.024015308455971374, 0.05263157894736842, 0.0, 0.013888888888888888, 0.030381383322559796, 0.0, 0.04074225395381373, 0.15789473684210525, 0.07692307692307693, 0.04365079365079364, 0.008403361344537815, 0.02, 0.19269484541694223, 0.21052631578947367, 0.07692307692307693, 0.10119047619047618, 0.03878474466709761, 0.04]}],                        {\"legend\": {\"tracegroupgap\": 0}, \"margin\": {\"b\": 0, \"l\": 0, \"r\": 0, \"t\": 0}, \"template\": {\"data\": {\"bar\": [{\"error_x\": {\"color\": \"#2a3f5f\"}, \"error_y\": {\"color\": \"#2a3f5f\"}, \"marker\": {\"line\": {\"color\": \"#E5ECF6\", \"width\": 0.5}}, \"type\": \"bar\"}], \"barpolar\": [{\"marker\": {\"line\": {\"color\": \"#E5ECF6\", \"width\": 0.5}}, \"type\": \"barpolar\"}], \"carpet\": [{\"aaxis\": {\"endlinecolor\": \"#2a3f5f\", \"gridcolor\": \"white\", \"linecolor\": \"white\", \"minorgridcolor\": \"white\", \"startlinecolor\": \"#2a3f5f\"}, \"baxis\": {\"endlinecolor\": \"#2a3f5f\", \"gridcolor\": \"white\", \"linecolor\": \"white\", \"minorgridcolor\": \"white\", \"startlinecolor\": \"#2a3f5f\"}, \"type\": \"carpet\"}], \"choropleth\": [{\"colorbar\": {\"outlinewidth\": 0, \"ticks\": \"\"}, \"type\": \"choropleth\"}], \"contour\": [{\"colorbar\": {\"outlinewidth\": 0, \"ticks\": \"\"}, \"colorscale\": [[0.0, \"#0d0887\"], [0.1111111111111111, \"#46039f\"], [0.2222222222222222, \"#7201a8\"], [0.3333333333333333, \"#9c179e\"], [0.4444444444444444, \"#bd3786\"], [0.5555555555555556, \"#d8576b\"], [0.6666666666666666, \"#ed7953\"], [0.7777777777777778, \"#fb9f3a\"], [0.8888888888888888, \"#fdca26\"], [1.0, \"#f0f921\"]], \"type\": \"contour\"}], \"contourcarpet\": [{\"colorbar\": {\"outlinewidth\": 0, \"ticks\": \"\"}, \"type\": \"contourcarpet\"}], \"heatmap\": [{\"colorbar\": {\"outlinewidth\": 0, \"ticks\": \"\"}, \"colorscale\": [[0.0, \"#0d0887\"], [0.1111111111111111, \"#46039f\"], [0.2222222222222222, \"#7201a8\"], [0.3333333333333333, \"#9c179e\"], [0.4444444444444444, \"#bd3786\"], [0.5555555555555556, \"#d8576b\"], [0.6666666666666666, \"#ed7953\"], [0.7777777777777778, \"#fb9f3a\"], [0.8888888888888888, \"#fdca26\"], [1.0, \"#f0f921\"]], \"type\": \"heatmap\"}], \"heatmapgl\": [{\"colorbar\": {\"outlinewidth\": 0, \"ticks\": \"\"}, \"colorscale\": [[0.0, \"#0d0887\"], [0.1111111111111111, \"#46039f\"], [0.2222222222222222, \"#7201a8\"], [0.3333333333333333, \"#9c179e\"], [0.4444444444444444, \"#bd3786\"], [0.5555555555555556, \"#d8576b\"], [0.6666666666666666, \"#ed7953\"], [0.7777777777777778, \"#fb9f3a\"], [0.8888888888888888, \"#fdca26\"], [1.0, \"#f0f921\"]], \"type\": \"heatmapgl\"}], \"histogram\": [{\"marker\": {\"colorbar\": {\"outlinewidth\": 0, \"ticks\": \"\"}}, \"type\": \"histogram\"}], \"histogram2d\": [{\"colorbar\": {\"outlinewidth\": 0, \"ticks\": \"\"}, \"colorscale\": [[0.0, \"#0d0887\"], [0.1111111111111111, \"#46039f\"], [0.2222222222222222, \"#7201a8\"], [0.3333333333333333, \"#9c179e\"], [0.4444444444444444, \"#bd3786\"], [0.5555555555555556, \"#d8576b\"], [0.6666666666666666, \"#ed7953\"], [0.7777777777777778, \"#fb9f3a\"], [0.8888888888888888, \"#fdca26\"], [1.0, \"#f0f921\"]], \"type\": \"histogram2d\"}], \"histogram2dcontour\": [{\"colorbar\": {\"outlinewidth\": 0, \"ticks\": \"\"}, \"colorscale\": [[0.0, \"#0d0887\"], [0.1111111111111111, \"#46039f\"], [0.2222222222222222, \"#7201a8\"], [0.3333333333333333, \"#9c179e\"], [0.4444444444444444, \"#bd3786\"], [0.5555555555555556, \"#d8576b\"], [0.6666666666666666, \"#ed7953\"], [0.7777777777777778, \"#fb9f3a\"], [0.8888888888888888, \"#fdca26\"], [1.0, \"#f0f921\"]], \"type\": \"histogram2dcontour\"}], \"mesh3d\": [{\"colorbar\": {\"outlinewidth\": 0, \"ticks\": \"\"}, \"type\": \"mesh3d\"}], \"parcoords\": [{\"line\": {\"colorbar\": {\"outlinewidth\": 0, \"ticks\": \"\"}}, \"type\": \"parcoords\"}], \"pie\": [{\"automargin\": true, \"type\": \"pie\"}], \"scatter\": [{\"marker\": {\"colorbar\": {\"outlinewidth\": 0, \"ticks\": \"\"}}, \"type\": \"scatter\"}], \"scatter3d\": [{\"line\": {\"colorbar\": {\"outlinewidth\": 0, \"ticks\": \"\"}}, \"marker\": {\"colorbar\": {\"outlinewidth\": 0, \"ticks\": \"\"}}, \"type\": \"scatter3d\"}], \"scattercarpet\": [{\"marker\": {\"colorbar\": {\"outlinewidth\": 0, \"ticks\": \"\"}}, \"type\": \"scattercarpet\"}], \"scattergeo\": [{\"marker\": {\"colorbar\": {\"outlinewidth\": 0, \"ticks\": \"\"}}, \"type\": \"scattergeo\"}], \"scattergl\": [{\"marker\": {\"colorbar\": {\"outlinewidth\": 0, \"ticks\": \"\"}}, \"type\": \"scattergl\"}], \"scattermapbox\": [{\"marker\": {\"colorbar\": {\"outlinewidth\": 0, \"ticks\": \"\"}}, \"type\": \"scattermapbox\"}], \"scatterpolar\": [{\"marker\": {\"colorbar\": {\"outlinewidth\": 0, \"ticks\": \"\"}}, \"type\": \"scatterpolar\"}], \"scatterpolargl\": [{\"marker\": {\"colorbar\": {\"outlinewidth\": 0, \"ticks\": \"\"}}, \"type\": \"scatterpolargl\"}], \"scatterternary\": [{\"marker\": {\"colorbar\": {\"outlinewidth\": 0, \"ticks\": \"\"}}, \"type\": \"scatterternary\"}], \"surface\": [{\"colorbar\": {\"outlinewidth\": 0, \"ticks\": \"\"}, \"colorscale\": [[0.0, \"#0d0887\"], [0.1111111111111111, \"#46039f\"], [0.2222222222222222, \"#7201a8\"], [0.3333333333333333, \"#9c179e\"], [0.4444444444444444, \"#bd3786\"], [0.5555555555555556, \"#d8576b\"], [0.6666666666666666, \"#ed7953\"], [0.7777777777777778, \"#fb9f3a\"], [0.8888888888888888, \"#fdca26\"], [1.0, \"#f0f921\"]], \"type\": \"surface\"}], \"table\": [{\"cells\": {\"fill\": {\"color\": \"#EBF0F8\"}, \"line\": {\"color\": \"white\"}}, \"header\": {\"fill\": {\"color\": \"#C8D4E3\"}, \"line\": {\"color\": \"white\"}}, \"type\": \"table\"}]}, \"layout\": {\"annotationdefaults\": {\"arrowcolor\": \"#2a3f5f\", \"arrowhead\": 0, \"arrowwidth\": 1}, \"coloraxis\": {\"colorbar\": {\"outlinewidth\": 0, \"ticks\": \"\"}}, \"colorscale\": {\"diverging\": [[0, \"#8e0152\"], [0.1, \"#c51b7d\"], [0.2, \"#de77ae\"], [0.3, \"#f1b6da\"], [0.4, \"#fde0ef\"], [0.5, \"#f7f7f7\"], [0.6, \"#e6f5d0\"], [0.7, \"#b8e186\"], [0.8, \"#7fbc41\"], [0.9, \"#4d9221\"], [1, \"#276419\"]], \"sequential\": [[0.0, \"#0d0887\"], [0.1111111111111111, \"#46039f\"], [0.2222222222222222, \"#7201a8\"], [0.3333333333333333, \"#9c179e\"], [0.4444444444444444, \"#bd3786\"], [0.5555555555555556, \"#d8576b\"], [0.6666666666666666, \"#ed7953\"], [0.7777777777777778, \"#fb9f3a\"], [0.8888888888888888, \"#fdca26\"], [1.0, \"#f0f921\"]], \"sequentialminus\": [[0.0, \"#0d0887\"], [0.1111111111111111, \"#46039f\"], [0.2222222222222222, \"#7201a8\"], [0.3333333333333333, \"#9c179e\"], [0.4444444444444444, \"#bd3786\"], [0.5555555555555556, \"#d8576b\"], [0.6666666666666666, \"#ed7953\"], [0.7777777777777778, \"#fb9f3a\"], [0.8888888888888888, \"#fdca26\"], [1.0, \"#f0f921\"]]}, \"colorway\": [\"#636efa\", \"#EF553B\", \"#00cc96\", \"#ab63fa\", \"#FFA15A\", \"#19d3f3\", \"#FF6692\", \"#B6E880\", \"#FF97FF\", \"#FECB52\"], \"font\": {\"color\": \"#2a3f5f\"}, \"geo\": {\"bgcolor\": \"white\", \"lakecolor\": \"white\", \"landcolor\": \"#E5ECF6\", \"showlakes\": true, \"showland\": true, \"subunitcolor\": \"white\"}, \"hoverlabel\": {\"align\": \"left\"}, \"hovermode\": \"closest\", \"mapbox\": {\"style\": \"light\"}, \"paper_bgcolor\": \"white\", \"plot_bgcolor\": \"#E5ECF6\", \"polar\": {\"angularaxis\": {\"gridcolor\": \"white\", \"linecolor\": \"white\", \"ticks\": \"\"}, \"bgcolor\": \"#E5ECF6\", \"radialaxis\": {\"gridcolor\": \"white\", \"linecolor\": \"white\", \"ticks\": \"\"}}, \"scene\": {\"xaxis\": {\"backgroundcolor\": \"#E5ECF6\", \"gridcolor\": \"white\", \"gridwidth\": 2, \"linecolor\": \"white\", \"showbackground\": true, \"ticks\": \"\", \"zerolinecolor\": \"white\"}, \"yaxis\": {\"backgroundcolor\": \"#E5ECF6\", \"gridcolor\": \"white\", \"gridwidth\": 2, \"linecolor\": \"white\", \"showbackground\": true, \"ticks\": \"\", \"zerolinecolor\": \"white\"}, \"zaxis\": {\"backgroundcolor\": \"#E5ECF6\", \"gridcolor\": \"white\", \"gridwidth\": 2, \"linecolor\": \"white\", \"showbackground\": true, \"ticks\": \"\", \"zerolinecolor\": \"white\"}}, \"shapedefaults\": {\"line\": {\"color\": \"#2a3f5f\"}}, \"ternary\": {\"aaxis\": {\"gridcolor\": \"white\", \"linecolor\": \"white\", \"ticks\": \"\"}, \"baxis\": {\"gridcolor\": \"white\", \"linecolor\": \"white\", \"ticks\": \"\"}, \"bgcolor\": \"#E5ECF6\", \"caxis\": {\"gridcolor\": \"white\", \"linecolor\": \"white\", \"ticks\": \"\"}}, \"title\": {\"x\": 0.05}, \"xaxis\": {\"automargin\": true, \"gridcolor\": \"white\", \"linecolor\": \"white\", \"ticks\": \"\", \"title\": {\"standoff\": 15}, \"zerolinecolor\": \"white\", \"zerolinewidth\": 2}, \"yaxis\": {\"automargin\": true, \"gridcolor\": \"white\", \"linecolor\": \"white\", \"ticks\": \"\", \"title\": {\"standoff\": 15}, \"zerolinecolor\": \"white\", \"zerolinewidth\": 2}}}, \"treemapcolorway\": [\"#46B005\", \"#112AA9\", \"#7611A9\", \"#A91197\", \"#A9114B\", \"#B00505\", \"#A8B005\", \"#15CDE6\"], \"uniformtext\": {\"minsize\": 10, \"mode\": \"hide\"}},                        {\"responsive\": true}                    ).then(function(){\n",
              "                            \n",
              "var gd = document.getElementById('47c4198a-6b04-4cf4-93ef-5d521748c42a');\n",
              "var x = new MutationObserver(function (mutations, observer) {{\n",
              "        var display = window.getComputedStyle(gd).display;\n",
              "        if (!display || display === 'none') {{\n",
              "            console.log([gd, 'removed!']);\n",
              "            Plotly.purge(gd);\n",
              "            observer.disconnect();\n",
              "        }}\n",
              "}});\n",
              "\n",
              "// Listen for the removal of the full notebook cells\n",
              "var notebookContainer = gd.closest('#notebook-container');\n",
              "if (notebookContainer) {{\n",
              "    x.observe(notebookContainer, {childList: true});\n",
              "}}\n",
              "\n",
              "// Listen for the clearing of the current output cell\n",
              "var outputEl = gd.closest('.output');\n",
              "if (outputEl) {{\n",
              "    x.observe(outputEl, {childList: true});\n",
              "}}\n",
              "\n",
              "                        })                };                            </script>        </div>\n",
              "</body>\n",
              "</html>"
            ]
          },
          "metadata": {
            "tags": []
          }
        }
      ]
    },
    {
      "cell_type": "code",
      "metadata": {
        "id": "Kw2-oLfW6_Zu",
        "colab_type": "code",
        "colab": {}
      },
      "source": [
        ""
      ],
      "execution_count": null,
      "outputs": []
    }
  ]
}